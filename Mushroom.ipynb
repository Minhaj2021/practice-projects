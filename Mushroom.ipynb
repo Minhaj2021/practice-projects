{
 "cells": [
  {
   "cell_type": "markdown",
   "id": "5566fedd",
   "metadata": {},
   "source": [
    "# Mushroom Project"
   ]
  },
  {
   "cell_type": "code",
   "execution_count": 137,
   "id": "0d393c79",
   "metadata": {},
   "outputs": [],
   "source": [
    "#importing required modules\n",
    "import pandas as pd\n",
    "import numpy as np\n",
    "import matplotlib.pyplot as plt\n",
    "import seaborn as s\n",
    "\n",
    "import warnings\n",
    "warnings.filterwarnings('ignore')"
   ]
  },
  {
   "cell_type": "code",
   "execution_count": 102,
   "id": "70dc3778",
   "metadata": {
    "scrolled": true
   },
   "outputs": [
    {
     "data": {
      "text/html": [
       "<div>\n",
       "<style scoped>\n",
       "    .dataframe tbody tr th:only-of-type {\n",
       "        vertical-align: middle;\n",
       "    }\n",
       "\n",
       "    .dataframe tbody tr th {\n",
       "        vertical-align: top;\n",
       "    }\n",
       "\n",
       "    .dataframe thead th {\n",
       "        text-align: right;\n",
       "    }\n",
       "</style>\n",
       "<table border=\"1\" class=\"dataframe\">\n",
       "  <thead>\n",
       "    <tr style=\"text-align: right;\">\n",
       "      <th></th>\n",
       "      <th>class</th>\n",
       "      <th>cap-shape</th>\n",
       "      <th>cap-surface</th>\n",
       "      <th>cap-color</th>\n",
       "      <th>bruises</th>\n",
       "      <th>odor</th>\n",
       "      <th>gill-attachment</th>\n",
       "      <th>gill-spacing</th>\n",
       "      <th>gill-size</th>\n",
       "      <th>gill-color</th>\n",
       "      <th>...</th>\n",
       "      <th>stalk-surface-below-ring</th>\n",
       "      <th>stalk-color-above-ring</th>\n",
       "      <th>stalk-color-below-ring</th>\n",
       "      <th>veil-type</th>\n",
       "      <th>veil-color</th>\n",
       "      <th>ring-number</th>\n",
       "      <th>ring-type</th>\n",
       "      <th>spore-print-color</th>\n",
       "      <th>population</th>\n",
       "      <th>habitat</th>\n",
       "    </tr>\n",
       "  </thead>\n",
       "  <tbody>\n",
       "    <tr>\n",
       "      <th>0</th>\n",
       "      <td>p</td>\n",
       "      <td>x</td>\n",
       "      <td>s</td>\n",
       "      <td>n</td>\n",
       "      <td>t</td>\n",
       "      <td>p</td>\n",
       "      <td>f</td>\n",
       "      <td>c</td>\n",
       "      <td>n</td>\n",
       "      <td>k</td>\n",
       "      <td>...</td>\n",
       "      <td>s</td>\n",
       "      <td>w</td>\n",
       "      <td>w</td>\n",
       "      <td>p</td>\n",
       "      <td>w</td>\n",
       "      <td>o</td>\n",
       "      <td>p</td>\n",
       "      <td>k</td>\n",
       "      <td>s</td>\n",
       "      <td>u</td>\n",
       "    </tr>\n",
       "    <tr>\n",
       "      <th>1</th>\n",
       "      <td>e</td>\n",
       "      <td>x</td>\n",
       "      <td>s</td>\n",
       "      <td>y</td>\n",
       "      <td>t</td>\n",
       "      <td>a</td>\n",
       "      <td>f</td>\n",
       "      <td>c</td>\n",
       "      <td>b</td>\n",
       "      <td>k</td>\n",
       "      <td>...</td>\n",
       "      <td>s</td>\n",
       "      <td>w</td>\n",
       "      <td>w</td>\n",
       "      <td>p</td>\n",
       "      <td>w</td>\n",
       "      <td>o</td>\n",
       "      <td>p</td>\n",
       "      <td>n</td>\n",
       "      <td>n</td>\n",
       "      <td>g</td>\n",
       "    </tr>\n",
       "    <tr>\n",
       "      <th>2</th>\n",
       "      <td>e</td>\n",
       "      <td>b</td>\n",
       "      <td>s</td>\n",
       "      <td>w</td>\n",
       "      <td>t</td>\n",
       "      <td>l</td>\n",
       "      <td>f</td>\n",
       "      <td>c</td>\n",
       "      <td>b</td>\n",
       "      <td>n</td>\n",
       "      <td>...</td>\n",
       "      <td>s</td>\n",
       "      <td>w</td>\n",
       "      <td>w</td>\n",
       "      <td>p</td>\n",
       "      <td>w</td>\n",
       "      <td>o</td>\n",
       "      <td>p</td>\n",
       "      <td>n</td>\n",
       "      <td>n</td>\n",
       "      <td>m</td>\n",
       "    </tr>\n",
       "    <tr>\n",
       "      <th>3</th>\n",
       "      <td>p</td>\n",
       "      <td>x</td>\n",
       "      <td>y</td>\n",
       "      <td>w</td>\n",
       "      <td>t</td>\n",
       "      <td>p</td>\n",
       "      <td>f</td>\n",
       "      <td>c</td>\n",
       "      <td>n</td>\n",
       "      <td>n</td>\n",
       "      <td>...</td>\n",
       "      <td>s</td>\n",
       "      <td>w</td>\n",
       "      <td>w</td>\n",
       "      <td>p</td>\n",
       "      <td>w</td>\n",
       "      <td>o</td>\n",
       "      <td>p</td>\n",
       "      <td>k</td>\n",
       "      <td>s</td>\n",
       "      <td>u</td>\n",
       "    </tr>\n",
       "    <tr>\n",
       "      <th>4</th>\n",
       "      <td>e</td>\n",
       "      <td>x</td>\n",
       "      <td>s</td>\n",
       "      <td>g</td>\n",
       "      <td>f</td>\n",
       "      <td>n</td>\n",
       "      <td>f</td>\n",
       "      <td>w</td>\n",
       "      <td>b</td>\n",
       "      <td>k</td>\n",
       "      <td>...</td>\n",
       "      <td>s</td>\n",
       "      <td>w</td>\n",
       "      <td>w</td>\n",
       "      <td>p</td>\n",
       "      <td>w</td>\n",
       "      <td>o</td>\n",
       "      <td>e</td>\n",
       "      <td>n</td>\n",
       "      <td>a</td>\n",
       "      <td>g</td>\n",
       "    </tr>\n",
       "  </tbody>\n",
       "</table>\n",
       "<p>5 rows × 23 columns</p>\n",
       "</div>"
      ],
      "text/plain": [
       "  class cap-shape cap-surface cap-color bruises odor gill-attachment  \\\n",
       "0     p         x           s         n       t    p               f   \n",
       "1     e         x           s         y       t    a               f   \n",
       "2     e         b           s         w       t    l               f   \n",
       "3     p         x           y         w       t    p               f   \n",
       "4     e         x           s         g       f    n               f   \n",
       "\n",
       "  gill-spacing gill-size gill-color  ... stalk-surface-below-ring  \\\n",
       "0            c         n          k  ...                        s   \n",
       "1            c         b          k  ...                        s   \n",
       "2            c         b          n  ...                        s   \n",
       "3            c         n          n  ...                        s   \n",
       "4            w         b          k  ...                        s   \n",
       "\n",
       "  stalk-color-above-ring stalk-color-below-ring veil-type veil-color  \\\n",
       "0                      w                      w         p          w   \n",
       "1                      w                      w         p          w   \n",
       "2                      w                      w         p          w   \n",
       "3                      w                      w         p          w   \n",
       "4                      w                      w         p          w   \n",
       "\n",
       "  ring-number ring-type spore-print-color population habitat  \n",
       "0           o         p                 k          s       u  \n",
       "1           o         p                 n          n       g  \n",
       "2           o         p                 n          n       m  \n",
       "3           o         p                 k          s       u  \n",
       "4           o         e                 n          a       g  \n",
       "\n",
       "[5 rows x 23 columns]"
      ]
     },
     "execution_count": 102,
     "metadata": {},
     "output_type": "execute_result"
    }
   ],
   "source": [
    "mu=pd.read_csv('mushroom.csv')\n",
    "mu.head(5)"
   ]
  },
  {
   "cell_type": "markdown",
   "id": "7f8c0ca3",
   "metadata": {},
   "source": [
    "we can observe that this is Classificaton model"
   ]
  },
  {
   "cell_type": "code",
   "execution_count": 103,
   "id": "e19f73a0",
   "metadata": {},
   "outputs": [
    {
     "data": {
      "text/plain": [
       "(8124, 23)"
      ]
     },
     "execution_count": 103,
     "metadata": {},
     "output_type": "execute_result"
    }
   ],
   "source": [
    "mu.shape"
   ]
  },
  {
   "cell_type": "markdown",
   "id": "3d434b20",
   "metadata": {},
   "source": [
    "we have 8124 rows and 23 columns"
   ]
  },
  {
   "cell_type": "code",
   "execution_count": 104,
   "id": "0acfb699",
   "metadata": {},
   "outputs": [
    {
     "data": {
      "text/plain": [
       "class                       object\n",
       "cap-shape                   object\n",
       "cap-surface                 object\n",
       "cap-color                   object\n",
       "bruises                     object\n",
       "odor                        object\n",
       "gill-attachment             object\n",
       "gill-spacing                object\n",
       "gill-size                   object\n",
       "gill-color                  object\n",
       "stalk-shape                 object\n",
       "stalk-root                  object\n",
       "stalk-surface-above-ring    object\n",
       "stalk-surface-below-ring    object\n",
       "stalk-color-above-ring      object\n",
       "stalk-color-below-ring      object\n",
       "veil-type                   object\n",
       "veil-color                  object\n",
       "ring-number                 object\n",
       "ring-type                   object\n",
       "spore-print-color           object\n",
       "population                  object\n",
       "habitat                     object\n",
       "dtype: object"
      ]
     },
     "execution_count": 104,
     "metadata": {},
     "output_type": "execute_result"
    }
   ],
   "source": [
    "mu.dtypes"
   ]
  },
  {
   "cell_type": "markdown",
   "id": "1dda7b23",
   "metadata": {},
   "source": [
    "We have string type of data"
   ]
  },
  {
   "cell_type": "markdown",
   "id": "7f5b84aa",
   "metadata": {},
   "source": [
    "We can observe that this is classification problem"
   ]
  },
  {
   "cell_type": "code",
   "execution_count": 105,
   "id": "af90f93e",
   "metadata": {},
   "outputs": [
    {
     "data": {
      "text/plain": [
       "class                       0\n",
       "cap-shape                   0\n",
       "cap-surface                 0\n",
       "cap-color                   0\n",
       "bruises                     0\n",
       "odor                        0\n",
       "gill-attachment             0\n",
       "gill-spacing                0\n",
       "gill-size                   0\n",
       "gill-color                  0\n",
       "stalk-shape                 0\n",
       "stalk-root                  0\n",
       "stalk-surface-above-ring    0\n",
       "stalk-surface-below-ring    0\n",
       "stalk-color-above-ring      0\n",
       "stalk-color-below-ring      0\n",
       "veil-type                   0\n",
       "veil-color                  0\n",
       "ring-number                 0\n",
       "ring-type                   0\n",
       "spore-print-color           0\n",
       "population                  0\n",
       "habitat                     0\n",
       "dtype: int64"
      ]
     },
     "execution_count": 105,
     "metadata": {},
     "output_type": "execute_result"
    }
   ],
   "source": [
    "mu.isnull().sum()"
   ]
  },
  {
   "cell_type": "markdown",
   "id": "3b45089f",
   "metadata": {},
   "source": [
    "We can observe there is no misssing values"
   ]
  },
  {
   "cell_type": "code",
   "execution_count": 106,
   "id": "ee2f3b2d",
   "metadata": {},
   "outputs": [
    {
     "data": {
      "text/plain": [
       "array(['p', 'e'], dtype=object)"
      ]
     },
     "execution_count": 106,
     "metadata": {},
     "output_type": "execute_result"
    }
   ],
   "source": [
    "mu['class'].unique()\n",
    "#unique values in target varibale"
   ]
  },
  {
   "cell_type": "markdown",
   "id": "80dd3bce",
   "metadata": {},
   "source": [
    "Here two values in target varibale 'class'"
   ]
  },
  {
   "cell_type": "code",
   "execution_count": 107,
   "id": "6f1e26e8",
   "metadata": {},
   "outputs": [
    {
     "data": {
      "text/plain": [
       "e    4208\n",
       "p    3916\n",
       "Name: class, dtype: int64"
      ]
     },
     "execution_count": 107,
     "metadata": {},
     "output_type": "execute_result"
    }
   ],
   "source": [
    "mu['class'].value_counts()"
   ]
  },
  {
   "cell_type": "markdown",
   "id": "791d7774",
   "metadata": {},
   "source": [
    "we can observe that we have class imbalance in our target variable"
   ]
  },
  {
   "cell_type": "markdown",
   "id": "56155ab3",
   "metadata": {},
   "source": [
    "# EDA"
   ]
  },
  {
   "cell_type": "markdown",
   "id": "e9137086",
   "metadata": {},
   "source": [
    "# Univariate Analysis"
   ]
  },
  {
   "cell_type": "code",
   "execution_count": 108,
   "id": "a801aad7",
   "metadata": {},
   "outputs": [
    {
     "data": {
      "text/plain": [
       "<AxesSubplot:xlabel='class', ylabel='count'>"
      ]
     },
     "execution_count": 108,
     "metadata": {},
     "output_type": "execute_result"
    },
    {
     "data": {
      "image/png": "[encoded data removed]",
      "text/plain": [
       "<Figure size 432x288 with 1 Axes>"
      ]
     },
     "metadata": {
      "needs_background": "light"
     },
     "output_type": "display_data"
    }
   ],
   "source": [
    "s.countplot(mu['class'])"
   ]
  },
  {
   "cell_type": "markdown",
   "id": "50402554",
   "metadata": {},
   "source": [
    "We can observe that the imbalance of the data"
   ]
  },
  {
   "cell_type": "markdown",
   "id": "9a80515d",
   "metadata": {},
   "source": [
    "Seperating Independent and Target variable"
   ]
  },
  {
   "cell_type": "code",
   "execution_count": 110,
   "id": "a1fd7abd",
   "metadata": {},
   "outputs": [],
   "source": [
    "x=mu.drop(['class'],axis=1)\n",
    "y=mu[['class']]"
   ]
  },
  {
   "cell_type": "markdown",
   "id": "02bbf616",
   "metadata": {},
   "source": [
    "y is our target variable and x is the indeppendent variables"
   ]
  },
  {
   "cell_type": "code",
   "execution_count": 111,
   "id": "b1318e6d",
   "metadata": {
    "scrolled": false
   },
   "outputs": [
    {
     "data": {
      "text/html": [
       "<div>\n",
       "<style scoped>\n",
       "    .dataframe tbody tr th:only-of-type {\n",
       "        vertical-align: middle;\n",
       "    }\n",
       "\n",
       "    .dataframe tbody tr th {\n",
       "        vertical-align: top;\n",
       "    }\n",
       "\n",
       "    .dataframe thead th {\n",
       "        text-align: right;\n",
       "    }\n",
       "</style>\n",
       "<table border=\"1\" class=\"dataframe\">\n",
       "  <thead>\n",
       "    <tr style=\"text-align: right;\">\n",
       "      <th></th>\n",
       "      <th>class</th>\n",
       "    </tr>\n",
       "  </thead>\n",
       "  <tbody>\n",
       "    <tr>\n",
       "      <th>0</th>\n",
       "      <td>p</td>\n",
       "    </tr>\n",
       "    <tr>\n",
       "      <th>1</th>\n",
       "      <td>e</td>\n",
       "    </tr>\n",
       "    <tr>\n",
       "      <th>2</th>\n",
       "      <td>e</td>\n",
       "    </tr>\n",
       "    <tr>\n",
       "      <th>3</th>\n",
       "      <td>p</td>\n",
       "    </tr>\n",
       "    <tr>\n",
       "      <th>4</th>\n",
       "      <td>e</td>\n",
       "    </tr>\n",
       "  </tbody>\n",
       "</table>\n",
       "</div>"
      ],
      "text/plain": [
       "  class\n",
       "0     p\n",
       "1     e\n",
       "2     e\n",
       "3     p\n",
       "4     e"
      ]
     },
     "execution_count": 111,
     "metadata": {},
     "output_type": "execute_result"
    }
   ],
   "source": [
    "y.head()"
   ]
  },
  {
   "cell_type": "code",
   "execution_count": 112,
   "id": "f03e643e",
   "metadata": {},
   "outputs": [
    {
     "data": {
      "text/plain": [
       "Index(['class', 'cap-shape', 'cap-surface', 'cap-color', 'bruises', 'odor',\n",
       "       'gill-attachment', 'gill-spacing', 'gill-size', 'gill-color',\n",
       "       'stalk-shape', 'stalk-root', 'stalk-surface-above-ring',\n",
       "       'stalk-surface-below-ring', 'stalk-color-above-ring',\n",
       "       'stalk-color-below-ring', 'veil-type', 'veil-color', 'ring-number',\n",
       "       'ring-type', 'spore-print-color', 'population', 'habitat'],\n",
       "      dtype='object')"
      ]
     },
     "execution_count": 112,
     "metadata": {},
     "output_type": "execute_result"
    }
   ],
   "source": [
    "mu.columns"
   ]
  },
  {
   "cell_type": "markdown",
   "id": "966f4893",
   "metadata": {},
   "source": [
    "Names of the columns"
   ]
  },
  {
   "cell_type": "markdown",
   "id": "556fabbd",
   "metadata": {},
   "source": [
    "# Encoding"
   ]
  },
  {
   "cell_type": "code",
   "execution_count": 113,
   "id": "4f744a08",
   "metadata": {},
   "outputs": [],
   "source": [
    "from sklearn.preprocessing import OrdinalEncoder\n",
    "OE=OrdinalEncoder()\n",
    "x=OE.fit_transform(x)\n",
    "#encoded independent variables"
   ]
  },
  {
   "cell_type": "code",
   "execution_count": 114,
   "id": "57acac8a",
   "metadata": {},
   "outputs": [],
   "source": [
    "from sklearn.preprocessing import LabelEncoder\n",
    "LE=LabelEncoder()\n",
    "y=LE.fit_transform(y)\n",
    "#encoded target variables"
   ]
  },
  {
   "cell_type": "code",
   "execution_count": 115,
   "id": "76e0780f",
   "metadata": {},
   "outputs": [
    {
     "name": "stdout",
     "output_type": "stream",
     "text": [
      "[[5. 2. 4. ... 2. 3. 5.]\n",
      " [5. 2. 9. ... 3. 2. 1.]\n",
      " [0. 2. 8. ... 3. 2. 3.]\n",
      " ...\n",
      " [2. 2. 4. ... 0. 1. 2.]\n",
      " [3. 3. 4. ... 7. 4. 2.]\n",
      " [5. 2. 4. ... 4. 1. 2.]] [1 0 0 ... 0 1 0]\n"
     ]
    }
   ],
   "source": [
    "print(x,y)"
   ]
  },
  {
   "cell_type": "markdown",
   "id": "32c526e2",
   "metadata": {},
   "source": [
    "We encoded target and independent variables using ordinal and label encoder"
   ]
  },
  {
   "cell_type": "markdown",
   "id": "7db39dd8",
   "metadata": {},
   "source": [
    "# Treating Imbalance of the dataset"
   ]
  },
  {
   "cell_type": "markdown",
   "id": "70185397",
   "metadata": {},
   "source": [
    "# UnderSampling"
   ]
  },
  {
   "cell_type": "code",
   "execution_count": 116,
   "id": "6216b866",
   "metadata": {},
   "outputs": [],
   "source": [
    "from imblearn.under_sampling import NearMiss\n",
    "NM=NearMiss()\n",
    "x_new,y_new=NM.fit_resample(x,y)"
   ]
  },
  {
   "cell_type": "markdown",
   "id": "cb49b148",
   "metadata": {},
   "source": [
    "We balance the dataset"
   ]
  },
  {
   "cell_type": "code",
   "execution_count": 117,
   "id": "d4b18532",
   "metadata": {},
   "outputs": [],
   "source": [
    "#importing the modules for models \n",
    "from sklearn.tree import DecisionTreeClassifier\n",
    "from sklearn.ensemble import RandomForestClassifier\n",
    "from sklearn.svm import SVC\n",
    "from sklearn.neighbors import KNeighborsClassifier\n",
    "from sklearn.metrics import accuracy_score,classification_report\n",
    "from sklearn.model_selection import train_test_split"
   ]
  },
  {
   "cell_type": "code",
   "execution_count": 118,
   "id": "111ba16e",
   "metadata": {},
   "outputs": [],
   "source": [
    "x_train,x_test,y_train,y_test=train_test_split(x,y,test_size=0.25,random_state=48)"
   ]
  },
  {
   "cell_type": "markdown",
   "id": "5ed52f13",
   "metadata": {},
   "source": [
    "Split the data into training and testing data"
   ]
  },
  {
   "cell_type": "code",
   "execution_count": 119,
   "id": "4fa7ee6c",
   "metadata": {},
   "outputs": [
    {
     "data": {
      "text/plain": [
       "(6093, 22)"
      ]
     },
     "execution_count": 119,
     "metadata": {},
     "output_type": "execute_result"
    }
   ],
   "source": [
    "x_train.shape"
   ]
  },
  {
   "cell_type": "code",
   "execution_count": 120,
   "id": "9e605b02",
   "metadata": {},
   "outputs": [
    {
     "data": {
      "text/plain": [
       "(6093,)"
      ]
     },
     "execution_count": 120,
     "metadata": {},
     "output_type": "execute_result"
    }
   ],
   "source": [
    "y_train.shape"
   ]
  },
  {
   "cell_type": "markdown",
   "id": "21505ba3",
   "metadata": {},
   "source": [
    "In training dataset we have 6093 rows"
   ]
  },
  {
   "cell_type": "code",
   "execution_count": 121,
   "id": "8513e727",
   "metadata": {},
   "outputs": [
    {
     "data": {
      "text/plain": [
       "(2031, 22)"
      ]
     },
     "execution_count": 121,
     "metadata": {},
     "output_type": "execute_result"
    }
   ],
   "source": [
    "x_test.shape"
   ]
  },
  {
   "cell_type": "code",
   "execution_count": 122,
   "id": "0cd95459",
   "metadata": {},
   "outputs": [
    {
     "data": {
      "text/plain": [
       "(2031,)"
      ]
     },
     "execution_count": 122,
     "metadata": {},
     "output_type": "execute_result"
    }
   ],
   "source": [
    "y_test.shape"
   ]
  },
  {
   "cell_type": "markdown",
   "id": "99f070f0",
   "metadata": {},
   "source": [
    "In testing dataset we have 2031 rows"
   ]
  },
  {
   "cell_type": "code",
   "execution_count": 123,
   "id": "ec9ed942",
   "metadata": {},
   "outputs": [
    {
     "name": "stdout",
     "output_type": "stream",
     "text": [
      "              precision    recall  f1-score   support\n",
      "\n",
      "           0       1.00      1.00      1.00      1048\n",
      "           1       1.00      1.00      1.00       983\n",
      "\n",
      "    accuracy                           1.00      2031\n",
      "   macro avg       1.00      1.00      1.00      2031\n",
      "weighted avg       1.00      1.00      1.00      2031\n",
      "\n"
     ]
    }
   ],
   "source": [
    "#decisiontreeclassifier\n",
    "DTC=DecisionTreeClassifier()\n",
    "DTC.fit(x_train,y_train)\n",
    "preddtc=DTC.predict(x_test)\n",
    "acc=classification_report(y_test,preddtc)\n",
    "print(acc)"
   ]
  },
  {
   "cell_type": "markdown",
   "id": "14d5ec2f",
   "metadata": {},
   "source": [
    "accuracy of Decision tree is 100"
   ]
  },
  {
   "cell_type": "code",
   "execution_count": 124,
   "id": "65d090ea",
   "metadata": {},
   "outputs": [
    {
     "name": "stdout",
     "output_type": "stream",
     "text": [
      "              precision    recall  f1-score   support\n",
      "\n",
      "           0       1.00      1.00      1.00      1048\n",
      "           1       1.00      1.00      1.00       983\n",
      "\n",
      "    accuracy                           1.00      2031\n",
      "   macro avg       1.00      1.00      1.00      2031\n",
      "weighted avg       1.00      1.00      1.00      2031\n",
      "\n"
     ]
    }
   ],
   "source": [
    "#random forest\n",
    "RFC=RandomForestClassifier()\n",
    "RFC.fit(x_train,y_train)\n",
    "predrfc=RFC.predict(x_test)\n",
    "acc=classification_report(y_test,predrfc)\n",
    "print(acc)"
   ]
  },
  {
   "cell_type": "markdown",
   "id": "5959c3e9",
   "metadata": {},
   "source": [
    "accuracy_score of random forest classifier is also 100"
   ]
  },
  {
   "cell_type": "code",
   "execution_count": 125,
   "id": "bb990720",
   "metadata": {},
   "outputs": [
    {
     "name": "stdout",
     "output_type": "stream",
     "text": [
      "              precision    recall  f1-score   support\n",
      "\n",
      "           0       0.98      1.00      0.99      1048\n",
      "           1       1.00      0.97      0.99       983\n",
      "\n",
      "    accuracy                           0.99      2031\n",
      "   macro avg       0.99      0.99      0.99      2031\n",
      "weighted avg       0.99      0.99      0.99      2031\n",
      "\n"
     ]
    }
   ],
   "source": [
    "#support vector machine\n",
    "svc=SVC()\n",
    "svc.fit(x_train,y_train)\n",
    "predsvc=svc.predict(x_test)\n",
    "acc=classification_report(y_test,predsvc)\n",
    "print(acc)"
   ]
  },
  {
   "cell_type": "markdown",
   "id": "73ba82c9",
   "metadata": {},
   "source": [
    "accuracy_score of support vector machine is 99"
   ]
  },
  {
   "cell_type": "code",
   "execution_count": 126,
   "id": "c2bfd6cf",
   "metadata": {},
   "outputs": [
    {
     "name": "stdout",
     "output_type": "stream",
     "text": [
      "              precision    recall  f1-score   support\n",
      "\n",
      "           0       1.00      1.00      1.00      1048\n",
      "           1       1.00      1.00      1.00       983\n",
      "\n",
      "    accuracy                           1.00      2031\n",
      "   macro avg       1.00      1.00      1.00      2031\n",
      "weighted avg       1.00      1.00      1.00      2031\n",
      "\n"
     ]
    }
   ],
   "source": [
    "#Knearest classifier\n",
    "knn=KNeighborsClassifier()\n",
    "knn.fit(x_train,y_train)\n",
    "predknn=knn.predict(x_test)\n",
    "acc=classification_report(y_test,predknn)\n",
    "print(acc)"
   ]
  },
  {
   "cell_type": "markdown",
   "id": "cd3578d0",
   "metadata": {},
   "source": [
    "Accuracy of knearest classifier is 100"
   ]
  },
  {
   "cell_type": "markdown",
   "id": "7acbe027",
   "metadata": {},
   "source": [
    "# Cross validation score"
   ]
  },
  {
   "cell_type": "code",
   "execution_count": 127,
   "id": "2d6f5db2",
   "metadata": {},
   "outputs": [],
   "source": [
    "#importing modules\n",
    "from sklearn.model_selection import cross_val_score"
   ]
  },
  {
   "cell_type": "code",
   "execution_count": 128,
   "id": "a69529fc",
   "metadata": {
    "scrolled": true
   },
   "outputs": [
    {
     "name": "stdout",
     "output_type": "stream",
     "text": [
      "0.9204825209256523\n"
     ]
    }
   ],
   "source": [
    "#checking mean of cross validation score of decision tree\n",
    "print(cross_val_score(DTC,x,y,cv=6).mean())"
   ]
  },
  {
   "cell_type": "markdown",
   "id": "22c25ed3",
   "metadata": {},
   "source": [
    "cv score of decision tree is 92"
   ]
  },
  {
   "cell_type": "code",
   "execution_count": 129,
   "id": "e61f60c2",
   "metadata": {},
   "outputs": [
    {
     "name": "stdout",
     "output_type": "stream",
     "text": [
      "0.9262678483505663\n"
     ]
    }
   ],
   "source": [
    "#checking mean of cross validation score of random forest\n",
    "print(cross_val_score(RFC,x,y,cv=6).mean())"
   ]
  },
  {
   "cell_type": "markdown",
   "id": "130269be",
   "metadata": {},
   "source": [
    "cv score of random forest is 93"
   ]
  },
  {
   "cell_type": "code",
   "execution_count": 130,
   "id": "f6dba42f",
   "metadata": {},
   "outputs": [
    {
     "name": "stdout",
     "output_type": "stream",
     "text": [
      "0.8835548990645004\n"
     ]
    }
   ],
   "source": [
    "#checking mean of cross validation score of support vector machine\n",
    "print(cross_val_score(svc,x,y,cv=6).mean())"
   ]
  },
  {
   "cell_type": "markdown",
   "id": "f3aeea42",
   "metadata": {},
   "source": [
    "cv score of support vector is 88"
   ]
  },
  {
   "cell_type": "code",
   "execution_count": 131,
   "id": "b7fd8b45",
   "metadata": {},
   "outputs": [
    {
     "name": "stdout",
     "output_type": "stream",
     "text": [
      "0.9293451501723289\n"
     ]
    }
   ],
   "source": [
    "#checking mean of cross validation score of knearestclassifier\n",
    "print(cross_val_score(knn,x,y,cv=6).mean())"
   ]
  },
  {
   "cell_type": "markdown",
   "id": "e931556b",
   "metadata": {},
   "source": [
    "CV score of knearestclassifier is 92"
   ]
  },
  {
   "cell_type": "markdown",
   "id": "87521211",
   "metadata": {},
   "source": [
    "So the least difference accuarcy score and cv score of random forest classifier is less compare other 3 algorithms\n",
    "so we take random forest as our best model"
   ]
  },
  {
   "cell_type": "markdown",
   "id": "3552468a",
   "metadata": {},
   "source": [
    "# Hyper Parameter Tuning"
   ]
  },
  {
   "cell_type": "code",
   "execution_count": 132,
   "id": "555dfb38",
   "metadata": {},
   "outputs": [],
   "source": [
    "#importing module for hyper parameter\n",
    "from sklearn.model_selection import GridSearchCV\n",
    "import numpy as np"
   ]
  },
  {
   "cell_type": "code",
   "execution_count": 133,
   "id": "898c0cd4",
   "metadata": {},
   "outputs": [],
   "source": [
    "parameter={'n_estimators': np.arange(25,50),\n",
    "           'max_depth':np.arange(2,10),\n",
    "          'criterion':['gini','entropy'],'max_features':['auto', 'sqrt', 'log2']}"
   ]
  },
  {
   "cell_type": "markdown",
   "id": "5734b23e",
   "metadata": {},
   "source": [
    "Store parametersin variable"
   ]
  },
  {
   "cell_type": "code",
   "execution_count": 134,
   "id": "9736e3c7",
   "metadata": {},
   "outputs": [],
   "source": [
    "GV=GridSearchCV(RFC,parameter,cv=7)"
   ]
  },
  {
   "cell_type": "markdown",
   "id": "9f0c3f21",
   "metadata": {},
   "source": [
    "Calling through gridsearch cv"
   ]
  },
  {
   "cell_type": "code",
   "execution_count": 138,
   "id": "b51dcf44",
   "metadata": {},
   "outputs": [
    {
     "data": {
      "text/plain": [
       "GridSearchCV(cv=7, estimator=RandomForestClassifier(),\n",
       "             param_grid={'criterion': ['gini', 'entropy'],\n",
       "                         'max_depth': array([2, 3, 4, 5, 6, 7, 8, 9]),\n",
       "                         'max_features': ['auto', 'sqrt', 'log2'],\n",
       "                         'n_estimators': array([25, 26, 27, 28, 29, 30, 31, 32, 33, 34, 35, 36, 37, 38, 39, 40, 41,\n",
       "       42, 43, 44, 45, 46, 47, 48, 49])})"
      ]
     },
     "execution_count": 138,
     "metadata": {},
     "output_type": "execute_result"
    }
   ],
   "source": [
    "GV.fit(x_train,y_train)"
   ]
  },
  {
   "cell_type": "markdown",
   "id": "465d7ce8",
   "metadata": {},
   "source": [
    "we have fitted the trained data"
   ]
  },
  {
   "cell_type": "code",
   "execution_count": 139,
   "id": "97e9d734",
   "metadata": {},
   "outputs": [
    {
     "data": {
      "text/plain": [
       "{'criterion': 'gini',\n",
       " 'max_depth': 8,\n",
       " 'max_features': 'auto',\n",
       " 'n_estimators': 28}"
      ]
     },
     "execution_count": 139,
     "metadata": {},
     "output_type": "execute_result"
    }
   ],
   "source": [
    "GV.best_params_"
   ]
  },
  {
   "cell_type": "markdown",
   "id": "f487e04b",
   "metadata": {},
   "source": [
    "We got best parameters"
   ]
  },
  {
   "cell_type": "markdown",
   "id": "49d8f183",
   "metadata": {},
   "source": [
    "Performing model with best parameters"
   ]
  },
  {
   "cell_type": "code",
   "execution_count": 142,
   "id": "37faae2d",
   "metadata": {},
   "outputs": [
    {
     "name": "stdout",
     "output_type": "stream",
     "text": [
      "98.91678975873953\n"
     ]
    }
   ],
   "source": [
    "final=RandomForestClassifier(criterion='gini',max_depth=4,max_features='auto',n_estimators=28)\n",
    "final.fit(x_train,y_train)\n",
    "predfinal=final.predict(x_test)\n",
    "acc=accuracy_score(y_test,predfinal)\n",
    "print(acc*100)"
   ]
  },
  {
   "cell_type": "markdown",
   "id": "c9c58ecb",
   "metadata": {},
   "source": [
    "So we got 98.9% accuracy"
   ]
  },
  {
   "cell_type": "markdown",
   "id": "93ac0bac",
   "metadata": {},
   "source": [
    "# Saving the model"
   ]
  },
  {
   "cell_type": "code",
   "execution_count": 143,
   "id": "2d7a4c73",
   "metadata": {},
   "outputs": [
    {
     "data": {
      "text/plain": [
       "['Final.pkl']"
      ]
     },
     "execution_count": 143,
     "metadata": {},
     "output_type": "execute_result"
    }
   ],
   "source": [
    "import joblib as jb\n",
    "jb.dump(final,\"Final.pkl\")"
   ]
  },
  {
   "cell_type": "markdown",
   "id": "5e365931",
   "metadata": {},
   "source": [
    "We store the model in .pkl file"
   ]
  }
 ],
 "metadata": {
  "kernelspec": {
   "display_name": "Python 3",
   "language": "python",
   "name": "python3"
  },
  "language_info": {
   "codemirror_mode": {
    "name": "ipython",
    "version": 3
   },
   "file_extension": ".py",
   "mimetype": "text/x-python",
   "name": "python",
   "nbconvert_exporter": "python",
   "pygments_lexer": "ipython3",
   "version": "3.8.8"
  }
 },
 "nbformat": 4,
 "nbformat_minor": 5
}
