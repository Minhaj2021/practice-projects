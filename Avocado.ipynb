{
 "cells": [
  {
   "cell_type": "markdown",
   "id": "bf54df29",
   "metadata": {},
   "source": [
    "# Avocado"
   ]
  },
  {
   "cell_type": "code",
   "execution_count": 2,
   "id": "1a431455",
   "metadata": {},
   "outputs": [],
   "source": [
    "import pandas as pd\n",
    "import numpy as np\n",
    "import warnings\n",
    "warnings.filterwarnings('ignore')\n",
    "import seaborn as sns\n",
    "import matplotlib.pyplot as plt\n",
    "from sklearn.tree import DecisionTreeClassifier\n",
    "from sklearn.svm import SVC\n",
    "from sklearn.linear_model import LogisticRegression\n",
    "from sklearn.ensemble import RandomForestClassifier\n",
    "from sklearn.metrics import accuracy_score,classification_report,confusion_matrix,roc_curve,roc_auc_score\n",
    "from sklearn.preprocessing import StandardScaler,LabelEncoder\n",
    "from sklearn.model_selection import train_test_split,cross_val_score,GridSearchCV\n",
    "from sklearn.decomposition import PCA\n",
    "from sklearn.ensemble import AdaBoostClassifier"
   ]
  },
  {
   "cell_type": "markdown",
   "id": "924c5fb9",
   "metadata": {},
   "source": [
    "Importing required modules"
   ]
  },
  {
   "cell_type": "code",
   "execution_count": 5,
   "id": "81070757",
   "metadata": {},
   "outputs": [],
   "source": [
    "df=pd.read_csv(r\"C:\\Users\\Minhaj\\Downloads\\avocado.csv.zip\",index_col=0)"
   ]
  },
  {
   "cell_type": "markdown",
   "id": "55aa423c",
   "metadata": {},
   "source": [
    "Importing dataset"
   ]
  },
  {
   "cell_type": "code",
   "execution_count": 3,
   "id": "ffde6e67",
   "metadata": {},
   "outputs": [
    {
     "data": {
      "text/html": [
       "<div>\n",
       "<style scoped>\n",
       "    .dataframe tbody tr th:only-of-type {\n",
       "        vertical-align: middle;\n",
       "    }\n",
       "\n",
       "    .dataframe tbody tr th {\n",
       "        vertical-align: top;\n",
       "    }\n",
       "\n",
       "    .dataframe thead th {\n",
       "        text-align: right;\n",
       "    }\n",
       "</style>\n",
       "<table border=\"1\" class=\"dataframe\">\n",
       "  <thead>\n",
       "    <tr style=\"text-align: right;\">\n",
       "      <th></th>\n",
       "      <th>Date</th>\n",
       "      <th>AveragePrice</th>\n",
       "      <th>Total Volume</th>\n",
       "      <th>4046</th>\n",
       "      <th>4225</th>\n",
       "      <th>4770</th>\n",
       "      <th>Total Bags</th>\n",
       "      <th>Small Bags</th>\n",
       "      <th>Large Bags</th>\n",
       "      <th>XLarge Bags</th>\n",
       "      <th>type</th>\n",
       "      <th>year</th>\n",
       "      <th>region</th>\n",
       "    </tr>\n",
       "  </thead>\n",
       "  <tbody>\n",
       "    <tr>\n",
       "      <th>0</th>\n",
       "      <td>2015-12-27</td>\n",
       "      <td>1.33</td>\n",
       "      <td>64236.62</td>\n",
       "      <td>1036.74</td>\n",
       "      <td>54454.85</td>\n",
       "      <td>48.16</td>\n",
       "      <td>8696.87</td>\n",
       "      <td>8603.62</td>\n",
       "      <td>93.25</td>\n",
       "      <td>0.0</td>\n",
       "      <td>conventional</td>\n",
       "      <td>2015</td>\n",
       "      <td>Albany</td>\n",
       "    </tr>\n",
       "    <tr>\n",
       "      <th>1</th>\n",
       "      <td>2015-12-20</td>\n",
       "      <td>1.35</td>\n",
       "      <td>54876.98</td>\n",
       "      <td>674.28</td>\n",
       "      <td>44638.81</td>\n",
       "      <td>58.33</td>\n",
       "      <td>9505.56</td>\n",
       "      <td>9408.07</td>\n",
       "      <td>97.49</td>\n",
       "      <td>0.0</td>\n",
       "      <td>conventional</td>\n",
       "      <td>2015</td>\n",
       "      <td>Albany</td>\n",
       "    </tr>\n",
       "    <tr>\n",
       "      <th>2</th>\n",
       "      <td>2015-12-13</td>\n",
       "      <td>0.93</td>\n",
       "      <td>118220.22</td>\n",
       "      <td>794.70</td>\n",
       "      <td>109149.67</td>\n",
       "      <td>130.50</td>\n",
       "      <td>8145.35</td>\n",
       "      <td>8042.21</td>\n",
       "      <td>103.14</td>\n",
       "      <td>0.0</td>\n",
       "      <td>conventional</td>\n",
       "      <td>2015</td>\n",
       "      <td>Albany</td>\n",
       "    </tr>\n",
       "    <tr>\n",
       "      <th>3</th>\n",
       "      <td>2015-12-06</td>\n",
       "      <td>1.08</td>\n",
       "      <td>78992.15</td>\n",
       "      <td>1132.00</td>\n",
       "      <td>71976.41</td>\n",
       "      <td>72.58</td>\n",
       "      <td>5811.16</td>\n",
       "      <td>5677.40</td>\n",
       "      <td>133.76</td>\n",
       "      <td>0.0</td>\n",
       "      <td>conventional</td>\n",
       "      <td>2015</td>\n",
       "      <td>Albany</td>\n",
       "    </tr>\n",
       "    <tr>\n",
       "      <th>4</th>\n",
       "      <td>2015-11-29</td>\n",
       "      <td>1.28</td>\n",
       "      <td>51039.60</td>\n",
       "      <td>941.48</td>\n",
       "      <td>43838.39</td>\n",
       "      <td>75.78</td>\n",
       "      <td>6183.95</td>\n",
       "      <td>5986.26</td>\n",
       "      <td>197.69</td>\n",
       "      <td>0.0</td>\n",
       "      <td>conventional</td>\n",
       "      <td>2015</td>\n",
       "      <td>Albany</td>\n",
       "    </tr>\n",
       "  </tbody>\n",
       "</table>\n",
       "</div>"
      ],
      "text/plain": [
       "         Date  AveragePrice  Total Volume     4046       4225    4770  \\\n",
       "0  2015-12-27          1.33      64236.62  1036.74   54454.85   48.16   \n",
       "1  2015-12-20          1.35      54876.98   674.28   44638.81   58.33   \n",
       "2  2015-12-13          0.93     118220.22   794.70  109149.67  130.50   \n",
       "3  2015-12-06          1.08      78992.15  1132.00   71976.41   72.58   \n",
       "4  2015-11-29          1.28      51039.60   941.48   43838.39   75.78   \n",
       "\n",
       "   Total Bags  Small Bags  Large Bags  XLarge Bags          type  year  region  \n",
       "0     8696.87     8603.62       93.25          0.0  conventional  2015  Albany  \n",
       "1     9505.56     9408.07       97.49          0.0  conventional  2015  Albany  \n",
       "2     8145.35     8042.21      103.14          0.0  conventional  2015  Albany  \n",
       "3     5811.16     5677.40      133.76          0.0  conventional  2015  Albany  \n",
       "4     6183.95     5986.26      197.69          0.0  conventional  2015  Albany  "
      ]
     },
     "execution_count": 3,
     "metadata": {},
     "output_type": "execute_result"
    }
   ],
   "source": [
    "df.head()"
   ]
  },
  {
   "cell_type": "markdown",
   "id": "1d9f903f",
   "metadata": {},
   "source": [
    "Sample data"
   ]
  },
  {
   "cell_type": "code",
   "execution_count": 4,
   "id": "f612a5a3",
   "metadata": {},
   "outputs": [
    {
     "data": {
      "text/plain": [
       "Index(['Date', 'AveragePrice', 'Total Volume', '4046', '4225', '4770',\n",
       "       'Total Bags', 'Small Bags', 'Large Bags', 'XLarge Bags', 'type', 'year',\n",
       "       'region'],\n",
       "      dtype='object')"
      ]
     },
     "execution_count": 4,
     "metadata": {},
     "output_type": "execute_result"
    }
   ],
   "source": [
    "df.columns"
   ]
  },
  {
   "cell_type": "markdown",
   "id": "bd680a96",
   "metadata": {},
   "source": [
    "Column names of dataset"
   ]
  },
  {
   "cell_type": "code",
   "execution_count": 5,
   "id": "7d0267d4",
   "metadata": {},
   "outputs": [
    {
     "data": {
      "text/plain": [
       "(18249, 13)"
      ]
     },
     "execution_count": 5,
     "metadata": {},
     "output_type": "execute_result"
    }
   ],
   "source": [
    "df.shape"
   ]
  },
  {
   "cell_type": "markdown",
   "id": "8e8b4168",
   "metadata": {},
   "source": [
    "Dataset have 18249 rows and 13 columns"
   ]
  },
  {
   "cell_type": "code",
   "execution_count": 6,
   "id": "4a0e6b9b",
   "metadata": {},
   "outputs": [
    {
     "data": {
      "text/plain": [
       "Date             object\n",
       "AveragePrice    float64\n",
       "Total Volume    float64\n",
       "4046            float64\n",
       "4225            float64\n",
       "4770            float64\n",
       "Total Bags      float64\n",
       "Small Bags      float64\n",
       "Large Bags      float64\n",
       "XLarge Bags     float64\n",
       "type             object\n",
       "year              int64\n",
       "region           object\n",
       "dtype: object"
      ]
     },
     "execution_count": 6,
     "metadata": {},
     "output_type": "execute_result"
    }
   ],
   "source": [
    "df.dtypes"
   ]
  },
  {
   "cell_type": "markdown",
   "id": "28105982",
   "metadata": {},
   "source": [
    "dataset have float,int and categorical datatypes"
   ]
  },
  {
   "cell_type": "markdown",
   "id": "669ac416",
   "metadata": {},
   "source": [
    "As we want to predict the region we are building classification model"
   ]
  },
  {
   "cell_type": "code",
   "execution_count": 7,
   "id": "cb47bf5e",
   "metadata": {},
   "outputs": [
    {
     "name": "stdout",
     "output_type": "stream",
     "text": [
      "<class 'pandas.core.frame.DataFrame'>\n",
      "Int64Index: 18249 entries, 0 to 11\n",
      "Data columns (total 13 columns):\n",
      " #   Column        Non-Null Count  Dtype  \n",
      "---  ------        --------------  -----  \n",
      " 0   Date          18249 non-null  object \n",
      " 1   AveragePrice  18249 non-null  float64\n",
      " 2   Total Volume  18249 non-null  float64\n",
      " 3   4046          18249 non-null  float64\n",
      " 4   4225          18249 non-null  float64\n",
      " 5   4770          18249 non-null  float64\n",
      " 6   Total Bags    18249 non-null  float64\n",
      " 7   Small Bags    18249 non-null  float64\n",
      " 8   Large Bags    18249 non-null  float64\n",
      " 9   XLarge Bags   18249 non-null  float64\n",
      " 10  type          18249 non-null  object \n",
      " 11  year          18249 non-null  int64  \n",
      " 12  region        18249 non-null  object \n",
      "dtypes: float64(9), int64(1), object(3)\n",
      "memory usage: 1.9+ MB\n"
     ]
    }
   ],
   "source": [
    "df.info()"
   ]
  },
  {
   "cell_type": "markdown",
   "id": "54dca33f",
   "metadata": {},
   "source": [
    "Datatypes,memory usage of dataset"
   ]
  },
  {
   "cell_type": "code",
   "execution_count": 8,
   "id": "815d981a",
   "metadata": {},
   "outputs": [
    {
     "data": {
      "text/html": [
       "<div>\n",
       "<style scoped>\n",
       "    .dataframe tbody tr th:only-of-type {\n",
       "        vertical-align: middle;\n",
       "    }\n",
       "\n",
       "    .dataframe tbody tr th {\n",
       "        vertical-align: top;\n",
       "    }\n",
       "\n",
       "    .dataframe thead th {\n",
       "        text-align: right;\n",
       "    }\n",
       "</style>\n",
       "<table border=\"1\" class=\"dataframe\">\n",
       "  <thead>\n",
       "    <tr style=\"text-align: right;\">\n",
       "      <th></th>\n",
       "      <th>AveragePrice</th>\n",
       "      <th>Total Volume</th>\n",
       "      <th>4046</th>\n",
       "      <th>4225</th>\n",
       "      <th>4770</th>\n",
       "      <th>Total Bags</th>\n",
       "      <th>Small Bags</th>\n",
       "      <th>Large Bags</th>\n",
       "      <th>XLarge Bags</th>\n",
       "      <th>year</th>\n",
       "    </tr>\n",
       "  </thead>\n",
       "  <tbody>\n",
       "    <tr>\n",
       "      <th>count</th>\n",
       "      <td>18249.000000</td>\n",
       "      <td>1.824900e+04</td>\n",
       "      <td>1.824900e+04</td>\n",
       "      <td>1.824900e+04</td>\n",
       "      <td>1.824900e+04</td>\n",
       "      <td>1.824900e+04</td>\n",
       "      <td>1.824900e+04</td>\n",
       "      <td>1.824900e+04</td>\n",
       "      <td>18249.000000</td>\n",
       "      <td>18249.000000</td>\n",
       "    </tr>\n",
       "    <tr>\n",
       "      <th>mean</th>\n",
       "      <td>1.405978</td>\n",
       "      <td>8.506440e+05</td>\n",
       "      <td>2.930084e+05</td>\n",
       "      <td>2.951546e+05</td>\n",
       "      <td>2.283974e+04</td>\n",
       "      <td>2.396392e+05</td>\n",
       "      <td>1.821947e+05</td>\n",
       "      <td>5.433809e+04</td>\n",
       "      <td>3106.426507</td>\n",
       "      <td>2016.147899</td>\n",
       "    </tr>\n",
       "    <tr>\n",
       "      <th>std</th>\n",
       "      <td>0.402677</td>\n",
       "      <td>3.453545e+06</td>\n",
       "      <td>1.264989e+06</td>\n",
       "      <td>1.204120e+06</td>\n",
       "      <td>1.074641e+05</td>\n",
       "      <td>9.862424e+05</td>\n",
       "      <td>7.461785e+05</td>\n",
       "      <td>2.439660e+05</td>\n",
       "      <td>17692.894652</td>\n",
       "      <td>0.939938</td>\n",
       "    </tr>\n",
       "    <tr>\n",
       "      <th>min</th>\n",
       "      <td>0.440000</td>\n",
       "      <td>8.456000e+01</td>\n",
       "      <td>0.000000e+00</td>\n",
       "      <td>0.000000e+00</td>\n",
       "      <td>0.000000e+00</td>\n",
       "      <td>0.000000e+00</td>\n",
       "      <td>0.000000e+00</td>\n",
       "      <td>0.000000e+00</td>\n",
       "      <td>0.000000</td>\n",
       "      <td>2015.000000</td>\n",
       "    </tr>\n",
       "    <tr>\n",
       "      <th>25%</th>\n",
       "      <td>1.100000</td>\n",
       "      <td>1.083858e+04</td>\n",
       "      <td>8.540700e+02</td>\n",
       "      <td>3.008780e+03</td>\n",
       "      <td>0.000000e+00</td>\n",
       "      <td>5.088640e+03</td>\n",
       "      <td>2.849420e+03</td>\n",
       "      <td>1.274700e+02</td>\n",
       "      <td>0.000000</td>\n",
       "      <td>2015.000000</td>\n",
       "    </tr>\n",
       "    <tr>\n",
       "      <th>50%</th>\n",
       "      <td>1.370000</td>\n",
       "      <td>1.073768e+05</td>\n",
       "      <td>8.645300e+03</td>\n",
       "      <td>2.906102e+04</td>\n",
       "      <td>1.849900e+02</td>\n",
       "      <td>3.974383e+04</td>\n",
       "      <td>2.636282e+04</td>\n",
       "      <td>2.647710e+03</td>\n",
       "      <td>0.000000</td>\n",
       "      <td>2016.000000</td>\n",
       "    </tr>\n",
       "    <tr>\n",
       "      <th>75%</th>\n",
       "      <td>1.660000</td>\n",
       "      <td>4.329623e+05</td>\n",
       "      <td>1.110202e+05</td>\n",
       "      <td>1.502069e+05</td>\n",
       "      <td>6.243420e+03</td>\n",
       "      <td>1.107834e+05</td>\n",
       "      <td>8.333767e+04</td>\n",
       "      <td>2.202925e+04</td>\n",
       "      <td>132.500000</td>\n",
       "      <td>2017.000000</td>\n",
       "    </tr>\n",
       "    <tr>\n",
       "      <th>max</th>\n",
       "      <td>3.250000</td>\n",
       "      <td>6.250565e+07</td>\n",
       "      <td>2.274362e+07</td>\n",
       "      <td>2.047057e+07</td>\n",
       "      <td>2.546439e+06</td>\n",
       "      <td>1.937313e+07</td>\n",
       "      <td>1.338459e+07</td>\n",
       "      <td>5.719097e+06</td>\n",
       "      <td>551693.650000</td>\n",
       "      <td>2018.000000</td>\n",
       "    </tr>\n",
       "  </tbody>\n",
       "</table>\n",
       "</div>"
      ],
      "text/plain": [
       "       AveragePrice  Total Volume          4046          4225          4770  \\\n",
       "count  18249.000000  1.824900e+04  1.824900e+04  1.824900e+04  1.824900e+04   \n",
       "mean       1.405978  8.506440e+05  2.930084e+05  2.951546e+05  2.283974e+04   \n",
       "std        0.402677  3.453545e+06  1.264989e+06  1.204120e+06  1.074641e+05   \n",
       "min        0.440000  8.456000e+01  0.000000e+00  0.000000e+00  0.000000e+00   \n",
       "25%        1.100000  1.083858e+04  8.540700e+02  3.008780e+03  0.000000e+00   \n",
       "50%        1.370000  1.073768e+05  8.645300e+03  2.906102e+04  1.849900e+02   \n",
       "75%        1.660000  4.329623e+05  1.110202e+05  1.502069e+05  6.243420e+03   \n",
       "max        3.250000  6.250565e+07  2.274362e+07  2.047057e+07  2.546439e+06   \n",
       "\n",
       "         Total Bags    Small Bags    Large Bags    XLarge Bags          year  \n",
       "count  1.824900e+04  1.824900e+04  1.824900e+04   18249.000000  18249.000000  \n",
       "mean   2.396392e+05  1.821947e+05  5.433809e+04    3106.426507   2016.147899  \n",
       "std    9.862424e+05  7.461785e+05  2.439660e+05   17692.894652      0.939938  \n",
       "min    0.000000e+00  0.000000e+00  0.000000e+00       0.000000   2015.000000  \n",
       "25%    5.088640e+03  2.849420e+03  1.274700e+02       0.000000   2015.000000  \n",
       "50%    3.974383e+04  2.636282e+04  2.647710e+03       0.000000   2016.000000  \n",
       "75%    1.107834e+05  8.333767e+04  2.202925e+04     132.500000   2017.000000  \n",
       "max    1.937313e+07  1.338459e+07  5.719097e+06  551693.650000   2018.000000  "
      ]
     },
     "execution_count": 8,
     "metadata": {},
     "output_type": "execute_result"
    }
   ],
   "source": [
    "df.describe()"
   ]
  },
  {
   "cell_type": "markdown",
   "id": "9e094947",
   "metadata": {},
   "source": [
    "Statistical summary of numerical data"
   ]
  },
  {
   "cell_type": "code",
   "execution_count": 9,
   "id": "13aa5347",
   "metadata": {},
   "outputs": [
    {
     "data": {
      "text/plain": [
       "Date            0\n",
       "AveragePrice    0\n",
       "Total Volume    0\n",
       "4046            0\n",
       "4225            0\n",
       "4770            0\n",
       "Total Bags      0\n",
       "Small Bags      0\n",
       "Large Bags      0\n",
       "XLarge Bags     0\n",
       "type            0\n",
       "year            0\n",
       "region          0\n",
       "dtype: int64"
      ]
     },
     "execution_count": 9,
     "metadata": {},
     "output_type": "execute_result"
    }
   ],
   "source": [
    "df.isnull().sum()"
   ]
  },
  {
   "cell_type": "markdown",
   "id": "ed1f5a7c",
   "metadata": {},
   "source": [
    "No missing values present in dataset"
   ]
  },
  {
   "cell_type": "code",
   "execution_count": 10,
   "id": "2572158b",
   "metadata": {},
   "outputs": [
    {
     "data": {
      "text/plain": [
       "0.0    12048\n",
       "Name: XLarge Bags, dtype: int64"
      ]
     },
     "execution_count": 10,
     "metadata": {},
     "output_type": "execute_result"
    }
   ],
   "source": [
    "df[df['XLarge Bags']==0]['XLarge Bags'].value_counts()"
   ]
  },
  {
   "cell_type": "markdown",
   "id": "42510fa9",
   "metadata": {},
   "source": [
    "We can observe the most of the Xlarge bags doesn't contain avocado"
   ]
  },
  {
   "cell_type": "markdown",
   "id": "8abf8ca2",
   "metadata": {},
   "source": [
    "# EDA "
   ]
  },
  {
   "cell_type": "markdown",
   "id": "d27bb306",
   "metadata": {},
   "source": [
    "# Visualizations"
   ]
  },
  {
   "cell_type": "code",
   "execution_count": 11,
   "id": "023c1a1c",
   "metadata": {},
   "outputs": [
    {
     "data": {
      "image/png": "[encoded data removed]",
      "text/plain": [
       "<Figure size 432x288 with 1 Axes>"
      ]
     },
     "metadata": {
      "needs_background": "light"
     },
     "output_type": "display_data"
    },
    {
     "data": {
      "image/png": "[encoded data removed]",
      "text/plain": [
       "<Figure size 432x288 with 1 Axes>"
      ]
     },
     "metadata": {
      "needs_background": "light"
     },
     "output_type": "display_data"
    },
    {
     "data": {
      "image/png": "[encoded data removed]",
      "text/plain": [
       "<Figure size 432x288 with 1 Axes>"
      ]
     },
     "metadata": {
      "needs_background": "light"
     },
     "output_type": "display_data"
    },
    {
     "data": {
      "image/png": "[encoded data removed]",
      "text/plain": [
       "<Figure size 432x288 with 1 Axes>"
      ]
     },
     "metadata": {
      "needs_background": "light"
     },
     "output_type": "display_data"
    },
    {
     "data": {
      "image/png": "[encoded data removed]",
      "text/plain": [
       "<Figure size 432x288 with 1 Axes>"
      ]
     },
     "metadata": {
      "needs_background": "light"
     },
     "output_type": "display_data"
    },
    {
     "data": {
      "image/png": "[encoded data removed]",
      "text/plain": [
       "<Figure size 432x288 with 1 Axes>"
      ]
     },
     "metadata": {
      "needs_background": "light"
     },
     "output_type": "display_data"
    },
    {
     "data": {
      "image/png": "[encoded data removed]",
      "text/plain": [
       "<Figure size 432x288 with 1 Axes>"
      ]
     },
     "metadata": {
      "needs_background": "light"
     },
     "output_type": "display_data"
    },
    {
     "data": {
      "image/png": "[encoded data removed]",
      "text/plain": [
       "<Figure size 432x288 with 1 Axes>"
      ]
     },
     "metadata": {
      "needs_background": "light"
     },
     "output_type": "display_data"
    },
    {
     "data": {
      "image/png": "[encoded data removed]",
      "text/plain": [
       "<Figure size 432x288 with 1 Axes>"
      ]
     },
     "metadata": {
      "needs_background": "light"
     },
     "output_type": "display_data"
    },
    {
     "data": {
      "image/png": "[encoded data removed]",
      "text/plain": [
       "<Figure size 432x288 with 1 Axes>"
      ]
     },
     "metadata": {
      "needs_background": "light"
     },
     "output_type": "display_data"
    }
   ],
   "source": [
    "for i in df.describe().columns:\n",
    "    sns.distplot(df[i])\n",
    "    plt.show()"
   ]
  },
  {
   "cell_type": "markdown",
   "id": "36ea8820",
   "metadata": {},
   "source": [
    "Datas are not normally distributed"
   ]
  },
  {
   "cell_type": "code",
   "execution_count": 12,
   "id": "7ccd2e5f",
   "metadata": {},
   "outputs": [
    {
     "data": {
      "image/png": "[encoded data removed]",
      "text/plain": [
       "<Figure size 720x648 with 10 Axes>"
      ]
     },
     "metadata": {
      "needs_background": "light"
     },
     "output_type": "display_data"
    }
   ],
   "source": [
    "plt.figure(figsize=(10,9))\n",
    "for i in range(len(df.columns)):\n",
    "    if df.dtypes[i]!='object':\n",
    "        plt.subplot(4,5,i+1)\n",
    "        plt.boxplot(df[df.columns[i]])\n",
    "        plt.title(df.columns[i])\n",
    "plt.show()"
   ]
  },
  {
   "cell_type": "markdown",
   "id": "655fbad3",
   "metadata": {},
   "source": [
    "We can detect outliers in columns"
   ]
  },
  {
   "cell_type": "code",
   "execution_count": 13,
   "id": "a27909f7",
   "metadata": {},
   "outputs": [
    {
     "data": {
      "text/plain": [
       "Index(['Date', 'AveragePrice', 'Total Volume', '4046', '4225', '4770',\n",
       "       'Total Bags', 'Small Bags', 'Large Bags', 'XLarge Bags', 'type', 'year',\n",
       "       'region'],\n",
       "      dtype='object')"
      ]
     },
     "execution_count": 13,
     "metadata": {},
     "output_type": "execute_result"
    }
   ],
   "source": [
    "df.columns"
   ]
  },
  {
   "cell_type": "code",
   "execution_count": 14,
   "id": "68040a74",
   "metadata": {},
   "outputs": [],
   "source": [
    "categorical=df[['Date','type','region']].copy()"
   ]
  },
  {
   "cell_type": "markdown",
   "id": "3692e093",
   "metadata": {},
   "source": [
    "Stored categorical datas "
   ]
  },
  {
   "cell_type": "code",
   "execution_count": 15,
   "id": "20f0021a",
   "metadata": {},
   "outputs": [
    {
     "name": "stdout",
     "output_type": "stream",
     "text": [
      "conventional    9126\n",
      "organic         9123\n",
      "Name: type, dtype: int64\n"
     ]
    }
   ],
   "source": [
    "print(categorical['type'].value_counts())"
   ]
  },
  {
   "cell_type": "markdown",
   "id": "61809230",
   "metadata": {},
   "source": [
    "types have two unique values"
   ]
  },
  {
   "cell_type": "code",
   "execution_count": 16,
   "id": "9fd808e6",
   "metadata": {},
   "outputs": [
    {
     "name": "stdout",
     "output_type": "stream",
     "text": [
      "Roanoke                338\n",
      "Jacksonville           338\n",
      "LasVegas               338\n",
      "DallasFtWorth          338\n",
      "RaleighGreensboro      338\n",
      "Indianapolis           338\n",
      "NorthernNewEngland     338\n",
      "Detroit                338\n",
      "Midsouth               338\n",
      "Southeast              338\n",
      "SanDiego               338\n",
      "Pittsburgh             338\n",
      "Syracuse               338\n",
      "StLouis                338\n",
      "Seattle                338\n",
      "Tampa                  338\n",
      "Atlanta                338\n",
      "Columbus               338\n",
      "Portland               338\n",
      "Spokane                338\n",
      "SouthCarolina          338\n",
      "Houston                338\n",
      "Boston                 338\n",
      "Orlando                338\n",
      "GrandRapids            338\n",
      "BuffaloRochester       338\n",
      "LosAngeles             338\n",
      "Denver                 338\n",
      "TotalUS                338\n",
      "MiamiFtLauderdale      338\n",
      "Northeast              338\n",
      "West                   338\n",
      "Philadelphia           338\n",
      "HartfordSpringfield    338\n",
      "Louisville             338\n",
      "HarrisburgScranton     338\n",
      "SanFrancisco           338\n",
      "NewYork                338\n",
      "BaltimoreWashington    338\n",
      "Plains                 338\n",
      "PhoenixTucson          338\n",
      "Charlotte              338\n",
      "Sacramento             338\n",
      "Albany                 338\n",
      "SouthCentral           338\n",
      "RichmondNorfolk        338\n",
      "Nashville              338\n",
      "NewOrleansMobile       338\n",
      "CincinnatiDayton       338\n",
      "California             338\n",
      "GreatLakes             338\n",
      "Chicago                338\n",
      "Boise                  338\n",
      "WestTexNewMexico       335\n",
      "Name: region, dtype: int64\n"
     ]
    }
   ],
   "source": [
    "print(categorical['region'].value_counts())"
   ]
  },
  {
   "cell_type": "markdown",
   "id": "9a0c3a8c",
   "metadata": {},
   "source": [
    "As our target variable is region, it is not balanced,in last region we can observe the imbalance"
   ]
  },
  {
   "cell_type": "code",
   "execution_count": 17,
   "id": "c0762f1c",
   "metadata": {},
   "outputs": [
    {
     "data": {
      "image/png": "[encoded data removed]",
      "text/plain": [
       "<Figure size 576x504 with 1 Axes>"
      ]
     },
     "metadata": {
      "needs_background": "light"
     },
     "output_type": "display_data"
    }
   ],
   "source": [
    "plt.figure(figsize=(8,7))\n",
    "plt.title(\"count Plot\")\n",
    "sns.countplot('year',hue='region',data=df)\n",
    "plt.show()"
   ]
  },
  {
   "cell_type": "markdown",
   "id": "2ad1fadf",
   "metadata": {},
   "source": [
    "In year 2017 the most selling is done compare to other year"
   ]
  },
  {
   "cell_type": "code",
   "execution_count": 18,
   "id": "fa0ba494",
   "metadata": {},
   "outputs": [
    {
     "data": {
      "image/png": "[encoded data removed]",
      "text/plain": [
       "<Figure size 576x504 with 1 Axes>"
      ]
     },
     "metadata": {
      "needs_background": "light"
     },
     "output_type": "display_data"
    }
   ],
   "source": [
    "plt.figure(figsize=(8,7))\n",
    "plt.xlabel(\"Total volume\")\n",
    "plt.ylabel(\"year\")\n",
    "plt.title(\"scatter Plot\")\n",
    "sns.scatterplot(x=\"Total Volume\",y=\"year\",data=df)\n",
    "plt.show()"
   ]
  },
  {
   "cell_type": "markdown",
   "id": "b0522473",
   "metadata": {},
   "source": [
    "We can observe the total volume of each year"
   ]
  },
  {
   "cell_type": "code",
   "execution_count": 19,
   "id": "e1039e0a",
   "metadata": {},
   "outputs": [
    {
     "data": {
      "image/png": "[encoded data removed]",
      "text/plain": [
       "<Figure size 576x504 with 1 Axes>"
      ]
     },
     "metadata": {
      "needs_background": "light"
     },
     "output_type": "display_data"
    }
   ],
   "source": [
    "plt.figure(figsize=(8,7))\n",
    "plt.xlabel(\"Small bags\")\n",
    "plt.ylabel(\"Total\")\n",
    "plt.title(\"Scatter Plot\")\n",
    "sns.scatterplot(x=\"Small Bags\",y=\"Total Bags\",data=df)\n",
    "plt.show()"
   ]
  },
  {
   "cell_type": "markdown",
   "id": "d47b0c0b",
   "metadata": {},
   "source": [
    "small bags and total numnber of bags have almost same number of avocados"
   ]
  },
  {
   "cell_type": "code",
   "execution_count": 20,
   "id": "45a29fae",
   "metadata": {},
   "outputs": [
    {
     "data": {
      "image/png": "[encoded data removed]",
      "text/plain": [
       "<Figure size 576x504 with 1 Axes>"
      ]
     },
     "metadata": {
      "needs_background": "light"
     },
     "output_type": "display_data"
    }
   ],
   "source": [
    "plt.figure(figsize=(8,7))\n",
    "plt.xlabel(\"Large bags\")\n",
    "plt.ylabel(\"Total\")\n",
    "plt.title(\"Scatter Plot\")\n",
    "sns.scatterplot(x=\"Large Bags\",y=\"Total Bags\",data=df)\n",
    "plt.show()"
   ]
  },
  {
   "cell_type": "markdown",
   "id": "4c9dbe38",
   "metadata": {},
   "source": [
    "Total bags contains 0-2 large bags  "
   ]
  },
  {
   "cell_type": "code",
   "execution_count": 21,
   "id": "cfc50a5e",
   "metadata": {},
   "outputs": [
    {
     "data": {
      "image/png": "[encoded data removed]",
      "text/plain": [
       "<Figure size 576x504 with 1 Axes>"
      ]
     },
     "metadata": {
      "needs_background": "light"
     },
     "output_type": "display_data"
    }
   ],
   "source": [
    "plt.figure(figsize=(8,7))\n",
    "plt.xlabel(\"XLarge bags\")\n",
    "plt.ylabel(\"Total\")\n",
    "plt.title(\"Scatter Plot\")\n",
    "sns.scatterplot(x=\"XLarge Bags\",y=\"Total Bags\",data=df)\n",
    "plt.show()"
   ]
  },
  {
   "cell_type": "markdown",
   "id": "76e6c200",
   "metadata": {},
   "source": [
    "Realtion between xlarge and total bags"
   ]
  },
  {
   "cell_type": "code",
   "execution_count": 22,
   "id": "678b0d82",
   "metadata": {},
   "outputs": [
    {
     "data": {
      "image/png": "[encoded data removed]",
      "text/plain": [
       "<Figure size 576x504 with 1 Axes>"
      ]
     },
     "metadata": {
      "needs_background": "light"
     },
     "output_type": "display_data"
    }
   ],
   "source": [
    "plt.figure(figsize=(8,7))\n",
    "sns.countplot('type',data=df,hue='year')\n",
    "plt.show()"
   ]
  },
  {
   "cell_type": "markdown",
   "id": "50fba71a",
   "metadata": {},
   "source": [
    "Both Conventional and organic avocados were more sold in year 2017 and less sold in year 2018"
   ]
  },
  {
   "cell_type": "code",
   "execution_count": 23,
   "id": "01e1f97e",
   "metadata": {},
   "outputs": [
    {
     "data": {
      "image/png": "[encoded data removed]",
      "text/plain": [
       "<Figure size 576x504 with 1 Axes>"
      ]
     },
     "metadata": {
      "needs_background": "light"
     },
     "output_type": "display_data"
    }
   ],
   "source": [
    "plt.figure(figsize=(8,7))\n",
    "plt.xlabel(\"Total Volume\")\n",
    "plt.ylabel(\"4046 PLU\")\n",
    "plt.title(\"Scatter Plot\")\n",
    "sns.scatterplot(x=\"Total Volume\",y=\"4046\",data=df)\n",
    "plt.show()"
   ]
  },
  {
   "cell_type": "markdown",
   "id": "4685056d",
   "metadata": {},
   "source": [
    "Total volume of avocado and 4046 PLU are almost equal"
   ]
  },
  {
   "cell_type": "code",
   "execution_count": 24,
   "id": "04c5b6e2",
   "metadata": {},
   "outputs": [
    {
     "data": {
      "image/png": "[encoded data removed]",
      "text/plain": [
       "<Figure size 576x504 with 1 Axes>"
      ]
     },
     "metadata": {
      "needs_background": "light"
     },
     "output_type": "display_data"
    }
   ],
   "source": [
    "plt.figure(figsize=(8,7))\n",
    "plt.xlabel(\"Total Volume\")\n",
    "plt.ylabel(\"4225 PLU\")\n",
    "plt.title(\"Scatter Plot\")\n",
    "sns.scatterplot(x=\"Total Volume\",y=\"4225\",data=df)\n",
    "plt.show()"
   ]
  },
  {
   "cell_type": "markdown",
   "id": "21f721b3",
   "metadata": {},
   "source": [
    " Most of Total volume of avocado contains 0-1 4225 pLU avocados"
   ]
  },
  {
   "cell_type": "code",
   "execution_count": 25,
   "id": "46cfa7a3",
   "metadata": {},
   "outputs": [
    {
     "data": {
      "image/png": "[encoded data removed]",
      "text/plain": [
       "<Figure size 576x504 with 1 Axes>"
      ]
     },
     "metadata": {
      "needs_background": "light"
     },
     "output_type": "display_data"
    }
   ],
   "source": [
    "plt.figure(figsize=(8,7))\n",
    "plt.xlabel(\"Total Volume\")\n",
    "plt.ylabel(\"4770 PLU\")\n",
    "plt.title(\"Scatter Plot\")\n",
    "sns.scatterplot(x=\"Total Volume\",y=\"4770\",data=df)\n",
    "plt.show()"
   ]
  },
  {
   "cell_type": "markdown",
   "id": "5aaaa7ec",
   "metadata": {},
   "source": [
    " Most of Total volume of avocado contains 0-1 4770 pLU avocados"
   ]
  },
  {
   "cell_type": "markdown",
   "id": "662e243f",
   "metadata": {},
   "source": [
    "# DATA CLEANING"
   ]
  },
  {
   "cell_type": "code",
   "execution_count": 6,
   "id": "f3878aa9",
   "metadata": {},
   "outputs": [
    {
     "data": {
      "text/plain": [
       "['2015-01-04',\n",
       " '2015-01-11',\n",
       " '2015-01-18',\n",
       " '2015-01-25',\n",
       " '2015-02-01',\n",
       " '2015-02-08',\n",
       " '2015-02-15',\n",
       " '2015-02-22',\n",
       " '2015-03-01',\n",
       " '2015-03-08',\n",
       " '2015-03-15',\n",
       " '2015-03-22',\n",
       " '2015-03-29',\n",
       " '2015-04-05',\n",
       " '2015-04-12',\n",
       " '2015-04-19',\n",
       " '2015-04-26',\n",
       " '2015-05-03',\n",
       " '2015-05-10',\n",
       " '2015-05-17',\n",
       " '2015-05-24',\n",
       " '2015-05-31',\n",
       " '2015-06-07',\n",
       " '2015-06-14',\n",
       " '2015-06-21',\n",
       " '2015-06-28',\n",
       " '2015-07-05',\n",
       " '2015-07-12',\n",
       " '2015-07-19',\n",
       " '2015-07-26',\n",
       " '2015-08-02',\n",
       " '2015-08-09',\n",
       " '2015-08-16',\n",
       " '2015-08-23',\n",
       " '2015-08-30',\n",
       " '2015-09-06',\n",
       " '2015-09-13',\n",
       " '2015-09-20',\n",
       " '2015-09-27',\n",
       " '2015-10-04',\n",
       " '2015-10-11',\n",
       " '2015-10-18',\n",
       " '2015-10-25',\n",
       " '2015-11-01',\n",
       " '2015-11-08',\n",
       " '2015-11-15',\n",
       " '2015-11-22',\n",
       " '2015-11-29',\n",
       " '2015-12-06',\n",
       " '2015-12-13',\n",
       " '2015-12-20',\n",
       " '2015-12-27',\n",
       " '2016-01-03',\n",
       " '2016-01-10',\n",
       " '2016-01-17',\n",
       " '2016-01-24',\n",
       " '2016-01-31',\n",
       " '2016-02-07',\n",
       " '2016-02-14',\n",
       " '2016-02-21',\n",
       " '2016-02-28',\n",
       " '2016-03-06',\n",
       " '2016-03-13',\n",
       " '2016-03-20',\n",
       " '2016-03-27',\n",
       " '2016-04-03',\n",
       " '2016-04-10',\n",
       " '2016-04-17',\n",
       " '2016-04-24',\n",
       " '2016-05-01',\n",
       " '2016-05-08',\n",
       " '2016-05-15',\n",
       " '2016-05-22',\n",
       " '2016-05-29',\n",
       " '2016-06-05',\n",
       " '2016-06-12',\n",
       " '2016-06-19',\n",
       " '2016-06-26',\n",
       " '2016-07-03',\n",
       " '2016-07-10',\n",
       " '2016-07-17',\n",
       " '2016-07-24',\n",
       " '2016-07-31',\n",
       " '2016-08-07',\n",
       " '2016-08-14',\n",
       " '2016-08-21',\n",
       " '2016-08-28',\n",
       " '2016-09-04',\n",
       " '2016-09-11',\n",
       " '2016-09-18',\n",
       " '2016-09-25',\n",
       " '2016-10-02',\n",
       " '2016-10-09',\n",
       " '2016-10-16',\n",
       " '2016-10-23',\n",
       " '2016-10-30',\n",
       " '2016-11-06',\n",
       " '2016-11-13',\n",
       " '2016-11-20',\n",
       " '2016-11-27',\n",
       " '2016-12-04',\n",
       " '2016-12-11',\n",
       " '2016-12-18',\n",
       " '2016-12-25',\n",
       " '2017-01-01',\n",
       " '2017-01-08',\n",
       " '2017-01-15',\n",
       " '2017-01-22',\n",
       " '2017-01-29',\n",
       " '2017-02-05',\n",
       " '2017-02-12',\n",
       " '2017-02-19',\n",
       " '2017-02-26',\n",
       " '2017-03-05',\n",
       " '2017-03-12',\n",
       " '2017-03-19',\n",
       " '2017-03-26',\n",
       " '2017-04-02',\n",
       " '2017-04-09',\n",
       " '2017-04-16',\n",
       " '2017-04-23',\n",
       " '2017-04-30',\n",
       " '2017-05-07',\n",
       " '2017-05-14',\n",
       " '2017-05-21',\n",
       " '2017-05-28',\n",
       " '2017-06-04',\n",
       " '2017-06-11',\n",
       " '2017-06-18',\n",
       " '2017-06-25',\n",
       " '2017-07-02',\n",
       " '2017-07-09',\n",
       " '2017-07-16',\n",
       " '2017-07-23',\n",
       " '2017-07-30',\n",
       " '2017-08-06',\n",
       " '2017-08-13',\n",
       " '2017-08-20',\n",
       " '2017-08-27',\n",
       " '2017-09-03',\n",
       " '2017-09-10',\n",
       " '2017-09-17',\n",
       " '2017-09-24',\n",
       " '2017-10-01',\n",
       " '2017-10-08',\n",
       " '2017-10-15',\n",
       " '2017-10-22',\n",
       " '2017-10-29',\n",
       " '2017-11-05',\n",
       " '2017-11-12',\n",
       " '2017-11-19',\n",
       " '2017-11-26',\n",
       " '2017-12-03',\n",
       " '2017-12-10',\n",
       " '2017-12-17',\n",
       " '2017-12-24',\n",
       " '2017-12-31',\n",
       " '2018-01-07',\n",
       " '2018-01-14',\n",
       " '2018-01-21',\n",
       " '2018-01-28',\n",
       " '2018-02-04',\n",
       " '2018-02-11',\n",
       " '2018-02-18',\n",
       " '2018-02-25',\n",
       " '2018-03-04',\n",
       " '2018-03-11',\n",
       " '2018-03-18',\n",
       " '2018-03-25']"
      ]
     },
     "execution_count": 6,
     "metadata": {},
     "output_type": "execute_result"
    }
   ],
   "source": [
    "df_date=sorted(df['Date'].unique())\n",
    "df_date"
   ]
  },
  {
   "cell_type": "markdown",
   "id": "5b51a79f",
   "metadata": {},
   "source": [
    "Sorted dates"
   ]
  },
  {
   "cell_type": "markdown",
   "id": "6223a0dd",
   "metadata": {},
   "source": [
    "# Encoding"
   ]
  },
  {
   "cell_type": "code",
   "execution_count": 7,
   "id": "4b1ee79e",
   "metadata": {},
   "outputs": [],
   "source": [
    "def date_encode(df,column,order):\n",
    "    df=df.copy()\n",
    "    df[column]=df[column].apply(lambda x :order.index(x))\n",
    "    return df"
   ]
  },
  {
   "cell_type": "markdown",
   "id": "f87c5a1c",
   "metadata": {},
   "source": [
    "Encode soted date using functions"
   ]
  },
  {
   "cell_type": "code",
   "execution_count": 8,
   "id": "ce6b76ce",
   "metadata": {},
   "outputs": [
    {
     "data": {
      "text/html": [
       "<div>\n",
       "<style scoped>\n",
       "    .dataframe tbody tr th:only-of-type {\n",
       "        vertical-align: middle;\n",
       "    }\n",
       "\n",
       "    .dataframe tbody tr th {\n",
       "        vertical-align: top;\n",
       "    }\n",
       "\n",
       "    .dataframe thead th {\n",
       "        text-align: right;\n",
       "    }\n",
       "</style>\n",
       "<table border=\"1\" class=\"dataframe\">\n",
       "  <thead>\n",
       "    <tr style=\"text-align: right;\">\n",
       "      <th></th>\n",
       "      <th>Date</th>\n",
       "      <th>AveragePrice</th>\n",
       "      <th>Total Volume</th>\n",
       "      <th>4046</th>\n",
       "      <th>4225</th>\n",
       "      <th>4770</th>\n",
       "      <th>Total Bags</th>\n",
       "      <th>Small Bags</th>\n",
       "      <th>Large Bags</th>\n",
       "      <th>XLarge Bags</th>\n",
       "      <th>type</th>\n",
       "      <th>year</th>\n",
       "      <th>region</th>\n",
       "    </tr>\n",
       "  </thead>\n",
       "  <tbody>\n",
       "    <tr>\n",
       "      <th>0</th>\n",
       "      <td>51</td>\n",
       "      <td>1.33</td>\n",
       "      <td>64236.62</td>\n",
       "      <td>1036.74</td>\n",
       "      <td>54454.85</td>\n",
       "      <td>48.16</td>\n",
       "      <td>8696.87</td>\n",
       "      <td>8603.62</td>\n",
       "      <td>93.25</td>\n",
       "      <td>0.0</td>\n",
       "      <td>conventional</td>\n",
       "      <td>2015</td>\n",
       "      <td>Albany</td>\n",
       "    </tr>\n",
       "    <tr>\n",
       "      <th>1</th>\n",
       "      <td>50</td>\n",
       "      <td>1.35</td>\n",
       "      <td>54876.98</td>\n",
       "      <td>674.28</td>\n",
       "      <td>44638.81</td>\n",
       "      <td>58.33</td>\n",
       "      <td>9505.56</td>\n",
       "      <td>9408.07</td>\n",
       "      <td>97.49</td>\n",
       "      <td>0.0</td>\n",
       "      <td>conventional</td>\n",
       "      <td>2015</td>\n",
       "      <td>Albany</td>\n",
       "    </tr>\n",
       "    <tr>\n",
       "      <th>2</th>\n",
       "      <td>49</td>\n",
       "      <td>0.93</td>\n",
       "      <td>118220.22</td>\n",
       "      <td>794.70</td>\n",
       "      <td>109149.67</td>\n",
       "      <td>130.50</td>\n",
       "      <td>8145.35</td>\n",
       "      <td>8042.21</td>\n",
       "      <td>103.14</td>\n",
       "      <td>0.0</td>\n",
       "      <td>conventional</td>\n",
       "      <td>2015</td>\n",
       "      <td>Albany</td>\n",
       "    </tr>\n",
       "    <tr>\n",
       "      <th>3</th>\n",
       "      <td>48</td>\n",
       "      <td>1.08</td>\n",
       "      <td>78992.15</td>\n",
       "      <td>1132.00</td>\n",
       "      <td>71976.41</td>\n",
       "      <td>72.58</td>\n",
       "      <td>5811.16</td>\n",
       "      <td>5677.40</td>\n",
       "      <td>133.76</td>\n",
       "      <td>0.0</td>\n",
       "      <td>conventional</td>\n",
       "      <td>2015</td>\n",
       "      <td>Albany</td>\n",
       "    </tr>\n",
       "    <tr>\n",
       "      <th>4</th>\n",
       "      <td>47</td>\n",
       "      <td>1.28</td>\n",
       "      <td>51039.60</td>\n",
       "      <td>941.48</td>\n",
       "      <td>43838.39</td>\n",
       "      <td>75.78</td>\n",
       "      <td>6183.95</td>\n",
       "      <td>5986.26</td>\n",
       "      <td>197.69</td>\n",
       "      <td>0.0</td>\n",
       "      <td>conventional</td>\n",
       "      <td>2015</td>\n",
       "      <td>Albany</td>\n",
       "    </tr>\n",
       "    <tr>\n",
       "      <th>...</th>\n",
       "      <td>...</td>\n",
       "      <td>...</td>\n",
       "      <td>...</td>\n",
       "      <td>...</td>\n",
       "      <td>...</td>\n",
       "      <td>...</td>\n",
       "      <td>...</td>\n",
       "      <td>...</td>\n",
       "      <td>...</td>\n",
       "      <td>...</td>\n",
       "      <td>...</td>\n",
       "      <td>...</td>\n",
       "      <td>...</td>\n",
       "    </tr>\n",
       "    <tr>\n",
       "      <th>7</th>\n",
       "      <td>161</td>\n",
       "      <td>1.63</td>\n",
       "      <td>17074.83</td>\n",
       "      <td>2046.96</td>\n",
       "      <td>1529.20</td>\n",
       "      <td>0.00</td>\n",
       "      <td>13498.67</td>\n",
       "      <td>13066.82</td>\n",
       "      <td>431.85</td>\n",
       "      <td>0.0</td>\n",
       "      <td>organic</td>\n",
       "      <td>2018</td>\n",
       "      <td>WestTexNewMexico</td>\n",
       "    </tr>\n",
       "    <tr>\n",
       "      <th>8</th>\n",
       "      <td>160</td>\n",
       "      <td>1.71</td>\n",
       "      <td>13888.04</td>\n",
       "      <td>1191.70</td>\n",
       "      <td>3431.50</td>\n",
       "      <td>0.00</td>\n",
       "      <td>9264.84</td>\n",
       "      <td>8940.04</td>\n",
       "      <td>324.80</td>\n",
       "      <td>0.0</td>\n",
       "      <td>organic</td>\n",
       "      <td>2018</td>\n",
       "      <td>WestTexNewMexico</td>\n",
       "    </tr>\n",
       "    <tr>\n",
       "      <th>9</th>\n",
       "      <td>159</td>\n",
       "      <td>1.87</td>\n",
       "      <td>13766.76</td>\n",
       "      <td>1191.92</td>\n",
       "      <td>2452.79</td>\n",
       "      <td>727.94</td>\n",
       "      <td>9394.11</td>\n",
       "      <td>9351.80</td>\n",
       "      <td>42.31</td>\n",
       "      <td>0.0</td>\n",
       "      <td>organic</td>\n",
       "      <td>2018</td>\n",
       "      <td>WestTexNewMexico</td>\n",
       "    </tr>\n",
       "    <tr>\n",
       "      <th>10</th>\n",
       "      <td>158</td>\n",
       "      <td>1.93</td>\n",
       "      <td>16205.22</td>\n",
       "      <td>1527.63</td>\n",
       "      <td>2981.04</td>\n",
       "      <td>727.01</td>\n",
       "      <td>10969.54</td>\n",
       "      <td>10919.54</td>\n",
       "      <td>50.00</td>\n",
       "      <td>0.0</td>\n",
       "      <td>organic</td>\n",
       "      <td>2018</td>\n",
       "      <td>WestTexNewMexico</td>\n",
       "    </tr>\n",
       "    <tr>\n",
       "      <th>11</th>\n",
       "      <td>157</td>\n",
       "      <td>1.62</td>\n",
       "      <td>17489.58</td>\n",
       "      <td>2894.77</td>\n",
       "      <td>2356.13</td>\n",
       "      <td>224.53</td>\n",
       "      <td>12014.15</td>\n",
       "      <td>11988.14</td>\n",
       "      <td>26.01</td>\n",
       "      <td>0.0</td>\n",
       "      <td>organic</td>\n",
       "      <td>2018</td>\n",
       "      <td>WestTexNewMexico</td>\n",
       "    </tr>\n",
       "  </tbody>\n",
       "</table>\n",
       "<p>18249 rows × 13 columns</p>\n",
       "</div>"
      ],
      "text/plain": [
       "    Date  AveragePrice  Total Volume     4046       4225    4770  Total Bags  \\\n",
       "0     51          1.33      64236.62  1036.74   54454.85   48.16     8696.87   \n",
       "1     50          1.35      54876.98   674.28   44638.81   58.33     9505.56   \n",
       "2     49          0.93     118220.22   794.70  109149.67  130.50     8145.35   \n",
       "3     48          1.08      78992.15  1132.00   71976.41   72.58     5811.16   \n",
       "4     47          1.28      51039.60   941.48   43838.39   75.78     6183.95   \n",
       "..   ...           ...           ...      ...        ...     ...         ...   \n",
       "7    161          1.63      17074.83  2046.96    1529.20    0.00    13498.67   \n",
       "8    160          1.71      13888.04  1191.70    3431.50    0.00     9264.84   \n",
       "9    159          1.87      13766.76  1191.92    2452.79  727.94     9394.11   \n",
       "10   158          1.93      16205.22  1527.63    2981.04  727.01    10969.54   \n",
       "11   157          1.62      17489.58  2894.77    2356.13  224.53    12014.15   \n",
       "\n",
       "    Small Bags  Large Bags  XLarge Bags          type  year            region  \n",
       "0      8603.62       93.25          0.0  conventional  2015            Albany  \n",
       "1      9408.07       97.49          0.0  conventional  2015            Albany  \n",
       "2      8042.21      103.14          0.0  conventional  2015            Albany  \n",
       "3      5677.40      133.76          0.0  conventional  2015            Albany  \n",
       "4      5986.26      197.69          0.0  conventional  2015            Albany  \n",
       "..         ...         ...          ...           ...   ...               ...  \n",
       "7     13066.82      431.85          0.0       organic  2018  WestTexNewMexico  \n",
       "8      8940.04      324.80          0.0       organic  2018  WestTexNewMexico  \n",
       "9      9351.80       42.31          0.0       organic  2018  WestTexNewMexico  \n",
       "10    10919.54       50.00          0.0       organic  2018  WestTexNewMexico  \n",
       "11    11988.14       26.01          0.0       organic  2018  WestTexNewMexico  \n",
       "\n",
       "[18249 rows x 13 columns]"
      ]
     },
     "execution_count": 8,
     "metadata": {},
     "output_type": "execute_result"
    }
   ],
   "source": [
    "data=date_encode(df,'Date',df_date)\n",
    "data"
   ]
  },
  {
   "cell_type": "markdown",
   "id": "2e9aff46",
   "metadata": {},
   "source": [
    "Now we can observe the date column is changed"
   ]
  },
  {
   "cell_type": "code",
   "execution_count": 9,
   "id": "23a96321",
   "metadata": {},
   "outputs": [],
   "source": [
    "le=LabelEncoder()\n",
    "data['region']=le.fit_transform(data['region'])"
   ]
  },
  {
   "cell_type": "markdown",
   "id": "b38e8b7d",
   "metadata": {},
   "source": [
    "Encoded region column using label encoder"
   ]
  },
  {
   "cell_type": "code",
   "execution_count": 30,
   "id": "bad3949a",
   "metadata": {},
   "outputs": [
    {
     "data": {
      "text/html": [
       "<div>\n",
       "<style scoped>\n",
       "    .dataframe tbody tr th:only-of-type {\n",
       "        vertical-align: middle;\n",
       "    }\n",
       "\n",
       "    .dataframe tbody tr th {\n",
       "        vertical-align: top;\n",
       "    }\n",
       "\n",
       "    .dataframe thead th {\n",
       "        text-align: right;\n",
       "    }\n",
       "</style>\n",
       "<table border=\"1\" class=\"dataframe\">\n",
       "  <thead>\n",
       "    <tr style=\"text-align: right;\">\n",
       "      <th></th>\n",
       "      <th>Date</th>\n",
       "      <th>AveragePrice</th>\n",
       "      <th>Total Volume</th>\n",
       "      <th>4046</th>\n",
       "      <th>4225</th>\n",
       "      <th>4770</th>\n",
       "      <th>Total Bags</th>\n",
       "      <th>Small Bags</th>\n",
       "      <th>Large Bags</th>\n",
       "      <th>XLarge Bags</th>\n",
       "      <th>type</th>\n",
       "      <th>year</th>\n",
       "      <th>region</th>\n",
       "    </tr>\n",
       "  </thead>\n",
       "  <tbody>\n",
       "    <tr>\n",
       "      <th>0</th>\n",
       "      <td>51</td>\n",
       "      <td>1.33</td>\n",
       "      <td>64236.62</td>\n",
       "      <td>1036.74</td>\n",
       "      <td>54454.85</td>\n",
       "      <td>48.16</td>\n",
       "      <td>8696.87</td>\n",
       "      <td>8603.62</td>\n",
       "      <td>93.25</td>\n",
       "      <td>0.0</td>\n",
       "      <td>conventional</td>\n",
       "      <td>2015</td>\n",
       "      <td>0</td>\n",
       "    </tr>\n",
       "    <tr>\n",
       "      <th>1</th>\n",
       "      <td>50</td>\n",
       "      <td>1.35</td>\n",
       "      <td>54876.98</td>\n",
       "      <td>674.28</td>\n",
       "      <td>44638.81</td>\n",
       "      <td>58.33</td>\n",
       "      <td>9505.56</td>\n",
       "      <td>9408.07</td>\n",
       "      <td>97.49</td>\n",
       "      <td>0.0</td>\n",
       "      <td>conventional</td>\n",
       "      <td>2015</td>\n",
       "      <td>0</td>\n",
       "    </tr>\n",
       "    <tr>\n",
       "      <th>2</th>\n",
       "      <td>49</td>\n",
       "      <td>0.93</td>\n",
       "      <td>118220.22</td>\n",
       "      <td>794.70</td>\n",
       "      <td>109149.67</td>\n",
       "      <td>130.50</td>\n",
       "      <td>8145.35</td>\n",
       "      <td>8042.21</td>\n",
       "      <td>103.14</td>\n",
       "      <td>0.0</td>\n",
       "      <td>conventional</td>\n",
       "      <td>2015</td>\n",
       "      <td>0</td>\n",
       "    </tr>\n",
       "    <tr>\n",
       "      <th>3</th>\n",
       "      <td>48</td>\n",
       "      <td>1.08</td>\n",
       "      <td>78992.15</td>\n",
       "      <td>1132.00</td>\n",
       "      <td>71976.41</td>\n",
       "      <td>72.58</td>\n",
       "      <td>5811.16</td>\n",
       "      <td>5677.40</td>\n",
       "      <td>133.76</td>\n",
       "      <td>0.0</td>\n",
       "      <td>conventional</td>\n",
       "      <td>2015</td>\n",
       "      <td>0</td>\n",
       "    </tr>\n",
       "    <tr>\n",
       "      <th>4</th>\n",
       "      <td>47</td>\n",
       "      <td>1.28</td>\n",
       "      <td>51039.60</td>\n",
       "      <td>941.48</td>\n",
       "      <td>43838.39</td>\n",
       "      <td>75.78</td>\n",
       "      <td>6183.95</td>\n",
       "      <td>5986.26</td>\n",
       "      <td>197.69</td>\n",
       "      <td>0.0</td>\n",
       "      <td>conventional</td>\n",
       "      <td>2015</td>\n",
       "      <td>0</td>\n",
       "    </tr>\n",
       "    <tr>\n",
       "      <th>...</th>\n",
       "      <td>...</td>\n",
       "      <td>...</td>\n",
       "      <td>...</td>\n",
       "      <td>...</td>\n",
       "      <td>...</td>\n",
       "      <td>...</td>\n",
       "      <td>...</td>\n",
       "      <td>...</td>\n",
       "      <td>...</td>\n",
       "      <td>...</td>\n",
       "      <td>...</td>\n",
       "      <td>...</td>\n",
       "      <td>...</td>\n",
       "    </tr>\n",
       "    <tr>\n",
       "      <th>7</th>\n",
       "      <td>161</td>\n",
       "      <td>1.63</td>\n",
       "      <td>17074.83</td>\n",
       "      <td>2046.96</td>\n",
       "      <td>1529.20</td>\n",
       "      <td>0.00</td>\n",
       "      <td>13498.67</td>\n",
       "      <td>13066.82</td>\n",
       "      <td>431.85</td>\n",
       "      <td>0.0</td>\n",
       "      <td>organic</td>\n",
       "      <td>2018</td>\n",
       "      <td>53</td>\n",
       "    </tr>\n",
       "    <tr>\n",
       "      <th>8</th>\n",
       "      <td>160</td>\n",
       "      <td>1.71</td>\n",
       "      <td>13888.04</td>\n",
       "      <td>1191.70</td>\n",
       "      <td>3431.50</td>\n",
       "      <td>0.00</td>\n",
       "      <td>9264.84</td>\n",
       "      <td>8940.04</td>\n",
       "      <td>324.80</td>\n",
       "      <td>0.0</td>\n",
       "      <td>organic</td>\n",
       "      <td>2018</td>\n",
       "      <td>53</td>\n",
       "    </tr>\n",
       "    <tr>\n",
       "      <th>9</th>\n",
       "      <td>159</td>\n",
       "      <td>1.87</td>\n",
       "      <td>13766.76</td>\n",
       "      <td>1191.92</td>\n",
       "      <td>2452.79</td>\n",
       "      <td>727.94</td>\n",
       "      <td>9394.11</td>\n",
       "      <td>9351.80</td>\n",
       "      <td>42.31</td>\n",
       "      <td>0.0</td>\n",
       "      <td>organic</td>\n",
       "      <td>2018</td>\n",
       "      <td>53</td>\n",
       "    </tr>\n",
       "    <tr>\n",
       "      <th>10</th>\n",
       "      <td>158</td>\n",
       "      <td>1.93</td>\n",
       "      <td>16205.22</td>\n",
       "      <td>1527.63</td>\n",
       "      <td>2981.04</td>\n",
       "      <td>727.01</td>\n",
       "      <td>10969.54</td>\n",
       "      <td>10919.54</td>\n",
       "      <td>50.00</td>\n",
       "      <td>0.0</td>\n",
       "      <td>organic</td>\n",
       "      <td>2018</td>\n",
       "      <td>53</td>\n",
       "    </tr>\n",
       "    <tr>\n",
       "      <th>11</th>\n",
       "      <td>157</td>\n",
       "      <td>1.62</td>\n",
       "      <td>17489.58</td>\n",
       "      <td>2894.77</td>\n",
       "      <td>2356.13</td>\n",
       "      <td>224.53</td>\n",
       "      <td>12014.15</td>\n",
       "      <td>11988.14</td>\n",
       "      <td>26.01</td>\n",
       "      <td>0.0</td>\n",
       "      <td>organic</td>\n",
       "      <td>2018</td>\n",
       "      <td>53</td>\n",
       "    </tr>\n",
       "  </tbody>\n",
       "</table>\n",
       "<p>18249 rows × 13 columns</p>\n",
       "</div>"
      ],
      "text/plain": [
       "    Date  AveragePrice  Total Volume     4046       4225    4770  Total Bags  \\\n",
       "0     51          1.33      64236.62  1036.74   54454.85   48.16     8696.87   \n",
       "1     50          1.35      54876.98   674.28   44638.81   58.33     9505.56   \n",
       "2     49          0.93     118220.22   794.70  109149.67  130.50     8145.35   \n",
       "3     48          1.08      78992.15  1132.00   71976.41   72.58     5811.16   \n",
       "4     47          1.28      51039.60   941.48   43838.39   75.78     6183.95   \n",
       "..   ...           ...           ...      ...        ...     ...         ...   \n",
       "7    161          1.63      17074.83  2046.96    1529.20    0.00    13498.67   \n",
       "8    160          1.71      13888.04  1191.70    3431.50    0.00     9264.84   \n",
       "9    159          1.87      13766.76  1191.92    2452.79  727.94     9394.11   \n",
       "10   158          1.93      16205.22  1527.63    2981.04  727.01    10969.54   \n",
       "11   157          1.62      17489.58  2894.77    2356.13  224.53    12014.15   \n",
       "\n",
       "    Small Bags  Large Bags  XLarge Bags          type  year  region  \n",
       "0      8603.62       93.25          0.0  conventional  2015       0  \n",
       "1      9408.07       97.49          0.0  conventional  2015       0  \n",
       "2      8042.21      103.14          0.0  conventional  2015       0  \n",
       "3      5677.40      133.76          0.0  conventional  2015       0  \n",
       "4      5986.26      197.69          0.0  conventional  2015       0  \n",
       "..         ...         ...          ...           ...   ...     ...  \n",
       "7     13066.82      431.85          0.0       organic  2018      53  \n",
       "8      8940.04      324.80          0.0       organic  2018      53  \n",
       "9      9351.80       42.31          0.0       organic  2018      53  \n",
       "10    10919.54       50.00          0.0       organic  2018      53  \n",
       "11    11988.14       26.01          0.0       organic  2018      53  \n",
       "\n",
       "[18249 rows x 13 columns]"
      ]
     },
     "execution_count": 30,
     "metadata": {},
     "output_type": "execute_result"
    }
   ],
   "source": [
    "data"
   ]
  },
  {
   "cell_type": "markdown",
   "id": "b7832126",
   "metadata": {},
   "source": [
    "we can obseve the region column encoded"
   ]
  },
  {
   "cell_type": "code",
   "execution_count": 31,
   "id": "45c5a4cb",
   "metadata": {},
   "outputs": [
    {
     "data": {
      "text/plain": [
       "array([ 0,  1,  2,  3,  4,  5,  6,  7,  8,  9, 10, 11, 12, 13, 14, 15, 16,\n",
       "       17, 18, 19, 20, 21, 22, 23, 24, 25, 26, 27, 28, 29, 30, 31, 32, 33,\n",
       "       34, 35, 36, 37, 38, 39, 40, 41, 42, 43, 44, 45, 46, 47, 48, 49, 50,\n",
       "       51, 52, 53])"
      ]
     },
     "execution_count": 31,
     "metadata": {},
     "output_type": "execute_result"
    }
   ],
   "source": [
    "data['region'].unique()"
   ]
  },
  {
   "cell_type": "markdown",
   "id": "588888ae",
   "metadata": {},
   "source": [
    "region column after encoding"
   ]
  },
  {
   "cell_type": "code",
   "execution_count": 32,
   "id": "e3389018",
   "metadata": {},
   "outputs": [
    {
     "name": "stdout",
     "output_type": "stream",
     "text": [
      "0     338\n",
      "27    338\n",
      "39    338\n",
      "8     338\n",
      "24    338\n",
      "40    338\n",
      "9     338\n",
      "25    338\n",
      "41    338\n",
      "10    338\n",
      "26    338\n",
      "42    338\n",
      "11    338\n",
      "43    338\n",
      "16    338\n",
      "12    338\n",
      "28    338\n",
      "44    338\n",
      "13    338\n",
      "29    338\n",
      "45    338\n",
      "14    338\n",
      "30    338\n",
      "46    338\n",
      "15    338\n",
      "31    338\n",
      "23    338\n",
      "7     338\n",
      "38    338\n",
      "22    338\n",
      "32    338\n",
      "48    338\n",
      "1     338\n",
      "17    338\n",
      "33    338\n",
      "49    338\n",
      "2     338\n",
      "18    338\n",
      "34    338\n",
      "50    338\n",
      "3     338\n",
      "19    338\n",
      "35    338\n",
      "51    338\n",
      "4     338\n",
      "20    338\n",
      "36    338\n",
      "52    338\n",
      "5     338\n",
      "21    338\n",
      "37    338\n",
      "6     338\n",
      "47    338\n",
      "53    335\n",
      "Name: region, dtype: int64\n"
     ]
    }
   ],
   "source": [
    "print(data['region'].value_counts())"
   ]
  },
  {
   "cell_type": "markdown",
   "id": "583df4e3",
   "metadata": {},
   "source": [
    "We can observe imbalance of data in our target variable"
   ]
  },
  {
   "cell_type": "code",
   "execution_count": 33,
   "id": "4555ec72",
   "metadata": {},
   "outputs": [
    {
     "data": {
      "text/html": [
       "<div>\n",
       "<style scoped>\n",
       "    .dataframe tbody tr th:only-of-type {\n",
       "        vertical-align: middle;\n",
       "    }\n",
       "\n",
       "    .dataframe tbody tr th {\n",
       "        vertical-align: top;\n",
       "    }\n",
       "\n",
       "    .dataframe thead th {\n",
       "        text-align: right;\n",
       "    }\n",
       "</style>\n",
       "<table border=\"1\" class=\"dataframe\">\n",
       "  <thead>\n",
       "    <tr style=\"text-align: right;\">\n",
       "      <th></th>\n",
       "      <th>Date</th>\n",
       "      <th>AveragePrice</th>\n",
       "      <th>Total Volume</th>\n",
       "      <th>4046</th>\n",
       "      <th>4225</th>\n",
       "      <th>4770</th>\n",
       "      <th>Total Bags</th>\n",
       "      <th>Small Bags</th>\n",
       "      <th>Large Bags</th>\n",
       "      <th>XLarge Bags</th>\n",
       "      <th>type</th>\n",
       "      <th>year</th>\n",
       "      <th>region</th>\n",
       "    </tr>\n",
       "  </thead>\n",
       "  <tbody>\n",
       "    <tr>\n",
       "      <th>0</th>\n",
       "      <td>51</td>\n",
       "      <td>1.33</td>\n",
       "      <td>64236.62</td>\n",
       "      <td>1036.74</td>\n",
       "      <td>54454.85</td>\n",
       "      <td>48.16</td>\n",
       "      <td>8696.87</td>\n",
       "      <td>8603.62</td>\n",
       "      <td>93.25</td>\n",
       "      <td>0.0</td>\n",
       "      <td>conventional</td>\n",
       "      <td>2015</td>\n",
       "      <td>0</td>\n",
       "    </tr>\n",
       "    <tr>\n",
       "      <th>1</th>\n",
       "      <td>50</td>\n",
       "      <td>1.35</td>\n",
       "      <td>54876.98</td>\n",
       "      <td>674.28</td>\n",
       "      <td>44638.81</td>\n",
       "      <td>58.33</td>\n",
       "      <td>9505.56</td>\n",
       "      <td>9408.07</td>\n",
       "      <td>97.49</td>\n",
       "      <td>0.0</td>\n",
       "      <td>conventional</td>\n",
       "      <td>2015</td>\n",
       "      <td>0</td>\n",
       "    </tr>\n",
       "    <tr>\n",
       "      <th>2</th>\n",
       "      <td>49</td>\n",
       "      <td>0.93</td>\n",
       "      <td>118220.22</td>\n",
       "      <td>794.70</td>\n",
       "      <td>109149.67</td>\n",
       "      <td>130.50</td>\n",
       "      <td>8145.35</td>\n",
       "      <td>8042.21</td>\n",
       "      <td>103.14</td>\n",
       "      <td>0.0</td>\n",
       "      <td>conventional</td>\n",
       "      <td>2015</td>\n",
       "      <td>0</td>\n",
       "    </tr>\n",
       "    <tr>\n",
       "      <th>3</th>\n",
       "      <td>48</td>\n",
       "      <td>1.08</td>\n",
       "      <td>78992.15</td>\n",
       "      <td>1132.00</td>\n",
       "      <td>71976.41</td>\n",
       "      <td>72.58</td>\n",
       "      <td>5811.16</td>\n",
       "      <td>5677.40</td>\n",
       "      <td>133.76</td>\n",
       "      <td>0.0</td>\n",
       "      <td>conventional</td>\n",
       "      <td>2015</td>\n",
       "      <td>0</td>\n",
       "    </tr>\n",
       "    <tr>\n",
       "      <th>4</th>\n",
       "      <td>47</td>\n",
       "      <td>1.28</td>\n",
       "      <td>51039.60</td>\n",
       "      <td>941.48</td>\n",
       "      <td>43838.39</td>\n",
       "      <td>75.78</td>\n",
       "      <td>6183.95</td>\n",
       "      <td>5986.26</td>\n",
       "      <td>197.69</td>\n",
       "      <td>0.0</td>\n",
       "      <td>conventional</td>\n",
       "      <td>2015</td>\n",
       "      <td>0</td>\n",
       "    </tr>\n",
       "    <tr>\n",
       "      <th>...</th>\n",
       "      <td>...</td>\n",
       "      <td>...</td>\n",
       "      <td>...</td>\n",
       "      <td>...</td>\n",
       "      <td>...</td>\n",
       "      <td>...</td>\n",
       "      <td>...</td>\n",
       "      <td>...</td>\n",
       "      <td>...</td>\n",
       "      <td>...</td>\n",
       "      <td>...</td>\n",
       "      <td>...</td>\n",
       "      <td>...</td>\n",
       "    </tr>\n",
       "    <tr>\n",
       "      <th>7</th>\n",
       "      <td>161</td>\n",
       "      <td>1.63</td>\n",
       "      <td>17074.83</td>\n",
       "      <td>2046.96</td>\n",
       "      <td>1529.20</td>\n",
       "      <td>0.00</td>\n",
       "      <td>13498.67</td>\n",
       "      <td>13066.82</td>\n",
       "      <td>431.85</td>\n",
       "      <td>0.0</td>\n",
       "      <td>organic</td>\n",
       "      <td>2018</td>\n",
       "      <td>53</td>\n",
       "    </tr>\n",
       "    <tr>\n",
       "      <th>8</th>\n",
       "      <td>160</td>\n",
       "      <td>1.71</td>\n",
       "      <td>13888.04</td>\n",
       "      <td>1191.70</td>\n",
       "      <td>3431.50</td>\n",
       "      <td>0.00</td>\n",
       "      <td>9264.84</td>\n",
       "      <td>8940.04</td>\n",
       "      <td>324.80</td>\n",
       "      <td>0.0</td>\n",
       "      <td>organic</td>\n",
       "      <td>2018</td>\n",
       "      <td>53</td>\n",
       "    </tr>\n",
       "    <tr>\n",
       "      <th>9</th>\n",
       "      <td>159</td>\n",
       "      <td>1.87</td>\n",
       "      <td>13766.76</td>\n",
       "      <td>1191.92</td>\n",
       "      <td>2452.79</td>\n",
       "      <td>727.94</td>\n",
       "      <td>9394.11</td>\n",
       "      <td>9351.80</td>\n",
       "      <td>42.31</td>\n",
       "      <td>0.0</td>\n",
       "      <td>organic</td>\n",
       "      <td>2018</td>\n",
       "      <td>53</td>\n",
       "    </tr>\n",
       "    <tr>\n",
       "      <th>10</th>\n",
       "      <td>158</td>\n",
       "      <td>1.93</td>\n",
       "      <td>16205.22</td>\n",
       "      <td>1527.63</td>\n",
       "      <td>2981.04</td>\n",
       "      <td>727.01</td>\n",
       "      <td>10969.54</td>\n",
       "      <td>10919.54</td>\n",
       "      <td>50.00</td>\n",
       "      <td>0.0</td>\n",
       "      <td>organic</td>\n",
       "      <td>2018</td>\n",
       "      <td>53</td>\n",
       "    </tr>\n",
       "    <tr>\n",
       "      <th>11</th>\n",
       "      <td>157</td>\n",
       "      <td>1.62</td>\n",
       "      <td>17489.58</td>\n",
       "      <td>2894.77</td>\n",
       "      <td>2356.13</td>\n",
       "      <td>224.53</td>\n",
       "      <td>12014.15</td>\n",
       "      <td>11988.14</td>\n",
       "      <td>26.01</td>\n",
       "      <td>0.0</td>\n",
       "      <td>organic</td>\n",
       "      <td>2018</td>\n",
       "      <td>53</td>\n",
       "    </tr>\n",
       "  </tbody>\n",
       "</table>\n",
       "<p>18249 rows × 13 columns</p>\n",
       "</div>"
      ],
      "text/plain": [
       "    Date  AveragePrice  Total Volume     4046       4225    4770  Total Bags  \\\n",
       "0     51          1.33      64236.62  1036.74   54454.85   48.16     8696.87   \n",
       "1     50          1.35      54876.98   674.28   44638.81   58.33     9505.56   \n",
       "2     49          0.93     118220.22   794.70  109149.67  130.50     8145.35   \n",
       "3     48          1.08      78992.15  1132.00   71976.41   72.58     5811.16   \n",
       "4     47          1.28      51039.60   941.48   43838.39   75.78     6183.95   \n",
       "..   ...           ...           ...      ...        ...     ...         ...   \n",
       "7    161          1.63      17074.83  2046.96    1529.20    0.00    13498.67   \n",
       "8    160          1.71      13888.04  1191.70    3431.50    0.00     9264.84   \n",
       "9    159          1.87      13766.76  1191.92    2452.79  727.94     9394.11   \n",
       "10   158          1.93      16205.22  1527.63    2981.04  727.01    10969.54   \n",
       "11   157          1.62      17489.58  2894.77    2356.13  224.53    12014.15   \n",
       "\n",
       "    Small Bags  Large Bags  XLarge Bags          type  year  region  \n",
       "0      8603.62       93.25          0.0  conventional  2015       0  \n",
       "1      9408.07       97.49          0.0  conventional  2015       0  \n",
       "2      8042.21      103.14          0.0  conventional  2015       0  \n",
       "3      5677.40      133.76          0.0  conventional  2015       0  \n",
       "4      5986.26      197.69          0.0  conventional  2015       0  \n",
       "..         ...         ...          ...           ...   ...     ...  \n",
       "7     13066.82      431.85          0.0       organic  2018      53  \n",
       "8      8940.04      324.80          0.0       organic  2018      53  \n",
       "9      9351.80       42.31          0.0       organic  2018      53  \n",
       "10    10919.54       50.00          0.0       organic  2018      53  \n",
       "11    11988.14       26.01          0.0       organic  2018      53  \n",
       "\n",
       "[18249 rows x 13 columns]"
      ]
     },
     "execution_count": 33,
     "metadata": {},
     "output_type": "execute_result"
    }
   ],
   "source": [
    "data"
   ]
  },
  {
   "cell_type": "code",
   "execution_count": 10,
   "id": "be2182b8",
   "metadata": {},
   "outputs": [],
   "source": [
    "data=pd.get_dummies(data,columns=['type'])"
   ]
  },
  {
   "cell_type": "markdown",
   "id": "119d0f9c",
   "metadata": {},
   "source": [
    "encode type column using creating dummy varibales"
   ]
  },
  {
   "cell_type": "code",
   "execution_count": 35,
   "id": "c74e22cc",
   "metadata": {
    "scrolled": true
   },
   "outputs": [
    {
     "data": {
      "text/html": [
       "<div>\n",
       "<style scoped>\n",
       "    .dataframe tbody tr th:only-of-type {\n",
       "        vertical-align: middle;\n",
       "    }\n",
       "\n",
       "    .dataframe tbody tr th {\n",
       "        vertical-align: top;\n",
       "    }\n",
       "\n",
       "    .dataframe thead th {\n",
       "        text-align: right;\n",
       "    }\n",
       "</style>\n",
       "<table border=\"1\" class=\"dataframe\">\n",
       "  <thead>\n",
       "    <tr style=\"text-align: right;\">\n",
       "      <th></th>\n",
       "      <th>Date</th>\n",
       "      <th>AveragePrice</th>\n",
       "      <th>Total Volume</th>\n",
       "      <th>4046</th>\n",
       "      <th>4225</th>\n",
       "      <th>4770</th>\n",
       "      <th>Total Bags</th>\n",
       "      <th>Small Bags</th>\n",
       "      <th>Large Bags</th>\n",
       "      <th>XLarge Bags</th>\n",
       "      <th>year</th>\n",
       "      <th>region</th>\n",
       "      <th>type_conventional</th>\n",
       "      <th>type_organic</th>\n",
       "    </tr>\n",
       "  </thead>\n",
       "  <tbody>\n",
       "    <tr>\n",
       "      <th>0</th>\n",
       "      <td>51</td>\n",
       "      <td>1.33</td>\n",
       "      <td>64236.62</td>\n",
       "      <td>1036.74</td>\n",
       "      <td>54454.85</td>\n",
       "      <td>48.16</td>\n",
       "      <td>8696.87</td>\n",
       "      <td>8603.62</td>\n",
       "      <td>93.25</td>\n",
       "      <td>0.0</td>\n",
       "      <td>2015</td>\n",
       "      <td>0</td>\n",
       "      <td>1</td>\n",
       "      <td>0</td>\n",
       "    </tr>\n",
       "    <tr>\n",
       "      <th>1</th>\n",
       "      <td>50</td>\n",
       "      <td>1.35</td>\n",
       "      <td>54876.98</td>\n",
       "      <td>674.28</td>\n",
       "      <td>44638.81</td>\n",
       "      <td>58.33</td>\n",
       "      <td>9505.56</td>\n",
       "      <td>9408.07</td>\n",
       "      <td>97.49</td>\n",
       "      <td>0.0</td>\n",
       "      <td>2015</td>\n",
       "      <td>0</td>\n",
       "      <td>1</td>\n",
       "      <td>0</td>\n",
       "    </tr>\n",
       "    <tr>\n",
       "      <th>2</th>\n",
       "      <td>49</td>\n",
       "      <td>0.93</td>\n",
       "      <td>118220.22</td>\n",
       "      <td>794.70</td>\n",
       "      <td>109149.67</td>\n",
       "      <td>130.50</td>\n",
       "      <td>8145.35</td>\n",
       "      <td>8042.21</td>\n",
       "      <td>103.14</td>\n",
       "      <td>0.0</td>\n",
       "      <td>2015</td>\n",
       "      <td>0</td>\n",
       "      <td>1</td>\n",
       "      <td>0</td>\n",
       "    </tr>\n",
       "    <tr>\n",
       "      <th>3</th>\n",
       "      <td>48</td>\n",
       "      <td>1.08</td>\n",
       "      <td>78992.15</td>\n",
       "      <td>1132.00</td>\n",
       "      <td>71976.41</td>\n",
       "      <td>72.58</td>\n",
       "      <td>5811.16</td>\n",
       "      <td>5677.40</td>\n",
       "      <td>133.76</td>\n",
       "      <td>0.0</td>\n",
       "      <td>2015</td>\n",
       "      <td>0</td>\n",
       "      <td>1</td>\n",
       "      <td>0</td>\n",
       "    </tr>\n",
       "    <tr>\n",
       "      <th>4</th>\n",
       "      <td>47</td>\n",
       "      <td>1.28</td>\n",
       "      <td>51039.60</td>\n",
       "      <td>941.48</td>\n",
       "      <td>43838.39</td>\n",
       "      <td>75.78</td>\n",
       "      <td>6183.95</td>\n",
       "      <td>5986.26</td>\n",
       "      <td>197.69</td>\n",
       "      <td>0.0</td>\n",
       "      <td>2015</td>\n",
       "      <td>0</td>\n",
       "      <td>1</td>\n",
       "      <td>0</td>\n",
       "    </tr>\n",
       "    <tr>\n",
       "      <th>...</th>\n",
       "      <td>...</td>\n",
       "      <td>...</td>\n",
       "      <td>...</td>\n",
       "      <td>...</td>\n",
       "      <td>...</td>\n",
       "      <td>...</td>\n",
       "      <td>...</td>\n",
       "      <td>...</td>\n",
       "      <td>...</td>\n",
       "      <td>...</td>\n",
       "      <td>...</td>\n",
       "      <td>...</td>\n",
       "      <td>...</td>\n",
       "      <td>...</td>\n",
       "    </tr>\n",
       "    <tr>\n",
       "      <th>7</th>\n",
       "      <td>161</td>\n",
       "      <td>1.63</td>\n",
       "      <td>17074.83</td>\n",
       "      <td>2046.96</td>\n",
       "      <td>1529.20</td>\n",
       "      <td>0.00</td>\n",
       "      <td>13498.67</td>\n",
       "      <td>13066.82</td>\n",
       "      <td>431.85</td>\n",
       "      <td>0.0</td>\n",
       "      <td>2018</td>\n",
       "      <td>53</td>\n",
       "      <td>0</td>\n",
       "      <td>1</td>\n",
       "    </tr>\n",
       "    <tr>\n",
       "      <th>8</th>\n",
       "      <td>160</td>\n",
       "      <td>1.71</td>\n",
       "      <td>13888.04</td>\n",
       "      <td>1191.70</td>\n",
       "      <td>3431.50</td>\n",
       "      <td>0.00</td>\n",
       "      <td>9264.84</td>\n",
       "      <td>8940.04</td>\n",
       "      <td>324.80</td>\n",
       "      <td>0.0</td>\n",
       "      <td>2018</td>\n",
       "      <td>53</td>\n",
       "      <td>0</td>\n",
       "      <td>1</td>\n",
       "    </tr>\n",
       "    <tr>\n",
       "      <th>9</th>\n",
       "      <td>159</td>\n",
       "      <td>1.87</td>\n",
       "      <td>13766.76</td>\n",
       "      <td>1191.92</td>\n",
       "      <td>2452.79</td>\n",
       "      <td>727.94</td>\n",
       "      <td>9394.11</td>\n",
       "      <td>9351.80</td>\n",
       "      <td>42.31</td>\n",
       "      <td>0.0</td>\n",
       "      <td>2018</td>\n",
       "      <td>53</td>\n",
       "      <td>0</td>\n",
       "      <td>1</td>\n",
       "    </tr>\n",
       "    <tr>\n",
       "      <th>10</th>\n",
       "      <td>158</td>\n",
       "      <td>1.93</td>\n",
       "      <td>16205.22</td>\n",
       "      <td>1527.63</td>\n",
       "      <td>2981.04</td>\n",
       "      <td>727.01</td>\n",
       "      <td>10969.54</td>\n",
       "      <td>10919.54</td>\n",
       "      <td>50.00</td>\n",
       "      <td>0.0</td>\n",
       "      <td>2018</td>\n",
       "      <td>53</td>\n",
       "      <td>0</td>\n",
       "      <td>1</td>\n",
       "    </tr>\n",
       "    <tr>\n",
       "      <th>11</th>\n",
       "      <td>157</td>\n",
       "      <td>1.62</td>\n",
       "      <td>17489.58</td>\n",
       "      <td>2894.77</td>\n",
       "      <td>2356.13</td>\n",
       "      <td>224.53</td>\n",
       "      <td>12014.15</td>\n",
       "      <td>11988.14</td>\n",
       "      <td>26.01</td>\n",
       "      <td>0.0</td>\n",
       "      <td>2018</td>\n",
       "      <td>53</td>\n",
       "      <td>0</td>\n",
       "      <td>1</td>\n",
       "    </tr>\n",
       "  </tbody>\n",
       "</table>\n",
       "<p>18249 rows × 14 columns</p>\n",
       "</div>"
      ],
      "text/plain": [
       "    Date  AveragePrice  Total Volume     4046       4225    4770  Total Bags  \\\n",
       "0     51          1.33      64236.62  1036.74   54454.85   48.16     8696.87   \n",
       "1     50          1.35      54876.98   674.28   44638.81   58.33     9505.56   \n",
       "2     49          0.93     118220.22   794.70  109149.67  130.50     8145.35   \n",
       "3     48          1.08      78992.15  1132.00   71976.41   72.58     5811.16   \n",
       "4     47          1.28      51039.60   941.48   43838.39   75.78     6183.95   \n",
       "..   ...           ...           ...      ...        ...     ...         ...   \n",
       "7    161          1.63      17074.83  2046.96    1529.20    0.00    13498.67   \n",
       "8    160          1.71      13888.04  1191.70    3431.50    0.00     9264.84   \n",
       "9    159          1.87      13766.76  1191.92    2452.79  727.94     9394.11   \n",
       "10   158          1.93      16205.22  1527.63    2981.04  727.01    10969.54   \n",
       "11   157          1.62      17489.58  2894.77    2356.13  224.53    12014.15   \n",
       "\n",
       "    Small Bags  Large Bags  XLarge Bags  year  region  type_conventional  \\\n",
       "0      8603.62       93.25          0.0  2015       0                  1   \n",
       "1      9408.07       97.49          0.0  2015       0                  1   \n",
       "2      8042.21      103.14          0.0  2015       0                  1   \n",
       "3      5677.40      133.76          0.0  2015       0                  1   \n",
       "4      5986.26      197.69          0.0  2015       0                  1   \n",
       "..         ...         ...          ...   ...     ...                ...   \n",
       "7     13066.82      431.85          0.0  2018      53                  0   \n",
       "8      8940.04      324.80          0.0  2018      53                  0   \n",
       "9      9351.80       42.31          0.0  2018      53                  0   \n",
       "10    10919.54       50.00          0.0  2018      53                  0   \n",
       "11    11988.14       26.01          0.0  2018      53                  0   \n",
       "\n",
       "    type_organic  \n",
       "0              0  \n",
       "1              0  \n",
       "2              0  \n",
       "3              0  \n",
       "4              0  \n",
       "..           ...  \n",
       "7              1  \n",
       "8              1  \n",
       "9              1  \n",
       "10             1  \n",
       "11             1  \n",
       "\n",
       "[18249 rows x 14 columns]"
      ]
     },
     "execution_count": 35,
     "metadata": {},
     "output_type": "execute_result"
    }
   ],
   "source": [
    "data"
   ]
  },
  {
   "cell_type": "markdown",
   "id": "e0fb09ec",
   "metadata": {},
   "source": [
    "we can observe the type column where encoded"
   ]
  },
  {
   "cell_type": "markdown",
   "id": "20b2273c",
   "metadata": {},
   "source": [
    "# Outliers Removal"
   ]
  },
  {
   "cell_type": "code",
   "execution_count": 11,
   "id": "6fec5ecf",
   "metadata": {},
   "outputs": [],
   "source": [
    "from scipy.stats import zscore\n",
    "z=np.abs(zscore(data))\n",
    "avocado=data[(z<3).all(axis=1)]"
   ]
  },
  {
   "cell_type": "markdown",
   "id": "9df7939a",
   "metadata": {},
   "source": [
    "Removed outliers using zscore"
   ]
  },
  {
   "cell_type": "code",
   "execution_count": 37,
   "id": "de9fa55e",
   "metadata": {},
   "outputs": [
    {
     "data": {
      "text/plain": [
       "(18249, 14)"
      ]
     },
     "execution_count": 37,
     "metadata": {},
     "output_type": "execute_result"
    }
   ],
   "source": [
    "data.shape"
   ]
  },
  {
   "cell_type": "markdown",
   "id": "0ae2b2bb",
   "metadata": {},
   "source": [
    "shape of dataframe before removing outliers"
   ]
  },
  {
   "cell_type": "code",
   "execution_count": 38,
   "id": "0fc2060e",
   "metadata": {},
   "outputs": [
    {
     "data": {
      "text/plain": [
       "(17651, 14)"
      ]
     },
     "execution_count": 38,
     "metadata": {},
     "output_type": "execute_result"
    }
   ],
   "source": [
    "avocado.shape"
   ]
  },
  {
   "cell_type": "markdown",
   "id": "d1437139",
   "metadata": {},
   "source": [
    "After removing outliers"
   ]
  },
  {
   "cell_type": "code",
   "execution_count": 39,
   "id": "7bdb215a",
   "metadata": {},
   "outputs": [
    {
     "name": "stdout",
     "output_type": "stream",
     "text": [
      "Percentage of data loss after removing outliers: 3.276891884486821\n"
     ]
    }
   ],
   "source": [
    "print(\"Percentage of data loss after removing outliers:\",(18249-17651)/18249*100)"
   ]
  },
  {
   "cell_type": "markdown",
   "id": "f018d8b1",
   "metadata": {},
   "source": [
    "We have lost 3.25% of data after removing outliers it is not big loss so i proceed with that"
   ]
  },
  {
   "cell_type": "markdown",
   "id": "1cd536c8",
   "metadata": {},
   "source": [
    "# Correlation"
   ]
  },
  {
   "cell_type": "code",
   "execution_count": 40,
   "id": "6f88ab57",
   "metadata": {},
   "outputs": [
    {
     "data": {
      "image/png": "[encoded data removed]",
      "text/plain": [
       "<Figure size 1584x504 with 2 Axes>"
      ]
     },
     "metadata": {
      "needs_background": "light"
     },
     "output_type": "display_data"
    }
   ],
   "source": [
    "plt.figure(figsize=(22,7))\n",
    "sns.heatmap(avocado.corr(),annot=True,linewidths=0.1,linecolor=\"black\",fmt=\"0.2f\")\n",
    "plt.title(\"Correlation\")\n",
    "plt.show()"
   ]
  },
  {
   "cell_type": "markdown",
   "id": "c6eecf32",
   "metadata": {},
   "source": [
    "Here total bags and total volume are highly correlated most of the inputs are least correlated to target variable"
   ]
  },
  {
   "cell_type": "markdown",
   "id": "07a282ed",
   "metadata": {},
   "source": [
    "# Seperating features and target"
   ]
  },
  {
   "cell_type": "code",
   "execution_count": 12,
   "id": "40d0726a",
   "metadata": {},
   "outputs": [],
   "source": [
    "x=avocado.drop('region', axis = 1)\n",
    "y = avocado['region']"
   ]
  },
  {
   "cell_type": "markdown",
   "id": "3200d097",
   "metadata": {},
   "source": [
    "Seperated features and target"
   ]
  },
  {
   "cell_type": "code",
   "execution_count": 42,
   "id": "d2bd12d2",
   "metadata": {},
   "outputs": [
    {
     "data": {
      "text/html": [
       "<div>\n",
       "<style scoped>\n",
       "    .dataframe tbody tr th:only-of-type {\n",
       "        vertical-align: middle;\n",
       "    }\n",
       "\n",
       "    .dataframe tbody tr th {\n",
       "        vertical-align: top;\n",
       "    }\n",
       "\n",
       "    .dataframe thead th {\n",
       "        text-align: right;\n",
       "    }\n",
       "</style>\n",
       "<table border=\"1\" class=\"dataframe\">\n",
       "  <thead>\n",
       "    <tr style=\"text-align: right;\">\n",
       "      <th></th>\n",
       "      <th>Date</th>\n",
       "      <th>AveragePrice</th>\n",
       "      <th>Total Volume</th>\n",
       "      <th>4046</th>\n",
       "      <th>4225</th>\n",
       "      <th>4770</th>\n",
       "      <th>Total Bags</th>\n",
       "      <th>Small Bags</th>\n",
       "      <th>Large Bags</th>\n",
       "      <th>XLarge Bags</th>\n",
       "      <th>year</th>\n",
       "      <th>type_conventional</th>\n",
       "      <th>type_organic</th>\n",
       "    </tr>\n",
       "  </thead>\n",
       "  <tbody>\n",
       "    <tr>\n",
       "      <th>0</th>\n",
       "      <td>51</td>\n",
       "      <td>1.33</td>\n",
       "      <td>64236.62</td>\n",
       "      <td>1036.74</td>\n",
       "      <td>54454.85</td>\n",
       "      <td>48.16</td>\n",
       "      <td>8696.87</td>\n",
       "      <td>8603.62</td>\n",
       "      <td>93.25</td>\n",
       "      <td>0.0</td>\n",
       "      <td>2015</td>\n",
       "      <td>1</td>\n",
       "      <td>0</td>\n",
       "    </tr>\n",
       "    <tr>\n",
       "      <th>1</th>\n",
       "      <td>50</td>\n",
       "      <td>1.35</td>\n",
       "      <td>54876.98</td>\n",
       "      <td>674.28</td>\n",
       "      <td>44638.81</td>\n",
       "      <td>58.33</td>\n",
       "      <td>9505.56</td>\n",
       "      <td>9408.07</td>\n",
       "      <td>97.49</td>\n",
       "      <td>0.0</td>\n",
       "      <td>2015</td>\n",
       "      <td>1</td>\n",
       "      <td>0</td>\n",
       "    </tr>\n",
       "    <tr>\n",
       "      <th>2</th>\n",
       "      <td>49</td>\n",
       "      <td>0.93</td>\n",
       "      <td>118220.22</td>\n",
       "      <td>794.70</td>\n",
       "      <td>109149.67</td>\n",
       "      <td>130.50</td>\n",
       "      <td>8145.35</td>\n",
       "      <td>8042.21</td>\n",
       "      <td>103.14</td>\n",
       "      <td>0.0</td>\n",
       "      <td>2015</td>\n",
       "      <td>1</td>\n",
       "      <td>0</td>\n",
       "    </tr>\n",
       "    <tr>\n",
       "      <th>3</th>\n",
       "      <td>48</td>\n",
       "      <td>1.08</td>\n",
       "      <td>78992.15</td>\n",
       "      <td>1132.00</td>\n",
       "      <td>71976.41</td>\n",
       "      <td>72.58</td>\n",
       "      <td>5811.16</td>\n",
       "      <td>5677.40</td>\n",
       "      <td>133.76</td>\n",
       "      <td>0.0</td>\n",
       "      <td>2015</td>\n",
       "      <td>1</td>\n",
       "      <td>0</td>\n",
       "    </tr>\n",
       "    <tr>\n",
       "      <th>4</th>\n",
       "      <td>47</td>\n",
       "      <td>1.28</td>\n",
       "      <td>51039.60</td>\n",
       "      <td>941.48</td>\n",
       "      <td>43838.39</td>\n",
       "      <td>75.78</td>\n",
       "      <td>6183.95</td>\n",
       "      <td>5986.26</td>\n",
       "      <td>197.69</td>\n",
       "      <td>0.0</td>\n",
       "      <td>2015</td>\n",
       "      <td>1</td>\n",
       "      <td>0</td>\n",
       "    </tr>\n",
       "  </tbody>\n",
       "</table>\n",
       "</div>"
      ],
      "text/plain": [
       "   Date  AveragePrice  Total Volume     4046       4225    4770  Total Bags  \\\n",
       "0    51          1.33      64236.62  1036.74   54454.85   48.16     8696.87   \n",
       "1    50          1.35      54876.98   674.28   44638.81   58.33     9505.56   \n",
       "2    49          0.93     118220.22   794.70  109149.67  130.50     8145.35   \n",
       "3    48          1.08      78992.15  1132.00   71976.41   72.58     5811.16   \n",
       "4    47          1.28      51039.60   941.48   43838.39   75.78     6183.95   \n",
       "\n",
       "   Small Bags  Large Bags  XLarge Bags  year  type_conventional  type_organic  \n",
       "0     8603.62       93.25          0.0  2015                  1             0  \n",
       "1     9408.07       97.49          0.0  2015                  1             0  \n",
       "2     8042.21      103.14          0.0  2015                  1             0  \n",
       "3     5677.40      133.76          0.0  2015                  1             0  \n",
       "4     5986.26      197.69          0.0  2015                  1             0  "
      ]
     },
     "execution_count": 42,
     "metadata": {},
     "output_type": "execute_result"
    }
   ],
   "source": [
    "x.head()"
   ]
  },
  {
   "cell_type": "markdown",
   "id": "2f6edc23",
   "metadata": {},
   "source": [
    "Sample features"
   ]
  },
  {
   "cell_type": "code",
   "execution_count": 43,
   "id": "a23f8d30",
   "metadata": {},
   "outputs": [
    {
     "data": {
      "text/plain": [
       "0    0\n",
       "1    0\n",
       "2    0\n",
       "3    0\n",
       "4    0\n",
       "Name: region, dtype: int32"
      ]
     },
     "execution_count": 43,
     "metadata": {},
     "output_type": "execute_result"
    }
   ],
   "source": [
    "y.head()"
   ]
  },
  {
   "cell_type": "markdown",
   "id": "9b7f58a2",
   "metadata": {},
   "source": [
    "Sample target"
   ]
  },
  {
   "cell_type": "markdown",
   "id": "c9cf5795",
   "metadata": {},
   "source": [
    "# Multi Collinearity"
   ]
  },
  {
   "cell_type": "markdown",
   "id": "2fde1853",
   "metadata": {},
   "source": [
    "# VIF"
   ]
  },
  {
   "cell_type": "code",
   "execution_count": 44,
   "id": "da7d9bb4",
   "metadata": {},
   "outputs": [
    {
     "data": {
      "text/html": [
       "<div>\n",
       "<style scoped>\n",
       "    .dataframe tbody tr th:only-of-type {\n",
       "        vertical-align: middle;\n",
       "    }\n",
       "\n",
       "    .dataframe tbody tr th {\n",
       "        vertical-align: top;\n",
       "    }\n",
       "\n",
       "    .dataframe thead th {\n",
       "        text-align: right;\n",
       "    }\n",
       "</style>\n",
       "<table border=\"1\" class=\"dataframe\">\n",
       "  <thead>\n",
       "    <tr style=\"text-align: right;\">\n",
       "      <th></th>\n",
       "      <th>vif</th>\n",
       "      <th>features</th>\n",
       "    </tr>\n",
       "  </thead>\n",
       "  <tbody>\n",
       "    <tr>\n",
       "      <th>0</th>\n",
       "      <td>1.093383e+01</td>\n",
       "      <td>Date</td>\n",
       "    </tr>\n",
       "    <tr>\n",
       "      <th>1</th>\n",
       "      <td>1.793782e+00</td>\n",
       "      <td>AveragePrice</td>\n",
       "    </tr>\n",
       "    <tr>\n",
       "      <th>2</th>\n",
       "      <td>4.128023e+08</td>\n",
       "      <td>Total Volume</td>\n",
       "    </tr>\n",
       "    <tr>\n",
       "      <th>3</th>\n",
       "      <td>7.777170e+07</td>\n",
       "      <td>4046</td>\n",
       "    </tr>\n",
       "    <tr>\n",
       "      <th>4</th>\n",
       "      <td>6.410922e+07</td>\n",
       "      <td>4225</td>\n",
       "    </tr>\n",
       "    <tr>\n",
       "      <th>5</th>\n",
       "      <td>4.787438e+05</td>\n",
       "      <td>4770</td>\n",
       "    </tr>\n",
       "    <tr>\n",
       "      <th>6</th>\n",
       "      <td>1.924615e+13</td>\n",
       "      <td>Total Bags</td>\n",
       "    </tr>\n",
       "    <tr>\n",
       "      <th>7</th>\n",
       "      <td>1.275807e+13</td>\n",
       "      <td>Small Bags</td>\n",
       "    </tr>\n",
       "    <tr>\n",
       "      <th>8</th>\n",
       "      <td>1.290985e+12</td>\n",
       "      <td>Large Bags</td>\n",
       "    </tr>\n",
       "    <tr>\n",
       "      <th>9</th>\n",
       "      <td>6.647365e+09</td>\n",
       "      <td>XLarge Bags</td>\n",
       "    </tr>\n",
       "    <tr>\n",
       "      <th>10</th>\n",
       "      <td>1.064448e+01</td>\n",
       "      <td>year</td>\n",
       "    </tr>\n",
       "    <tr>\n",
       "      <th>11</th>\n",
       "      <td>2.397921e+07</td>\n",
       "      <td>type_conventional</td>\n",
       "    </tr>\n",
       "    <tr>\n",
       "      <th>12</th>\n",
       "      <td>2.490368e+07</td>\n",
       "      <td>type_organic</td>\n",
       "    </tr>\n",
       "  </tbody>\n",
       "</table>\n",
       "</div>"
      ],
      "text/plain": [
       "             vif           features\n",
       "0   1.093383e+01               Date\n",
       "1   1.793782e+00       AveragePrice\n",
       "2   4.128023e+08       Total Volume\n",
       "3   7.777170e+07               4046\n",
       "4   6.410922e+07               4225\n",
       "5   4.787438e+05               4770\n",
       "6   1.924615e+13         Total Bags\n",
       "7   1.275807e+13         Small Bags\n",
       "8   1.290985e+12         Large Bags\n",
       "9   6.647365e+09        XLarge Bags\n",
       "10  1.064448e+01               year\n",
       "11  2.397921e+07  type_conventional\n",
       "12  2.490368e+07       type_organic"
      ]
     },
     "execution_count": 44,
     "metadata": {},
     "output_type": "execute_result"
    }
   ],
   "source": [
    "from statsmodels.stats.outliers_influence import variance_inflation_factor\n",
    "vif=pd.DataFrame()\n",
    "vif['vif']=[variance_inflation_factor(x.values,i) for i in range(x.shape[1])]\n",
    "vif['features']=x.columns\n",
    "#checking values\n",
    "vif"
   ]
  },
  {
   "cell_type": "markdown",
   "id": "d5d75ab1",
   "metadata": {},
   "source": [
    "Checked multi collinearity among features here it is fine"
   ]
  },
  {
   "cell_type": "markdown",
   "id": "f6c73217",
   "metadata": {},
   "source": [
    "# Scaling"
   ]
  },
  {
   "cell_type": "code",
   "execution_count": 13,
   "id": "42be1852",
   "metadata": {},
   "outputs": [],
   "source": [
    "sc=StandardScaler()\n",
    "x=sc.fit_transform(x)"
   ]
  },
  {
   "cell_type": "markdown",
   "id": "65b50a62",
   "metadata": {},
   "source": [
    "scaled our features"
   ]
  },
  {
   "cell_type": "markdown",
   "id": "b867d83e",
   "metadata": {},
   "source": [
    "# PCA"
   ]
  },
  {
   "cell_type": "code",
   "execution_count": 46,
   "id": "2cd21220",
   "metadata": {},
   "outputs": [
    {
     "data": {
      "image/png": "[encoded data removed]",
      "text/plain": [
       "<Figure size 432x288 with 1 Axes>"
      ]
     },
     "metadata": {
      "needs_background": "light"
     },
     "output_type": "display_data"
    }
   ],
   "source": [
    "pca=PCA()\n",
    "components=pca.fit_transform(x)\n",
    "plt.plot(np.cumsum(pca.explained_variance_ratio_))\n",
    "plt.xlabel(\"No of components\")\n",
    "plt.ylabel(\"Variance\")\n",
    "plt.show()"
   ]
  },
  {
   "cell_type": "markdown",
   "id": "99dc056d",
   "metadata": {},
   "source": [
    "Here we plot scree plot for checking which no of components have the variance. Here I choose no of components 8 which have about 96% of variance"
   ]
  },
  {
   "cell_type": "code",
   "execution_count": 47,
   "id": "c3a86052",
   "metadata": {},
   "outputs": [],
   "source": [
    "pca=PCA(n_components=8)\n",
    "new=pca.fit_transform(x)\n",
    "pca_x=pd.DataFrame(new,columns=['PC!','PC2','PC3','PC4','PC5','PC6','PC7','PC8'])"
   ]
  },
  {
   "cell_type": "markdown",
   "id": "97328ba5",
   "metadata": {},
   "source": [
    "Here we apply pca in features and make dataframesfor each components"
   ]
  },
  {
   "cell_type": "code",
   "execution_count": 48,
   "id": "1332e824",
   "metadata": {},
   "outputs": [
    {
     "data": {
      "text/html": [
       "<div>\n",
       "<style scoped>\n",
       "    .dataframe tbody tr th:only-of-type {\n",
       "        vertical-align: middle;\n",
       "    }\n",
       "\n",
       "    .dataframe tbody tr th {\n",
       "        vertical-align: top;\n",
       "    }\n",
       "\n",
       "    .dataframe thead th {\n",
       "        text-align: right;\n",
       "    }\n",
       "</style>\n",
       "<table border=\"1\" class=\"dataframe\">\n",
       "  <thead>\n",
       "    <tr style=\"text-align: right;\">\n",
       "      <th></th>\n",
       "      <th>PC!</th>\n",
       "      <th>PC2</th>\n",
       "      <th>PC3</th>\n",
       "      <th>PC4</th>\n",
       "      <th>PC5</th>\n",
       "      <th>PC6</th>\n",
       "      <th>PC7</th>\n",
       "      <th>PC8</th>\n",
       "    </tr>\n",
       "  </thead>\n",
       "  <tbody>\n",
       "    <tr>\n",
       "      <th>0</th>\n",
       "      <td>-0.407845</td>\n",
       "      <td>-1.835191</td>\n",
       "      <td>-0.899117</td>\n",
       "      <td>0.147548</td>\n",
       "      <td>-0.053021</td>\n",
       "      <td>-0.713693</td>\n",
       "      <td>-0.021001</td>\n",
       "      <td>0.182787</td>\n",
       "    </tr>\n",
       "    <tr>\n",
       "      <th>1</th>\n",
       "      <td>-0.427510</td>\n",
       "      <td>-1.832886</td>\n",
       "      <td>-0.877719</td>\n",
       "      <td>0.155396</td>\n",
       "      <td>-0.051176</td>\n",
       "      <td>-0.749230</td>\n",
       "      <td>-0.014599</td>\n",
       "      <td>0.211220</td>\n",
       "    </tr>\n",
       "    <tr>\n",
       "      <th>2</th>\n",
       "      <td>-0.143891</td>\n",
       "      <td>-2.145883</td>\n",
       "      <td>-1.248707</td>\n",
       "      <td>-0.038829</td>\n",
       "      <td>0.163705</td>\n",
       "      <td>-0.043314</td>\n",
       "      <td>-0.093528</td>\n",
       "      <td>-0.319048</td>\n",
       "    </tr>\n",
       "    <tr>\n",
       "      <th>3</th>\n",
       "      <td>-0.271533</td>\n",
       "      <td>-2.054030</td>\n",
       "      <td>-1.118978</td>\n",
       "      <td>0.028715</td>\n",
       "      <td>0.110726</td>\n",
       "      <td>-0.293452</td>\n",
       "      <td>-0.058386</td>\n",
       "      <td>-0.112550</td>\n",
       "    </tr>\n",
       "    <tr>\n",
       "      <th>4</th>\n",
       "      <td>-0.404402</td>\n",
       "      <td>-1.923917</td>\n",
       "      <td>-0.931953</td>\n",
       "      <td>0.120801</td>\n",
       "      <td>0.007340</td>\n",
       "      <td>-0.631845</td>\n",
       "      <td>-0.019341</td>\n",
       "      <td>0.137132</td>\n",
       "    </tr>\n",
       "    <tr>\n",
       "      <th>...</th>\n",
       "      <td>...</td>\n",
       "      <td>...</td>\n",
       "      <td>...</td>\n",
       "      <td>...</td>\n",
       "      <td>...</td>\n",
       "      <td>...</td>\n",
       "      <td>...</td>\n",
       "      <td>...</td>\n",
       "    </tr>\n",
       "    <tr>\n",
       "      <th>17646</th>\n",
       "      <td>-1.510756</td>\n",
       "      <td>2.628804</td>\n",
       "      <td>-0.245377</td>\n",
       "      <td>0.069083</td>\n",
       "      <td>-0.246630</td>\n",
       "      <td>0.640375</td>\n",
       "      <td>-0.142898</td>\n",
       "      <td>-0.018464</td>\n",
       "    </tr>\n",
       "    <tr>\n",
       "      <th>17647</th>\n",
       "      <td>-1.563815</td>\n",
       "      <td>2.668828</td>\n",
       "      <td>-0.165686</td>\n",
       "      <td>0.110728</td>\n",
       "      <td>-0.307521</td>\n",
       "      <td>0.507024</td>\n",
       "      <td>-0.127529</td>\n",
       "      <td>0.076153</td>\n",
       "    </tr>\n",
       "    <tr>\n",
       "      <th>17648</th>\n",
       "      <td>-1.639280</td>\n",
       "      <td>2.768709</td>\n",
       "      <td>-0.000151</td>\n",
       "      <td>0.198902</td>\n",
       "      <td>-0.428077</td>\n",
       "      <td>0.244211</td>\n",
       "      <td>-0.095092</td>\n",
       "      <td>0.262386</td>\n",
       "    </tr>\n",
       "    <tr>\n",
       "      <th>17649</th>\n",
       "      <td>-1.663298</td>\n",
       "      <td>2.800366</td>\n",
       "      <td>0.067248</td>\n",
       "      <td>0.226131</td>\n",
       "      <td>-0.470956</td>\n",
       "      <td>0.139139</td>\n",
       "      <td>-0.087874</td>\n",
       "      <td>0.326401</td>\n",
       "    </tr>\n",
       "    <tr>\n",
       "      <th>17650</th>\n",
       "      <td>-1.508577</td>\n",
       "      <td>2.568707</td>\n",
       "      <td>-0.230259</td>\n",
       "      <td>0.068232</td>\n",
       "      <td>-0.235812</td>\n",
       "      <td>0.656131</td>\n",
       "      <td>-0.142987</td>\n",
       "      <td>-0.029218</td>\n",
       "    </tr>\n",
       "  </tbody>\n",
       "</table>\n",
       "<p>17651 rows × 8 columns</p>\n",
       "</div>"
      ],
      "text/plain": [
       "            PC!       PC2       PC3       PC4       PC5       PC6       PC7  \\\n",
       "0     -0.407845 -1.835191 -0.899117  0.147548 -0.053021 -0.713693 -0.021001   \n",
       "1     -0.427510 -1.832886 -0.877719  0.155396 -0.051176 -0.749230 -0.014599   \n",
       "2     -0.143891 -2.145883 -1.248707 -0.038829  0.163705 -0.043314 -0.093528   \n",
       "3     -0.271533 -2.054030 -1.118978  0.028715  0.110726 -0.293452 -0.058386   \n",
       "4     -0.404402 -1.923917 -0.931953  0.120801  0.007340 -0.631845 -0.019341   \n",
       "...         ...       ...       ...       ...       ...       ...       ...   \n",
       "17646 -1.510756  2.628804 -0.245377  0.069083 -0.246630  0.640375 -0.142898   \n",
       "17647 -1.563815  2.668828 -0.165686  0.110728 -0.307521  0.507024 -0.127529   \n",
       "17648 -1.639280  2.768709 -0.000151  0.198902 -0.428077  0.244211 -0.095092   \n",
       "17649 -1.663298  2.800366  0.067248  0.226131 -0.470956  0.139139 -0.087874   \n",
       "17650 -1.508577  2.568707 -0.230259  0.068232 -0.235812  0.656131 -0.142987   \n",
       "\n",
       "            PC8  \n",
       "0      0.182787  \n",
       "1      0.211220  \n",
       "2     -0.319048  \n",
       "3     -0.112550  \n",
       "4      0.137132  \n",
       "...         ...  \n",
       "17646 -0.018464  \n",
       "17647  0.076153  \n",
       "17648  0.262386  \n",
       "17649  0.326401  \n",
       "17650 -0.029218  \n",
       "\n",
       "[17651 rows x 8 columns]"
      ]
     },
     "execution_count": 48,
     "metadata": {},
     "output_type": "execute_result"
    }
   ],
   "source": [
    "pca_x"
   ]
  },
  {
   "cell_type": "markdown",
   "id": "b3449770",
   "metadata": {},
   "source": [
    "Dataframe"
   ]
  },
  {
   "cell_type": "markdown",
   "id": "5f2c1fc0",
   "metadata": {},
   "source": [
    "Here we can't split training and testing data after applying pca because we added dummies in features therefore datas in feature increased so we can't apply pca "
   ]
  },
  {
   "cell_type": "markdown",
   "id": "d8135cb9",
   "metadata": {},
   "source": [
    "# Balancing Target Variable"
   ]
  },
  {
   "cell_type": "markdown",
   "id": "ab61b7bb",
   "metadata": {},
   "source": [
    "# Over Sampling"
   ]
  },
  {
   "cell_type": "code",
   "execution_count": 14,
   "id": "68d85766",
   "metadata": {},
   "outputs": [],
   "source": [
    "from imblearn.over_sampling import SMOTE\n",
    "sm=SMOTE()\n",
    "x,y=sm.fit_resample(x,y)"
   ]
  },
  {
   "cell_type": "markdown",
   "id": "9fb703a0",
   "metadata": {},
   "source": [
    "Balanced data using smote technique"
   ]
  },
  {
   "cell_type": "code",
   "execution_count": 50,
   "id": "3abbcdeb",
   "metadata": {},
   "outputs": [
    {
     "data": {
      "text/plain": [
       "0     338\n",
       "27    338\n",
       "39    338\n",
       "8     338\n",
       "24    338\n",
       "40    338\n",
       "9     338\n",
       "25    338\n",
       "41    338\n",
       "10    338\n",
       "26    338\n",
       "42    338\n",
       "11    338\n",
       "43    338\n",
       "16    338\n",
       "12    338\n",
       "28    338\n",
       "44    338\n",
       "13    338\n",
       "29    338\n",
       "45    338\n",
       "14    338\n",
       "30    338\n",
       "46    338\n",
       "15    338\n",
       "31    338\n",
       "23    338\n",
       "7     338\n",
       "38    338\n",
       "22    338\n",
       "32    338\n",
       "48    338\n",
       "1     338\n",
       "17    338\n",
       "33    338\n",
       "49    338\n",
       "2     338\n",
       "18    338\n",
       "34    338\n",
       "50    338\n",
       "3     338\n",
       "19    338\n",
       "35    338\n",
       "51    338\n",
       "4     338\n",
       "20    338\n",
       "36    338\n",
       "52    338\n",
       "5     338\n",
       "21    338\n",
       "37    338\n",
       "53    338\n",
       "6     338\n",
       "47    338\n",
       "Name: region, dtype: int64"
      ]
     },
     "execution_count": 50,
     "metadata": {},
     "output_type": "execute_result"
    }
   ],
   "source": [
    "y.value_counts()"
   ]
  },
  {
   "cell_type": "markdown",
   "id": "827afb61",
   "metadata": {},
   "source": [
    "Balanced data"
   ]
  },
  {
   "cell_type": "code",
   "execution_count": 51,
   "id": "2b852c59",
   "metadata": {},
   "outputs": [
    {
     "data": {
      "text/plain": [
       "(17651, 8)"
      ]
     },
     "execution_count": 51,
     "metadata": {},
     "output_type": "execute_result"
    }
   ],
   "source": [
    "pca_x.shape"
   ]
  },
  {
   "cell_type": "code",
   "execution_count": 52,
   "id": "db977443",
   "metadata": {},
   "outputs": [
    {
     "data": {
      "text/plain": [
       "(18252,)"
      ]
     },
     "execution_count": 52,
     "metadata": {},
     "output_type": "execute_result"
    }
   ],
   "source": [
    "y.shape"
   ]
  },
  {
   "cell_type": "code",
   "execution_count": 53,
   "id": "b56105fb",
   "metadata": {},
   "outputs": [
    {
     "data": {
      "text/plain": [
       "(18252, 13)"
      ]
     },
     "execution_count": 53,
     "metadata": {},
     "output_type": "execute_result"
    }
   ],
   "source": [
    "x.shape"
   ]
  },
  {
   "cell_type": "markdown",
   "id": "05074819",
   "metadata": {},
   "source": [
    "Here features and target have diffrent shapes after applying pca"
   ]
  },
  {
   "cell_type": "markdown",
   "id": "0333f00c",
   "metadata": {},
   "source": [
    "# Model Building"
   ]
  },
  {
   "cell_type": "code",
   "execution_count": 54,
   "id": "9ebe72af",
   "metadata": {},
   "outputs": [
    {
     "name": "stdout",
     "output_type": "stream",
     "text": [
      "At random state 0,the training accuarcy is:- 0.43544962673789467\n",
      "At random state 0,the testing accuracy is:- 0.4081073678444262\n",
      "\n",
      "\n",
      "At random state 1,the training accuarcy is:- 0.4242860078076844\n",
      "At random state 1,the testing accuracy is:- 0.41577649958915364\n",
      "\n",
      "\n",
      "At random state 1 model performs well\n",
      "At random state 2,the training accuarcy is:- 0.4290117115266078\n",
      "At random state 2,the testing accuracy is:- 0.4133114215283484\n",
      "\n",
      "\n",
      "At random state 3,the training accuarcy is:- 0.42517635778371343\n",
      "At random state 3,the testing accuracy is:- 0.4171459874007121\n",
      "\n",
      "\n",
      "At random state 4,the training accuarcy is:- 0.42832682692966234\n",
      "At random state 4,the testing accuracy is:- 0.42125445083538754\n",
      "\n",
      "\n",
      "At random state 5,the training accuarcy is:- 0.4307239230189713\n",
      "At random state 5,the testing accuracy is:- 0.4086551629690496\n",
      "\n",
      "\n",
      "At random state 6,the training accuarcy is:- 0.4272995000342442\n",
      "At random state 6,the testing accuracy is:- 0.4171459874007121\n",
      "\n",
      "\n",
      "At random state 7,the training accuarcy is:- 0.4317512499143894\n",
      "At random state 7,the testing accuracy is:- 0.4086551629690496\n",
      "\n",
      "\n",
      "At random state 8,the training accuarcy is:- 0.4304499691801931\n",
      "At random state 8,the testing accuracy is:- 0.4187893727745823\n",
      "\n",
      "\n",
      "At random state 9,the training accuarcy is:- 0.43360043832614203\n",
      "At random state 9,the testing accuracy is:- 0.40975075321829635\n",
      "\n",
      "\n",
      "At random state 10,the training accuarcy is:- 0.4280528730908842\n",
      "At random state 10,the testing accuracy is:- 0.4185154752122706\n",
      "\n",
      "\n",
      "At random state 11,the training accuarcy is:- 0.42599821930004794\n",
      "At random state 11,the testing accuracy is:- 0.412763626403725\n",
      "\n",
      "\n",
      "At random state 12,the training accuarcy is:- 0.4300390384220259\n",
      "At random state 12,the testing accuracy is:- 0.4198849630238291\n",
      "\n",
      "\n",
      "At random state 13,the training accuarcy is:- 0.4317512499143894\n",
      "At random state 13,the testing accuracy is:- 0.42289783620925775\n",
      "\n",
      "\n",
      "At random state 14,the training accuarcy is:- 0.4299020615026368\n",
      "At random state 14,the testing accuracy is:- 0.41605039715146536\n",
      "\n",
      "\n",
      "At random state 15,the training accuarcy is:- 0.4287377576878296\n",
      "At random state 15,the testing accuracy is:- 0.41002465078060807\n",
      "\n",
      "\n",
      "At random state 16,the training accuarcy is:- 0.4317512499143894\n",
      "At random state 16,the testing accuracy is:- 0.412763626403725\n",
      "\n",
      "\n",
      "At random state 17,the training accuarcy is:- 0.4309978768577495\n",
      "At random state 17,the testing accuracy is:- 0.41112024102985484\n",
      "\n",
      "\n",
      "At random state 18,the training accuarcy is:- 0.42682008081638245\n",
      "At random state 18,the testing accuracy is:- 0.4141331142152835\n",
      "\n",
      "\n",
      "At random state 19,the training accuarcy is:- 0.4302445038011095\n",
      "At random state 19,the testing accuracy is:- 0.41605039715146536\n",
      "\n",
      "\n",
      "At random state 20,the training accuarcy is:- 0.4316142729950003\n",
      "At random state 20,the testing accuracy is:- 0.41468090933990687\n",
      "\n",
      "\n",
      "At random state 21,the training accuarcy is:- 0.4278474077118006\n",
      "At random state 21,the testing accuracy is:- 0.4305669679539852\n",
      "\n",
      "\n",
      "At random state 21 model performs well\n",
      "At random state 22,the training accuarcy is:- 0.43325799602766935\n",
      "At random state 22,the testing accuracy is:- 0.4185154752122706\n",
      "\n",
      "\n",
      "At random state 23,the training accuarcy is:- 0.4299020615026368\n",
      "At random state 23,the testing accuracy is:- 0.41687208983840046\n",
      "\n",
      "\n",
      "At random state 24,the training accuarcy is:- 0.4249024039449353\n",
      "At random state 24,the testing accuracy is:- 0.4171459874007121\n",
      "\n",
      "\n",
      "At random state 24 model performs well\n",
      "At random state 25,the training accuarcy is:- 0.4320252037531676\n",
      "At random state 25,the testing accuracy is:- 0.4135853190906601\n",
      "\n",
      "\n",
      "At random state 26,the training accuarcy is:- 0.42914868844599685\n",
      "At random state 26,the testing accuracy is:- 0.4182415776499589\n",
      "\n",
      "\n",
      "At random state 27,the training accuarcy is:- 0.42764194233271696\n",
      "At random state 27,the testing accuracy is:- 0.4122158312791016\n",
      "\n",
      "\n",
      "At random state 28,the training accuarcy is:- 0.4286692692281351\n",
      "At random state 28,the testing accuracy is:- 0.4144070117775952\n",
      "\n",
      "\n",
      "At random state 29,the training accuarcy is:- 0.4290801999863023\n",
      "At random state 29,the testing accuracy is:- 0.4196110654615174\n",
      "\n",
      "\n",
      "At random state 30,the training accuarcy is:- 0.4325731114307239\n",
      "At random state 30,the testing accuracy is:- 0.4081073678444262\n",
      "\n",
      "\n",
      "At random state 31,the training accuarcy is:- 0.4325046229710294\n",
      "At random state 31,the testing accuracy is:- 0.4204327581484525\n",
      "\n",
      "\n",
      "At random state 32,the training accuarcy is:- 0.4305869460995822\n",
      "At random state 32,the testing accuracy is:- 0.42070665571076415\n",
      "\n",
      "\n",
      "At random state 33,the training accuarcy is:- 0.4321621806725567\n",
      "At random state 33,the testing accuracy is:- 0.42755409476855655\n",
      "\n",
      "\n",
      "At random state 33 model performs well\n",
      "At random state 34,the training accuarcy is:- 0.42764194233271696\n",
      "At random state 34,the testing accuracy is:- 0.40920295809367296\n",
      "\n",
      "\n",
      "At random state 35,the training accuarcy is:- 0.4225737963153209\n",
      "At random state 35,the testing accuracy is:- 0.42810188989317993\n",
      "\n",
      "\n",
      "At random state 36,the training accuarcy is:- 0.4222998424765427\n",
      "At random state 36,the testing accuracy is:- 0.41468090933990687\n",
      "\n",
      "\n",
      "At random state 37,the training accuarcy is:- 0.42853229230874595\n",
      "At random state 37,the testing accuracy is:- 0.42070665571076415\n",
      "\n",
      "\n",
      "At random state 38,the training accuarcy is:- 0.43092938839805495\n",
      "At random state 38,the testing accuracy is:- 0.4305669679539852\n",
      "\n",
      "\n",
      "At random state 38 model performs well\n",
      "At random state 39,the training accuarcy is:- 0.4321621806725567\n",
      "At random state 39,the testing accuracy is:- 0.4113941385921665\n",
      "\n",
      "\n",
      "At random state 40,the training accuarcy is:- 0.43113485377713856\n",
      "At random state 40,the testing accuracy is:- 0.4113941385921665\n",
      "\n",
      "\n",
      "At random state 41,the training accuarcy is:- 0.43229915759194576\n",
      "At random state 41,the testing accuracy is:- 0.4193371678992057\n",
      "\n",
      "\n",
      "At random state 42,the training accuarcy is:- 0.4325046229710294\n",
      "At random state 42,the testing accuracy is:- 0.412763626403725\n",
      "\n",
      "\n",
      "At random state 43,the training accuarcy is:- 0.4239435655092117\n",
      "At random state 43,the testing accuracy is:- 0.41605039715146536\n",
      "\n",
      "\n",
      "At random state 43 model performs well\n",
      "At random state 44,the training accuarcy is:- 0.4317512499143894\n",
      "At random state 44,the testing accuracy is:- 0.4187893727745823\n",
      "\n",
      "\n",
      "At random state 45,the training accuarcy is:- 0.4296281076638586\n",
      "At random state 45,the testing accuracy is:- 0.40509449465899755\n",
      "\n",
      "\n",
      "At random state 46,the training accuarcy is:- 0.4247654270255462\n",
      "At random state 46,the testing accuracy is:- 0.4256368118323747\n",
      "\n",
      "\n",
      "At random state 47,the training accuarcy is:- 0.4364769536333128\n",
      "At random state 47,the testing accuracy is:- 0.4078334702821145\n",
      "\n",
      "\n",
      "At random state 48,the training accuarcy is:- 0.43209369221286215\n",
      "At random state 48,the testing accuracy is:- 0.4067378800328677\n",
      "\n",
      "\n",
      "At random state 49,the training accuarcy is:- 0.4323676460516403\n",
      "At random state 49,the testing accuracy is:- 0.42125445083538754\n",
      "\n",
      "\n",
      "At random state 50,the training accuarcy is:- 0.42010821176631735\n",
      "At random state 50,the testing accuracy is:- 0.41248972884141333\n",
      "\n",
      "\n",
      "At random state 51,the training accuarcy is:- 0.4272310115745497\n",
      "At random state 51,the testing accuracy is:- 0.42426732402081624\n",
      "\n",
      "\n",
      "At random state 52,the training accuarcy is:- 0.4260667077597425\n",
      "At random state 52,the testing accuracy is:- 0.4133114215283484\n",
      "\n",
      "\n",
      "At random state 53,the training accuarcy is:- 0.4283953153893569\n",
      "At random state 53,the testing accuracy is:- 0.4182415776499589\n",
      "\n",
      "\n",
      "At random state 54,the training accuarcy is:- 0.4292856653653859\n",
      "At random state 54,the testing accuracy is:- 0.4108463434675431\n",
      "\n",
      "\n",
      "At random state 55,the training accuarcy is:- 0.4331895075679748\n",
      "At random state 55,the testing accuracy is:- 0.39276910435497125\n",
      "\n",
      "\n",
      "At random state 56,the training accuarcy is:- 0.43065543455927674\n",
      "At random state 56,the testing accuracy is:- 0.42700629964393316\n",
      "\n",
      "\n",
      "At random state 56 model performs well\n",
      "At random state 57,the training accuarcy is:- 0.42620368467913156\n",
      "At random state 57,the testing accuracy is:- 0.4209805532730759\n",
      "\n",
      "\n",
      "At random state 58,the training accuarcy is:- 0.43031299226080405\n",
      "At random state 58,the testing accuracy is:- 0.40482059709668583\n",
      "\n",
      "\n",
      "At random state 59,the training accuarcy is:- 0.4299020615026368\n",
      "At random state 59,the testing accuracy is:- 0.4075595727198028\n",
      "\n",
      "\n",
      "At random state 60,the training accuarcy is:- 0.4317512499143894\n",
      "At random state 60,the testing accuracy is:- 0.40892906053136124\n",
      "\n",
      "\n"
     ]
    },
    {
     "name": "stdout",
     "output_type": "stream",
     "text": [
      "At random state 61,the training accuarcy is:- 0.42969659612355315\n",
      "At random state 61,the testing accuracy is:- 0.4130375239660367\n",
      "\n",
      "\n",
      "At random state 62,the training accuarcy is:- 0.42682008081638245\n",
      "At random state 62,the testing accuracy is:- 0.40975075321829635\n",
      "\n",
      "\n",
      "At random state 63,the training accuarcy is:- 0.4242860078076844\n",
      "At random state 63,the testing accuracy is:- 0.4187893727745823\n",
      "\n",
      "\n",
      "At random state 63 model performs well\n",
      "At random state 64,the training accuarcy is:- 0.43079241147866587\n",
      "At random state 64,the testing accuracy is:- 0.4007121336620104\n",
      "\n",
      "\n",
      "At random state 65,the training accuarcy is:- 0.42682008081638245\n",
      "At random state 65,the testing accuracy is:- 0.4185154752122706\n",
      "\n",
      "\n",
      "At random state 66,the training accuarcy is:- 0.42818985001027327\n",
      "At random state 66,the testing accuracy is:- 0.42015886058614077\n",
      "\n",
      "\n",
      "At random state 67,the training accuarcy is:- 0.43312101910828027\n",
      "At random state 67,the testing accuracy is:- 0.416324294713777\n",
      "\n",
      "\n",
      "At random state 68,the training accuarcy is:- 0.43243613451133484\n",
      "At random state 68,the testing accuracy is:- 0.40892906053136124\n",
      "\n",
      "\n",
      "At random state 69,the training accuarcy is:- 0.4356550921169783\n",
      "At random state 69,the testing accuracy is:- 0.40892906053136124\n",
      "\n",
      "\n"
     ]
    }
   ],
   "source": [
    "#logistic regression\n",
    "lr=LogisticRegression()\n",
    "l=[]\n",
    "for i in range(0,70):\n",
    "    x_train,x_test,y_train,y_test=train_test_split(x,y,test_size=0.2,random_state=i)\n",
    "    lr.fit(x_train,y_train)\n",
    "    pred_train=lr.predict(x_train)\n",
    "    pred_test=lr.predict(x_test)\n",
    "    print(f\"At random state {i},the training accuarcy is:- {accuracy_score(y_train,pred_train)}\")\n",
    "    print(f\"At random state {i},the testing accuracy is:- {accuracy_score(y_test,pred_test)}\")\n",
    "    print(\"\\n\")\n",
    "    if round(accuracy_score(y_train,pred_train)*100)==round(accuracy_score(y_test,pred_test)*100):\n",
    "        print(\"At random state\",i,\"model performs well\")\n",
    "        l.append(i)"
   ]
  },
  {
   "cell_type": "markdown",
   "id": "fc2108aa",
   "metadata": {},
   "source": [
    "Fitted data and finding best randomstates and spltted into training and testing"
   ]
  },
  {
   "cell_type": "code",
   "execution_count": 55,
   "id": "90ebce2d",
   "metadata": {},
   "outputs": [
    {
     "data": {
      "text/plain": [
       "[1, 21, 24, 33, 38, 43, 56, 63]"
      ]
     },
     "execution_count": 55,
     "metadata": {},
     "output_type": "execute_result"
    }
   ],
   "source": [
    "l"
   ]
  },
  {
   "cell_type": "markdown",
   "id": "5b7e2997",
   "metadata": {},
   "source": [
    "List of best random states"
   ]
  },
  {
   "cell_type": "code",
   "execution_count": 56,
   "id": "8c17b80a",
   "metadata": {},
   "outputs": [
    {
     "name": "stdout",
     "output_type": "stream",
     "text": [
      "              precision    recall  f1-score   support\n",
      "\n",
      "           0       0.52      0.44      0.48        75\n",
      "           1       0.33      0.26      0.29        68\n",
      "           2       0.68      0.54      0.60        71\n",
      "           3       0.20      0.63      0.30        65\n",
      "           4       0.41      0.38      0.39        64\n",
      "           5       0.49      0.34      0.40        68\n",
      "           6       0.49      0.78      0.61        55\n",
      "           7       0.46      0.43      0.45        76\n",
      "           8       0.75      0.41      0.53        73\n",
      "           9       0.34      0.61      0.43        54\n",
      "          10       0.21      0.25      0.22        61\n",
      "          11       0.41      0.45      0.43        77\n",
      "          12       0.74      0.43      0.54        72\n",
      "          13       0.56      0.43      0.49        72\n",
      "          14       0.61      0.28      0.38        71\n",
      "          15       0.46      0.84      0.59        51\n",
      "          16       0.77      0.37      0.50        65\n",
      "          17       0.24      0.71      0.36        66\n",
      "          18       0.21      0.17      0.19        76\n",
      "          19       0.70      0.22      0.33        64\n",
      "          20       0.23      0.48      0.31        60\n",
      "          21       0.62      0.31      0.42        67\n",
      "          22       0.43      0.42      0.43        59\n",
      "          23       0.37      0.49      0.42        71\n",
      "          24       0.42      0.35      0.38        65\n",
      "          25       0.79      0.44      0.57        59\n",
      "          26       0.27      0.24      0.25        72\n",
      "          27       0.19      0.48      0.28        61\n",
      "          28       0.72      0.62      0.66        78\n",
      "          29       0.74      0.72      0.73        75\n",
      "          30       0.48      0.21      0.29        77\n",
      "          31       0.23      0.14      0.17        65\n",
      "          32       0.47      0.45      0.46        64\n",
      "          33       0.59      0.22      0.32        77\n",
      "          34       1.00      0.01      0.03        77\n",
      "          35       0.95      0.51      0.66        81\n",
      "          36       0.79      0.43      0.56        72\n",
      "          37       0.33      0.37      0.35        67\n",
      "          38       0.63      0.30      0.41        79\n",
      "          39       0.25      0.46      0.32        63\n",
      "          40       0.29      0.52      0.37        67\n",
      "          41       0.40      0.36      0.38        56\n",
      "          42       0.54      0.56      0.55        70\n",
      "          43       0.55      0.41      0.47        73\n",
      "          44       0.87      0.22      0.35        59\n",
      "          45       0.57      0.58      0.58        72\n",
      "          46       0.78      0.41      0.54        71\n",
      "          47       0.19      0.11      0.14        65\n",
      "          48       0.18      0.33      0.24        64\n",
      "          49       0.19      0.53      0.28        62\n",
      "          50       0.35      0.10      0.15        71\n",
      "          51       0.89      0.98      0.93        63\n",
      "          52       0.78      0.74      0.76        68\n",
      "          53       0.52      0.40      0.46        57\n",
      "\n",
      "    accuracy                           0.42      3651\n",
      "   macro avg       0.50      0.42      0.42      3651\n",
      "weighted avg       0.51      0.42      0.42      3651\n",
      "\n",
      "[[33  0  0 ...  0  0  0]\n",
      " [ 2 18  0 ...  0  0  0]\n",
      " [ 0  0 38 ...  0  0  5]\n",
      " ...\n",
      " [ 0  0  0 ... 62  1  0]\n",
      " [ 0  0  0 ...  6 50  0]\n",
      " [ 0  1  0 ...  0  0 23]]\n"
     ]
    }
   ],
   "source": [
    "x_train,x_test,y_train,y_test=train_test_split(x,y,test_size=0.2,random_state=63)\n",
    "lr.fit(x_train,y_train)\n",
    "predlr=lr.predict(x_test)\n",
    "acc_l=classification_report(y_test,predlr)\n",
    "print(acc_l)\n",
    "print(confusion_matrix(y_test,predlr))"
   ]
  },
  {
   "cell_type": "markdown",
   "id": "b2049551",
   "metadata": {},
   "source": [
    "Accuracy score and confusion matrix"
   ]
  },
  {
   "cell_type": "code",
   "execution_count": 57,
   "id": "c5b3bfd3",
   "metadata": {},
   "outputs": [
    {
     "name": "stdout",
     "output_type": "stream",
     "text": [
      "At random state 0,the training accuarcy is:- 1.0\n",
      "At random state 0,the testing accuracy is:- 0.796768008764722\n",
      "\n",
      "\n",
      "At random state 1,the training accuarcy is:- 1.0\n",
      "At random state 1,the testing accuracy is:- 0.8225143796220213\n",
      "\n",
      "\n",
      "At random state 2,the training accuarcy is:- 1.0\n",
      "At random state 2,the testing accuracy is:- 0.8112845795672419\n",
      "\n",
      "\n",
      "At random state 3,the training accuarcy is:- 1.0\n",
      "At random state 3,the testing accuracy is:- 0.8079978088195016\n",
      "\n",
      "\n",
      "At random state 4,the training accuarcy is:- 1.0\n",
      "At random state 4,the testing accuracy is:- 0.816488633251164\n",
      "\n",
      "\n",
      "At random state 5,the training accuarcy is:- 1.0\n",
      "At random state 5,the testing accuracy is:- 0.8151191454396056\n",
      "\n",
      "\n",
      "At random state 6,the training accuarcy is:- 1.0\n",
      "At random state 6,the testing accuracy is:- 0.8132018625034237\n",
      "\n",
      "\n",
      "At random state 7,the training accuarcy is:- 1.0\n",
      "At random state 7,the testing accuracy is:- 0.8058066283210079\n",
      "\n",
      "\n",
      "At random state 8,the training accuarcy is:- 1.0\n",
      "At random state 8,the testing accuracy is:- 0.812927964941112\n",
      "\n",
      "\n",
      "At random state 9,the training accuarcy is:- 1.0\n",
      "At random state 9,the testing accuracy is:- 0.8137496576280471\n",
      "\n",
      "\n",
      "At random state 10,the training accuarcy is:- 1.0\n",
      "At random state 10,the testing accuracy is:- 0.8011503697617092\n",
      "\n",
      "\n",
      "At random state 11,the training accuarcy is:- 1.0\n",
      "At random state 11,the testing accuracy is:- 0.8071761161325665\n",
      "\n",
      "\n",
      "At random state 12,the training accuarcy is:- 1.0\n",
      "At random state 12,the testing accuracy is:- 0.8142974527526705\n",
      "\n",
      "\n",
      "At random state 13,the training accuarcy is:- 1.0\n",
      "At random state 13,the testing accuracy is:- 0.8132018625034237\n",
      "\n",
      "\n",
      "At random state 14,the training accuarcy is:- 1.0\n",
      "At random state 14,the testing accuracy is:- 0.8000547795124623\n",
      "\n",
      "\n",
      "At random state 15,the training accuarcy is:- 1.0\n",
      "At random state 15,the testing accuracy is:- 0.803889345384826\n",
      "\n",
      "\n",
      "At random state 16,the training accuarcy is:- 1.0\n",
      "At random state 16,the testing accuracy is:- 0.812106272254177\n",
      "\n",
      "\n",
      "At random state 17,the training accuarcy is:- 1.0\n",
      "At random state 17,the testing accuracy is:- 0.8123801698164886\n",
      "\n",
      "\n",
      "At random state 18,the training accuarcy is:- 1.0\n",
      "At random state 18,the testing accuracy is:- 0.8178581210627225\n",
      "\n",
      "\n",
      "At random state 19,the training accuarcy is:- 1.0\n",
      "At random state 19,the testing accuracy is:- 0.7981374965762805\n",
      "\n",
      "\n",
      "At random state 20,the training accuarcy is:- 1.0\n",
      "At random state 20,the testing accuracy is:- 0.8000547795124623\n",
      "\n",
      "\n",
      "At random state 21,the training accuarcy is:- 1.0\n",
      "At random state 21,the testing accuracy is:- 0.8044371405094495\n",
      "\n",
      "\n",
      "At random state 22,the training accuarcy is:- 1.0\n",
      "At random state 22,the testing accuracy is:- 0.8167625308134757\n",
      "\n",
      "\n",
      "At random state 23,the training accuarcy is:- 1.0\n",
      "At random state 23,the testing accuracy is:- 0.7973158038893454\n",
      "\n",
      "\n",
      "At random state 24,the training accuarcy is:- 1.0\n",
      "At random state 24,the testing accuracy is:- 0.8099150917556833\n",
      "\n",
      "\n",
      "At random state 25,the training accuarcy is:- 1.0\n",
      "At random state 25,the testing accuracy is:- 0.8132018625034237\n",
      "\n",
      "\n",
      "At random state 26,the training accuarcy is:- 1.0\n",
      "At random state 26,the testing accuracy is:- 0.8006025746370857\n",
      "\n",
      "\n",
      "At random state 27,the training accuarcy is:- 1.0\n",
      "At random state 27,the testing accuracy is:- 0.8052588331963846\n",
      "\n",
      "\n",
      "At random state 28,the training accuarcy is:- 1.0\n",
      "At random state 28,the testing accuracy is:- 0.8181320186250343\n",
      "\n",
      "\n",
      "At random state 29,the training accuarcy is:- 1.0\n",
      "At random state 29,the testing accuracy is:- 0.8148452478772938\n",
      "\n",
      "\n",
      "At random state 30,the training accuarcy is:- 1.0\n",
      "At random state 30,the testing accuracy is:- 0.8082717063818132\n",
      "\n",
      "\n",
      "At random state 31,the training accuarcy is:- 1.0\n",
      "At random state 31,the testing accuracy is:- 0.8126540673788003\n",
      "\n",
      "\n",
      "At random state 32,the training accuarcy is:- 1.0\n",
      "At random state 32,the testing accuracy is:- 0.8069022185702547\n",
      "\n",
      "\n",
      "At random state 33,the training accuarcy is:- 1.0\n",
      "At random state 33,the testing accuracy is:- 0.8025198575732676\n",
      "\n",
      "\n",
      "At random state 34,the training accuarcy is:- 1.0\n",
      "At random state 34,the testing accuracy is:- 0.8153930430019173\n",
      "\n",
      "\n",
      "At random state 35,the training accuarcy is:- 1.0\n",
      "At random state 35,the testing accuracy is:- 0.8033415502602027\n",
      "\n",
      "\n",
      "At random state 36,the training accuarcy is:- 1.0\n",
      "At random state 36,the testing accuracy is:- 0.8200493015612161\n",
      "\n",
      "\n",
      "At random state 37,the training accuarcy is:- 1.0\n",
      "At random state 37,the testing accuracy is:- 0.8178581210627225\n",
      "\n",
      "\n",
      "At random state 38,the training accuarcy is:- 1.0\n",
      "At random state 38,the testing accuracy is:- 0.8074500136948781\n",
      "\n",
      "\n",
      "At random state 39,the training accuarcy is:- 1.0\n",
      "At random state 39,the testing accuracy is:- 0.8184059161873459\n",
      "\n",
      "\n",
      "At random state 40,the training accuarcy is:- 1.0\n",
      "At random state 40,the testing accuracy is:- 0.8110106820049302\n",
      "\n",
      "\n",
      "At random state 41,the training accuarcy is:- 1.0\n",
      "At random state 41,the testing accuracy is:- 0.80936729663106\n",
      "\n",
      "\n",
      "At random state 42,the training accuarcy is:- 1.0\n",
      "At random state 42,the testing accuracy is:- 0.8137496576280471\n",
      "\n",
      "\n",
      "At random state 43,the training accuarcy is:- 1.0\n",
      "At random state 43,the testing accuracy is:- 0.8118323746918652\n",
      "\n",
      "\n",
      "At random state 44,the training accuarcy is:- 1.0\n",
      "At random state 44,the testing accuracy is:- 0.8014242673240208\n",
      "\n",
      "\n",
      "At random state 45,the training accuarcy is:- 1.0\n",
      "At random state 45,the testing accuracy is:- 0.8101889893179951\n",
      "\n",
      "\n",
      "At random state 46,the training accuarcy is:- 1.0\n",
      "At random state 46,the testing accuracy is:- 0.8216926869350862\n",
      "\n",
      "\n",
      "At random state 47,the training accuarcy is:- 1.0\n",
      "At random state 47,the testing accuracy is:- 0.7978635990139687\n",
      "\n",
      "\n",
      "At random state 48,the training accuarcy is:- 1.0\n",
      "At random state 48,the testing accuracy is:- 0.8074500136948781\n",
      "\n",
      "\n",
      "At random state 49,the training accuarcy is:- 1.0\n",
      "At random state 49,the testing accuracy is:- 0.80936729663106\n",
      "\n",
      "\n",
      "At random state 50,the training accuarcy is:- 1.0\n",
      "At random state 50,the testing accuracy is:- 0.8033415502602027\n",
      "\n",
      "\n",
      "At random state 51,the training accuarcy is:- 1.0\n",
      "At random state 51,the testing accuracy is:- 0.8055327307586962\n",
      "\n",
      "\n",
      "At random state 52,the training accuarcy is:- 1.0\n",
      "At random state 52,the testing accuracy is:- 0.8006025746370857\n",
      "\n",
      "\n",
      "At random state 53,the training accuarcy is:- 1.0\n",
      "At random state 53,the testing accuracy is:- 0.8115584771295535\n",
      "\n",
      "\n",
      "At random state 54,the training accuarcy is:- 1.0\n",
      "At random state 54,the testing accuracy is:- 0.7918378526431115\n",
      "\n",
      "\n",
      "At random state 55,the training accuarcy is:- 1.0\n",
      "At random state 55,the testing accuracy is:- 0.8019720624486442\n",
      "\n",
      "\n",
      "At random state 56,the training accuarcy is:- 1.0\n",
      "At random state 56,the testing accuracy is:- 0.8249794576828267\n",
      "\n",
      "\n",
      "At random state 57,the training accuarcy is:- 1.0\n",
      "At random state 57,the testing accuracy is:- 0.8099150917556833\n",
      "\n",
      "\n",
      "At random state 58,the training accuarcy is:- 1.0\n",
      "At random state 58,the testing accuracy is:- 0.8014242673240208\n",
      "\n",
      "\n",
      "At random state 59,the training accuarcy is:- 1.0\n",
      "At random state 59,the testing accuracy is:- 0.8175842235004108\n",
      "\n",
      "\n",
      "At random state 60,the training accuarcy is:- 1.0\n",
      "At random state 60,the testing accuracy is:- 0.8162147356888524\n",
      "\n",
      "\n",
      "At random state 61,the training accuarcy is:- 1.0\n",
      "At random state 61,the testing accuracy is:- 0.8049849356340728\n",
      "\n",
      "\n",
      "At random state 62,the training accuarcy is:- 1.0\n",
      "At random state 62,the testing accuracy is:- 0.8205970966858395\n",
      "\n",
      "\n",
      "At random state 63,the training accuarcy is:- 1.0\n",
      "At random state 63,the testing accuracy is:- 0.8041632429471378\n",
      "\n",
      "\n",
      "At random state 64,the training accuarcy is:- 1.0\n",
      "At random state 64,the testing accuracy is:- 0.799506984387839\n",
      "\n",
      "\n",
      "At random state 65,the training accuarcy is:- 1.0\n",
      "At random state 65,the testing accuracy is:- 0.806628321007943\n",
      "\n",
      "\n",
      "At random state 66,the training accuarcy is:- 1.0\n",
      "At random state 66,the testing accuracy is:- 0.8175842235004108\n",
      "\n",
      "\n",
      "At random state 67,the training accuarcy is:- 1.0\n",
      "At random state 67,the testing accuracy is:- 0.8115584771295535\n",
      "\n",
      "\n",
      "At random state 68,the training accuarcy is:- 1.0\n",
      "At random state 68,the testing accuracy is:- 0.8090933990687483\n",
      "\n",
      "\n",
      "At random state 69,the training accuarcy is:- 1.0\n",
      "At random state 69,the testing accuracy is:- 0.799506984387839\n",
      "\n",
      "\n"
     ]
    }
   ],
   "source": [
    "#decision tree classifier\n",
    "dt=DecisionTreeClassifier()\n",
    "d=[]\n",
    "for i in range(0,70):\n",
    "    x_train,x_test,y_train,y_test=train_test_split(x,y,test_size=0.2,random_state=i)\n",
    "    dt.fit(x_train,y_train)\n",
    "    pred_train=dt.predict(x_train)\n",
    "    pred_test=dt.predict(x_test)\n",
    "    print(f\"At random state {i},the training accuarcy is:- {accuracy_score(y_train,pred_train)}\")\n",
    "    print(f\"At random state {i},the testing accuracy is:- {accuracy_score(y_test,pred_test)}\")\n",
    "    print(\"\\n\")\n",
    "    if round(accuracy_score(y_train,pred_train)*100)==round(accuracy_score(y_test,pred_test)*100):\n",
    "        print(\"At random state\",i,\"model performs well\")\n",
    "        d.append(i)"
   ]
  },
  {
   "cell_type": "markdown",
   "id": "d2f5fb20",
   "metadata": {},
   "source": [
    "Fitted data and finding best randomstates and spltted into training and testing"
   ]
  },
  {
   "cell_type": "code",
   "execution_count": 58,
   "id": "a92ac93a",
   "metadata": {},
   "outputs": [
    {
     "name": "stdout",
     "output_type": "stream",
     "text": [
      "              precision    recall  f1-score   support\n",
      "\n",
      "           0       0.92      0.75      0.83        80\n",
      "           1       0.65      0.74      0.70        74\n",
      "           2       0.87      0.91      0.89        75\n",
      "           3       0.80      0.78      0.79        81\n",
      "           4       0.94      0.83      0.88        58\n",
      "           5       0.69      0.75      0.72        65\n",
      "           6       0.96      0.97      0.97        78\n",
      "           7       0.74      0.89      0.81        65\n",
      "           8       0.99      0.96      0.97        69\n",
      "           9       0.83      0.75      0.79        73\n",
      "          10       0.71      0.63      0.67        67\n",
      "          11       0.95      0.86      0.90        64\n",
      "          12       0.81      0.88      0.84        57\n",
      "          13       0.69      0.72      0.70        71\n",
      "          14       0.80      0.82      0.81        62\n",
      "          15       0.97      0.92      0.95        76\n",
      "          16       0.87      0.92      0.89        71\n",
      "          17       0.76      0.85      0.80        78\n",
      "          18       0.82      0.83      0.82        59\n",
      "          19       0.76      0.83      0.79        65\n",
      "          20       0.87      0.83      0.85        66\n",
      "          21       0.70      0.66      0.68        64\n",
      "          22       0.95      0.91      0.93        66\n",
      "          23       0.77      0.74      0.75        80\n",
      "          24       0.73      0.70      0.72        63\n",
      "          25       0.87      0.95      0.91        65\n",
      "          26       0.71      0.77      0.74        61\n",
      "          27       0.92      0.82      0.87        57\n",
      "          28       0.86      0.76      0.81        74\n",
      "          29       0.91      0.86      0.88        69\n",
      "          30       0.83      0.92      0.87        71\n",
      "          31       0.63      0.69      0.66        59\n",
      "          32       0.84      0.80      0.82        81\n",
      "          33       0.70      0.77      0.73        52\n",
      "          34       0.83      0.91      0.87        54\n",
      "          35       0.82      0.90      0.86        68\n",
      "          36       0.63      0.63      0.63        65\n",
      "          37       0.80      0.78      0.79        68\n",
      "          38       0.78      0.63      0.69        67\n",
      "          39       0.79      0.89      0.83        54\n",
      "          40       0.87      0.77      0.82        69\n",
      "          41       0.79      0.65      0.71        57\n",
      "          42       0.88      0.93      0.90        71\n",
      "          43       0.79      0.84      0.82        74\n",
      "          44       0.78      0.85      0.81        72\n",
      "          45       0.92      0.95      0.94        62\n",
      "          46       0.93      0.92      0.93        74\n",
      "          47       0.76      0.68      0.72        77\n",
      "          48       0.73      0.79      0.76        77\n",
      "          49       0.84      0.90      0.87        63\n",
      "          50       0.63      0.60      0.62        67\n",
      "          51       1.00      1.00      1.00        61\n",
      "          52       0.96      0.97      0.96        70\n",
      "          53       0.77      0.75      0.76        65\n",
      "\n",
      "    accuracy                           0.82      3651\n",
      "   macro avg       0.82      0.82      0.82      3651\n",
      "weighted avg       0.82      0.82      0.82      3651\n",
      "\n",
      "<function confusion_matrix at 0x0000020ECCA96DC0>\n"
     ]
    }
   ],
   "source": [
    "x_train,x_test,y_train,y_test=train_test_split(x,y,test_size=0.2,random_state=67)\n",
    "dt.fit(x_train,y_train)\n",
    "preddt=dt.predict(x_test)\n",
    "acc_l=classification_report(y_test,preddt)\n",
    "print(acc_l)\n",
    "print(confusion_matrix)"
   ]
  },
  {
   "cell_type": "markdown",
   "id": "28f68389",
   "metadata": {},
   "source": [
    "Accuracy score is 81% not bad"
   ]
  },
  {
   "cell_type": "raw",
   "id": "e5ee4632",
   "metadata": {},
   "source": [
    "#support vector classifier\n",
    "sv=SVC()\n",
    "s=[]\n",
    "for i in range(0,70):\n",
    "    x_train,x_test,y_train,y_test=train_test_split(x,y,test_size=0.2,random_state=i)\n",
    "    sv.fit(x_train,y_train)\n",
    "    pred_train=sv.predict(x_train)\n",
    "    pred_test=sv.predict(x_test)\n",
    "    print(f\"At random state {i},the training accuarcy is:- {accuracy_score(y_train,pred_train)}\")\n",
    "    print(f\"At random state {i},the testing accuracy is:- {accuracy_score(y_test,pred_test)}\")\n",
    "    print(\"\\n\")\n",
    "    if round(accuracy_score(y_train,pred_train)*100)==round(accuracy_score(y_test,pred_test)*100):\n",
    "        print(\"At random state\",i,\"model performs well\")\n",
    "        s.append(i)"
   ]
  },
  {
   "cell_type": "code",
   "execution_count": 59,
   "id": "0265b3c3",
   "metadata": {},
   "outputs": [
    {
     "name": "stdout",
     "output_type": "stream",
     "text": [
      "              precision    recall  f1-score   support\n",
      "\n",
      "           0       0.50      0.03      0.05        73\n",
      "           1       0.69      0.34      0.45        65\n",
      "           2       0.38      0.54      0.44        56\n",
      "           3       0.26      0.40      0.31        63\n",
      "           4       0.82      0.36      0.50        64\n",
      "           5       0.28      0.24      0.26        62\n",
      "           6       0.67      0.76      0.71        58\n",
      "           7       0.23      0.38      0.29        60\n",
      "           8       0.51      0.62      0.56        85\n",
      "           9       0.30      0.37      0.33        67\n",
      "          10       0.17      0.12      0.14        51\n",
      "          11       0.40      0.46      0.43        76\n",
      "          12       0.68      0.49      0.57        57\n",
      "          13       0.85      0.30      0.45        76\n",
      "          14       0.76      0.19      0.30        70\n",
      "          15       0.35      0.78      0.48        58\n",
      "          16       0.64      0.39      0.48        70\n",
      "          17       0.39      0.66      0.49        68\n",
      "          18       0.18      0.44      0.26        61\n",
      "          19       0.44      0.26      0.32        66\n",
      "          20       0.52      0.24      0.33        62\n",
      "          21       0.62      0.33      0.43        64\n",
      "          22       0.83      0.56      0.67        68\n",
      "          23       0.70      0.23      0.34        84\n",
      "          24       0.79      0.38      0.51        68\n",
      "          25       0.92      0.35      0.51        69\n",
      "          26       0.28      0.16      0.20        62\n",
      "          27       0.58      0.28      0.37        80\n",
      "          28       0.27      0.69      0.39        65\n",
      "          29       0.90      0.73      0.80        62\n",
      "          30       0.17      0.52      0.26        56\n",
      "          31       0.05      0.09      0.06        76\n",
      "          32       0.43      0.42      0.43        73\n",
      "          33       0.35      0.43      0.39        70\n",
      "          34       0.09      0.32      0.14        65\n",
      "          35       0.75      0.48      0.59        62\n",
      "          36       0.64      0.34      0.44        68\n",
      "          37       0.54      0.09      0.15        79\n",
      "          38       0.10      0.43      0.16        56\n",
      "          39       0.06      0.06      0.06        77\n",
      "          40       0.70      0.51      0.59        61\n",
      "          41       0.69      0.35      0.47        71\n",
      "          42       0.48      0.66      0.55        62\n",
      "          43       0.78      0.37      0.50        79\n",
      "          44       0.39      0.26      0.31        53\n",
      "          45       0.63      0.65      0.64        79\n",
      "          46       0.36      0.54      0.43        65\n",
      "          47       0.10      0.03      0.04        73\n",
      "          48       0.71      0.06      0.10        89\n",
      "          49       0.36      0.31      0.33        68\n",
      "          50       0.30      0.23      0.26        69\n",
      "          51       1.00      1.00      1.00        64\n",
      "          52       0.97      0.87      0.92        71\n",
      "          53       0.84      0.36      0.50        75\n",
      "\n",
      "    accuracy                           0.39      3651\n",
      "   macro avg       0.51      0.40      0.40      3651\n",
      "weighted avg       0.52      0.39      0.40      3651\n",
      "\n",
      "[[ 2  0  6 ...  0  0  0]\n",
      " [ 0 22  0 ...  0  0  0]\n",
      " [ 0  0 30 ...  0  0  0]\n",
      " ...\n",
      " [ 0  0  0 ... 64  0  0]\n",
      " [ 0  0  0 ...  0 62  0]\n",
      " [ 0  0  0 ...  0  0 27]]\n"
     ]
    }
   ],
   "source": [
    "#support vector classifier\n",
    "sv=SVC()\n",
    "x_train,x_test,y_train,y_test=train_test_split(x,y,test_size=0.2,random_state=69)\n",
    "sv.fit(x_train,y_train)\n",
    "predsv=sv.predict(x_test)\n",
    "acc_l=classification_report(y_test,predsv)\n",
    "print(acc_l)\n",
    "print(confusion_matrix(y_test,predsv))"
   ]
  },
  {
   "cell_type": "markdown",
   "id": "296ba2c6",
   "metadata": {},
   "source": [
    "Accuracy score, it givs low accuracy"
   ]
  },
  {
   "cell_type": "code",
   "execution_count": 60,
   "id": "bdf7d04e",
   "metadata": {},
   "outputs": [
    {
     "name": "stdout",
     "output_type": "stream",
     "text": [
      "At random state 0,the training accuarcy is:- 1.0\n",
      "At random state 0,the testing accuracy is:- 0.913722267871816\n",
      "\n",
      "\n",
      "At random state 1,the training accuarcy is:- 1.0\n",
      "At random state 1,the testing accuracy is:- 0.9227608874281019\n",
      "\n",
      "\n",
      "At random state 2,the training accuarcy is:- 1.0\n",
      "At random state 2,the testing accuracy is:- 0.9213913996165434\n",
      "\n",
      "\n",
      "At random state 3,the training accuarcy is:- 1.0\n",
      "At random state 3,the testing accuracy is:- 0.9219391947411668\n",
      "\n",
      "\n",
      "At random state 4,the training accuarcy is:- 1.0\n",
      "At random state 4,the testing accuracy is:- 0.9211175020542317\n",
      "\n",
      "\n",
      "At random state 5,the training accuarcy is:- 1.0\n",
      "At random state 5,the testing accuracy is:- 0.9175568337441796\n",
      "\n",
      "\n",
      "At random state 6,the training accuarcy is:- 1.0\n",
      "At random state 6,the testing accuracy is:- 0.9249520679265955\n",
      "\n",
      "\n",
      "At random state 7,the training accuarcy is:- 1.0\n",
      "At random state 7,the testing accuracy is:- 0.9153656532456861\n",
      "\n",
      "\n",
      "At random state 8,the training accuarcy is:- 1.0\n",
      "At random state 8,the testing accuracy is:- 0.9268693508627773\n",
      "\n",
      "\n",
      "At random state 9,the training accuarcy is:- 1.0\n",
      "At random state 9,the testing accuracy is:- 0.9178307313064914\n",
      "\n",
      "\n",
      "At random state 10,the training accuarcy is:- 1.0\n",
      "At random state 10,the testing accuracy is:- 0.9219391947411668\n",
      "\n",
      "\n",
      "At random state 11,the training accuarcy is:- 1.0\n",
      "At random state 11,the testing accuracy is:- 0.9178307313064914\n",
      "\n",
      "\n",
      "At random state 12,the training accuarcy is:- 1.0\n",
      "At random state 12,the testing accuracy is:- 0.9213913996165434\n",
      "\n",
      "\n",
      "At random state 13,the training accuarcy is:- 1.0\n",
      "At random state 13,the testing accuracy is:- 0.9161873459326212\n",
      "\n",
      "\n",
      "At random state 14,the training accuarcy is:- 1.0\n",
      "At random state 14,the testing accuracy is:- 0.9164612434949329\n",
      "\n",
      "\n",
      "At random state 15,the training accuarcy is:- 1.0\n",
      "At random state 15,the testing accuracy is:- 0.9224869898657901\n",
      "\n",
      "\n",
      "At random state 16,the training accuarcy is:- 1.0\n",
      "At random state 16,the testing accuracy is:- 0.9224869898657901\n",
      "\n",
      "\n",
      "At random state 17,the training accuarcy is:- 1.0\n",
      "At random state 17,the testing accuracy is:- 0.9181046288688031\n",
      "\n",
      "\n",
      "At random state 18,the training accuarcy is:- 1.0\n",
      "At random state 18,the testing accuracy is:- 0.9254998630512189\n",
      "\n",
      "\n",
      "At random state 19,the training accuarcy is:- 1.0\n",
      "At random state 19,the testing accuracy is:- 0.9161873459326212\n",
      "\n",
      "\n",
      "At random state 20,the training accuarcy is:- 1.0\n",
      "At random state 20,the testing accuracy is:- 0.9087921117502055\n",
      "\n",
      "\n",
      "At random state 21,the training accuarcy is:- 1.0\n",
      "At random state 21,the testing accuracy is:- 0.9159134483703095\n",
      "\n",
      "\n",
      "At random state 22,the training accuarcy is:- 1.0\n",
      "At random state 22,the testing accuracy is:- 0.9211175020542317\n",
      "\n",
      "\n",
      "At random state 23,the training accuarcy is:- 1.0\n",
      "At random state 23,the testing accuracy is:- 0.9167351410572446\n",
      "\n",
      "\n",
      "At random state 24,the training accuarcy is:- 1.0\n",
      "At random state 24,the testing accuracy is:- 0.9200219118049849\n",
      "\n",
      "\n",
      "At random state 25,the training accuarcy is:- 1.0\n",
      "At random state 25,the testing accuracy is:- 0.9189263215557382\n",
      "\n",
      "\n",
      "At random state 26,the training accuarcy is:- 1.0\n",
      "At random state 26,the testing accuracy is:- 0.9107093946863873\n",
      "\n",
      "\n",
      "At random state 27,the training accuarcy is:- 1.0\n",
      "At random state 27,the testing accuracy is:- 0.9254998630512189\n",
      "\n",
      "\n",
      "At random state 28,the training accuarcy is:- 1.0\n",
      "At random state 28,the testing accuracy is:- 0.9268693508627773\n",
      "\n",
      "\n",
      "At random state 29,the training accuarcy is:- 1.0\n",
      "At random state 29,the testing accuracy is:- 0.9224869898657901\n",
      "\n",
      "\n",
      "At random state 30,the training accuarcy is:- 1.0\n",
      "At random state 30,the testing accuracy is:- 0.9164612434949329\n",
      "\n",
      "\n",
      "At random state 31,the training accuarcy is:- 1.0\n",
      "At random state 31,the testing accuracy is:- 0.9186524239934265\n",
      "\n",
      "\n",
      "At random state 32,the training accuarcy is:- 1.0\n",
      "At random state 32,the testing accuracy is:- 0.9197480142426733\n",
      "\n",
      "\n",
      "At random state 33,the training accuarcy is:- 1.0\n",
      "At random state 33,the testing accuracy is:- 0.9200219118049849\n",
      "\n",
      "\n",
      "At random state 34,the training accuarcy is:- 1.0\n",
      "At random state 34,the testing accuracy is:- 0.9194741166803615\n",
      "\n",
      "\n",
      "At random state 35,the training accuarcy is:- 1.0\n",
      "At random state 35,the testing accuracy is:- 0.9211175020542317\n",
      "\n",
      "\n",
      "At random state 36,the training accuarcy is:- 1.0\n",
      "At random state 36,the testing accuracy is:- 0.9224869898657901\n",
      "\n",
      "\n",
      "At random state 37,the training accuarcy is:- 1.0\n",
      "At random state 37,the testing accuracy is:- 0.9216652971788551\n",
      "\n",
      "\n",
      "At random state 38,the training accuarcy is:- 1.0\n",
      "At random state 38,the testing accuracy is:- 0.9161873459326212\n",
      "\n",
      "\n",
      "At random state 39,the training accuarcy is:- 1.0\n",
      "At random state 39,the testing accuracy is:- 0.9123527800602574\n",
      "\n",
      "\n",
      "At random state 40,the training accuarcy is:- 1.0\n",
      "At random state 40,the testing accuracy is:- 0.9202958093672966\n",
      "\n",
      "\n",
      "At random state 41,the training accuarcy is:- 1.0\n",
      "At random state 41,the testing accuracy is:- 0.924404272801972\n",
      "\n",
      "\n",
      "At random state 42,the training accuarcy is:- 1.0\n",
      "At random state 42,the testing accuracy is:- 0.9216652971788551\n",
      "\n",
      "\n",
      "At random state 43,the training accuarcy is:- 1.0\n",
      "At random state 43,the testing accuracy is:- 0.9167351410572446\n",
      "\n",
      "\n",
      "At random state 44,the training accuarcy is:- 1.0\n",
      "At random state 44,the testing accuracy is:- 0.9153656532456861\n",
      "\n",
      "\n",
      "At random state 45,the training accuarcy is:- 1.0\n",
      "At random state 45,the testing accuracy is:- 0.924404272801972\n",
      "\n",
      "\n",
      "At random state 46,the training accuarcy is:- 1.0\n",
      "At random state 46,the testing accuracy is:- 0.9222130923034785\n",
      "\n",
      "\n",
      "At random state 47,the training accuarcy is:- 1.0\n",
      "At random state 47,the testing accuracy is:- 0.9134483703095042\n",
      "\n",
      "\n",
      "At random state 48,the training accuarcy is:- 1.0\n",
      "At random state 48,the testing accuracy is:- 0.92084360449192\n",
      "\n",
      "\n",
      "At random state 49,the training accuarcy is:- 1.0\n",
      "At random state 49,the testing accuracy is:- 0.927143248425089\n",
      "\n",
      "\n",
      "At random state 50,the training accuarcy is:- 1.0\n",
      "At random state 50,the testing accuracy is:- 0.9205697069296084\n",
      "\n",
      "\n",
      "At random state 51,the training accuarcy is:- 1.0\n",
      "At random state 51,the testing accuracy is:- 0.9246781703642838\n",
      "\n",
      "\n",
      "At random state 52,the training accuarcy is:- 1.0\n",
      "At random state 52,the testing accuracy is:- 0.9254998630512189\n",
      "\n",
      "\n",
      "At random state 53,the training accuarcy is:- 1.0\n",
      "At random state 53,the testing accuracy is:- 0.9181046288688031\n",
      "\n",
      "\n",
      "At random state 54,the training accuarcy is:- 1.0\n",
      "At random state 54,the testing accuracy is:- 0.9150917556833744\n",
      "\n",
      "\n"
     ]
    }
   ],
   "source": [
    "#random forest classifier\n",
    "rf=RandomForestClassifier()\n",
    "r=[]\n",
    "for i in range(0,55):\n",
    "    x_train,x_test,y_train,y_test=train_test_split(x,y,test_size=0.2,random_state=i)\n",
    "    rf.fit(x_train,y_train)\n",
    "    pred_train=rf.predict(x_train)\n",
    "    pred_test=rf.predict(x_test)\n",
    "    print(f\"At random state {i},the training accuarcy is:- {accuracy_score(y_train,pred_train)}\")\n",
    "    print(f\"At random state {i},the testing accuracy is:- {accuracy_score(y_test,pred_test)}\")\n",
    "    print(\"\\n\")\n",
    "    if round(accuracy_score(y_train,pred_train)*100)==round(accuracy_score(y_test,pred_test)*100):\n",
    "        print(\"At random state\",i,\"model performs well\")\n",
    "        r.append(i)"
   ]
  },
  {
   "cell_type": "markdown",
   "id": "63ecfaf5",
   "metadata": {},
   "source": [
    "Splitted into train and test data find accuracy score find beat random states"
   ]
  },
  {
   "cell_type": "code",
   "execution_count": 61,
   "id": "1956c93c",
   "metadata": {},
   "outputs": [
    {
     "name": "stdout",
     "output_type": "stream",
     "text": [
      "              precision    recall  f1-score   support\n",
      "\n",
      "           0       0.87      0.94      0.90        62\n",
      "           1       0.88      0.87      0.88        77\n",
      "           2       0.94      1.00      0.97        61\n",
      "           3       0.89      0.92      0.90        51\n",
      "           4       0.95      0.95      0.95        77\n",
      "           5       0.89      0.82      0.85        67\n",
      "           6       1.00      1.00      1.00        64\n",
      "           7       0.86      0.92      0.89        72\n",
      "           8       0.99      0.99      0.99        73\n",
      "           9       0.95      0.91      0.93        67\n",
      "          10       0.87      0.91      0.89        66\n",
      "          11       0.86      0.96      0.91        57\n",
      "          12       0.96      0.97      0.96        70\n",
      "          13       0.91      0.92      0.91        63\n",
      "          14       0.93      0.94      0.93        83\n",
      "          15       1.00      0.97      0.98        67\n",
      "          16       0.97      0.95      0.96        65\n",
      "          17       0.92      0.91      0.91        64\n",
      "          18       0.95      0.91      0.93        64\n",
      "          19       0.87      0.92      0.89        74\n",
      "          20       0.96      0.97      0.97        72\n",
      "          21       0.86      0.86      0.86        59\n",
      "          22       0.99      0.97      0.98        80\n",
      "          23       0.93      0.86      0.90        74\n",
      "          24       0.80      0.68      0.74        60\n",
      "          25       0.97      0.98      0.98        62\n",
      "          26       0.92      0.88      0.90        65\n",
      "          27       0.93      0.96      0.94        69\n",
      "          28       0.93      0.93      0.93        61\n",
      "          29       1.00      0.98      0.99        63\n",
      "          30       0.94      0.94      0.94        54\n",
      "          31       0.82      0.74      0.78        66\n",
      "          32       0.99      0.94      0.96        72\n",
      "          33       0.89      0.91      0.90        68\n",
      "          34       0.98      0.95      0.97        61\n",
      "          35       0.92      1.00      0.96        70\n",
      "          36       0.92      0.86      0.88        76\n",
      "          37       0.87      0.86      0.86        78\n",
      "          38       0.90      0.91      0.90        85\n",
      "          39       0.91      0.93      0.92        76\n",
      "          40       0.87      0.88      0.87        67\n",
      "          41       0.89      0.94      0.92        71\n",
      "          42       0.99      0.97      0.98        70\n",
      "          43       0.93      0.93      0.93        73\n",
      "          44       0.99      0.89      0.94        76\n",
      "          45       1.00      1.00      1.00        62\n",
      "          46       1.00      0.97      0.99        73\n",
      "          47       0.86      0.87      0.86        62\n",
      "          48       0.85      0.87      0.86        67\n",
      "          49       0.86      0.91      0.88        53\n",
      "          50       0.65      0.75      0.69        56\n",
      "          51       1.00      1.00      1.00        72\n",
      "          52       1.00      1.00      1.00        70\n",
      "          53       0.88      0.81      0.85        64\n",
      "\n",
      "    accuracy                           0.92      3651\n",
      "   macro avg       0.92      0.92      0.92      3651\n",
      "weighted avg       0.92      0.92      0.92      3651\n",
      "\n",
      "[[58  0  0 ...  0  0  0]\n",
      " [ 0 67  0 ...  0  0  0]\n",
      " [ 0  0 61 ...  0  0  0]\n",
      " ...\n",
      " [ 0  0  0 ... 72  0  0]\n",
      " [ 0  0  0 ...  0 70  0]\n",
      " [ 0  0  2 ...  0  0 52]]\n"
     ]
    }
   ],
   "source": [
    "x_train,x_test,y_train,y_test=train_test_split(x,y,test_size=0.2,random_state=53)\n",
    "rf.fit(x_train,y_train)\n",
    "predrf=rf.predict(x_test)\n",
    "acc_l=classification_report(y_test,predrf)\n",
    "print(acc_l)\n",
    "print(confusion_matrix(y_test,predrf))"
   ]
  },
  {
   "cell_type": "markdown",
   "id": "e4a4a2d1",
   "metadata": {},
   "source": [
    "Accuracy score is 92%"
   ]
  },
  {
   "cell_type": "markdown",
   "id": "5f1df666",
   "metadata": {},
   "source": [
    "# Cross Validation Score"
   ]
  },
  {
   "cell_type": "code",
   "execution_count": 62,
   "id": "fe463973",
   "metadata": {},
   "outputs": [
    {
     "name": "stdout",
     "output_type": "stream",
     "text": [
      "CV score and it's mean of Logistic Regression: 0.3594170549611334 Accuracy score: 0.017803341550260202\n",
      "CV score and it's mean of Decision Tree Classifier: 0.6451256492973814 Accuracy score: 0.015612161051766639\n",
      "CV score and it's mean of Support Vector Classfier: 0.3566215317174494 Accuracy score: 0.01972062448644207\n",
      "CV score and it's mean of Random Forest: 0.8022037688161281 Accuarcy score: 0.9197480142426733\n"
     ]
    }
   ],
   "source": [
    "print(\"CV score and it's mean of Logistic Regression:\",cross_val_score(lr,x,y,cv=8).mean(),\"Accuracy score:\",accuracy_score(y_test,predlr))\n",
    "print(\"CV score and it's mean of Decision Tree Classifier:\",cross_val_score(dt,x,y,cv=8).mean(),\"Accuracy score:\",accuracy_score(y_test,preddt))\n",
    "print(\"CV score and it's mean of Support Vector Classfier:\",cross_val_score(sv,x,y,cv=8).mean(),\"Accuracy score:\",accuracy_score(y_test,predsv))\n",
    "print(\"CV score and it's mean of Random Forest:\",cross_val_score(rf,x,y,cv=8).mean(),\"Accuarcy score:\",accuracy_score(y_test,predrf))"
   ]
  },
  {
   "cell_type": "markdown",
   "id": "7d91f605",
   "metadata": {},
   "source": [
    "Least difference in cv score and accuracy score is Random forest classifier so I prefer random forest classifier"
   ]
  },
  {
   "cell_type": "markdown",
   "id": "987d5fe2",
   "metadata": {},
   "source": [
    "# Hyper Parameter Tuning"
   ]
  },
  {
   "cell_type": "code",
   "execution_count": 63,
   "id": "2ce1d36d",
   "metadata": {},
   "outputs": [],
   "source": [
    "parameter={'n_estimators': np.arange(30,50),\n",
    "           'max_depth':np.arange(2,7),\n",
    "          'criterion':['gini','entropy'],'max_features':['auto', 'sqrt', 'log2']}"
   ]
  },
  {
   "cell_type": "markdown",
   "id": "e173d3c9",
   "metadata": {},
   "source": [
    "Stored parameters in variable"
   ]
  },
  {
   "cell_type": "code",
   "execution_count": 64,
   "id": "42e80e58",
   "metadata": {},
   "outputs": [],
   "source": [
    "gv=GridSearchCV(rf,parameter,cv=6)"
   ]
  },
  {
   "cell_type": "markdown",
   "id": "7c5fc287",
   "metadata": {},
   "source": [
    "Instance variable of grid search cv"
   ]
  },
  {
   "cell_type": "code",
   "execution_count": null,
   "id": "2285e852",
   "metadata": {},
   "outputs": [],
   "source": [
    "gv.fit(x_train,y_train)"
   ]
  },
  {
   "cell_type": "markdown",
   "id": "5b136694",
   "metadata": {},
   "source": [
    "Fitted data"
   ]
  },
  {
   "cell_type": "code",
   "execution_count": null,
   "id": "abfb2ea2",
   "metadata": {},
   "outputs": [],
   "source": [
    "gv.best_params_"
   ]
  },
  {
   "cell_type": "markdown",
   "id": "14bc831a",
   "metadata": {},
   "source": [
    "Best parameters"
   ]
  },
  {
   "cell_type": "code",
   "execution_count": 16,
   "id": "3d1a921c",
   "metadata": {},
   "outputs": [
    {
     "name": "stdout",
     "output_type": "stream",
     "text": [
      "82.77449046679816\n"
     ]
    }
   ],
   "source": [
    "best=RandomForestClassifier(criterion='entropy',max_depth=9,max_features='auto',n_estimators=26)\n",
    "best.fit(x_train,y_train)\n",
    "predbest=best.predict(x_test)\n",
    "acc_b=(accuracy_score(y_test,predbest))\n",
    "print(acc_b*100)"
   ]
  },
  {
   "cell_type": "markdown",
   "id": "e99a0ae4",
   "metadata": {},
   "source": [
    "Apply best parameters "
   ]
  },
  {
   "cell_type": "markdown",
   "id": "2f5dafe9",
   "metadata": {},
   "source": [
    "# Saving model"
   ]
  },
  {
   "cell_type": "code",
   "execution_count": 17,
   "id": "375c8420",
   "metadata": {},
   "outputs": [
    {
     "data": {
      "text/plain": [
       "['Best_model.pkl']"
      ]
     },
     "execution_count": 17,
     "metadata": {},
     "output_type": "execute_result"
    }
   ],
   "source": [
    "import joblib as jb\n",
    "jb.dump(best,\"Best_model.pkl\")"
   ]
  },
  {
   "cell_type": "markdown",
   "id": "cbcd25a0",
   "metadata": {},
   "source": [
    "Saved into .pkl file"
   ]
  },
  {
   "cell_type": "markdown",
   "id": "10a01db0",
   "metadata": {},
   "source": [
    "# Conclusion"
   ]
  },
  {
   "cell_type": "code",
   "execution_count": 21,
   "id": "979ad437",
   "metadata": {},
   "outputs": [
    {
     "data": {
      "text/html": [
       "<div>\n",
       "<style scoped>\n",
       "    .dataframe tbody tr th:only-of-type {\n",
       "        vertical-align: middle;\n",
       "    }\n",
       "\n",
       "    .dataframe tbody tr th {\n",
       "        vertical-align: top;\n",
       "    }\n",
       "\n",
       "    .dataframe thead th {\n",
       "        text-align: right;\n",
       "    }\n",
       "</style>\n",
       "<table border=\"1\" class=\"dataframe\">\n",
       "  <thead>\n",
       "    <tr style=\"text-align: right;\">\n",
       "      <th></th>\n",
       "      <th>Original:</th>\n",
       "      <th>Predicted</th>\n",
       "    </tr>\n",
       "  </thead>\n",
       "  <tbody>\n",
       "    <tr>\n",
       "      <th>0</th>\n",
       "      <td>50</td>\n",
       "      <td>50</td>\n",
       "    </tr>\n",
       "    <tr>\n",
       "      <th>1</th>\n",
       "      <td>52</td>\n",
       "      <td>52</td>\n",
       "    </tr>\n",
       "    <tr>\n",
       "      <th>2</th>\n",
       "      <td>49</td>\n",
       "      <td>49</td>\n",
       "    </tr>\n",
       "    <tr>\n",
       "      <th>3</th>\n",
       "      <td>43</td>\n",
       "      <td>43</td>\n",
       "    </tr>\n",
       "    <tr>\n",
       "      <th>4</th>\n",
       "      <td>5</td>\n",
       "      <td>5</td>\n",
       "    </tr>\n",
       "    <tr>\n",
       "      <th>...</th>\n",
       "      <td>...</td>\n",
       "      <td>...</td>\n",
       "    </tr>\n",
       "    <tr>\n",
       "      <th>4558</th>\n",
       "      <td>41</td>\n",
       "      <td>41</td>\n",
       "    </tr>\n",
       "    <tr>\n",
       "      <th>4559</th>\n",
       "      <td>10</td>\n",
       "      <td>10</td>\n",
       "    </tr>\n",
       "    <tr>\n",
       "      <th>4560</th>\n",
       "      <td>51</td>\n",
       "      <td>51</td>\n",
       "    </tr>\n",
       "    <tr>\n",
       "      <th>4561</th>\n",
       "      <td>7</td>\n",
       "      <td>7</td>\n",
       "    </tr>\n",
       "    <tr>\n",
       "      <th>4562</th>\n",
       "      <td>39</td>\n",
       "      <td>39</td>\n",
       "    </tr>\n",
       "  </tbody>\n",
       "</table>\n",
       "<p>4563 rows × 2 columns</p>\n",
       "</div>"
      ],
      "text/plain": [
       "      Original:  Predicted\n",
       "0            50         50\n",
       "1            52         52\n",
       "2            49         49\n",
       "3            43         43\n",
       "4             5          5\n",
       "...         ...        ...\n",
       "4558         41         41\n",
       "4559         10         10\n",
       "4560         51         51\n",
       "4561          7          7\n",
       "4562         39         39\n",
       "\n",
       "[4563 rows x 2 columns]"
      ]
     },
     "execution_count": 21,
     "metadata": {},
     "output_type": "execute_result"
    }
   ],
   "source": [
    "a=np.array(y_test)\n",
    "predicted=np.array(best.predict(x_test))\n",
    "HR=pd.DataFrame({\"Original:\":a,\"Predicted\":predicted},index=range(len(a)))\n",
    "HR"
   ]
  },
  {
   "cell_type": "markdown",
   "id": "82e454b9",
   "metadata": {},
   "source": [
    "Original and predicted value"
   ]
  }
 ],
 "metadata": {
  "kernelspec": {
   "display_name": "Python 3",
   "language": "python",
   "name": "python3"
  },
  "language_info": {
   "codemirror_mode": {
    "name": "ipython",
    "version": 3
   },
   "file_extension": ".py",
   "mimetype": "text/x-python",
   "name": "python",
   "nbconvert_exporter": "python",
   "pygments_lexer": "ipython3",
   "version": "3.8.8"
  }
 },
 "nbformat": 4,
 "nbformat_minor": 5
}
