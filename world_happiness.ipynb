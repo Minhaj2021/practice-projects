{
 "cells": [
  {
   "cell_type": "markdown",
   "id": "49536cfc",
   "metadata": {},
   "source": [
    "# World Happiness Report"
   ]
  },
  {
   "cell_type": "code",
   "execution_count": null,
   "id": "0aaffada",
   "metadata": {},
   "outputs": [],
   "source": [
    "#importing modules\n",
    "import pandas as pd\n",
    "import matplotlib.pyplot as plt\n",
    "import seaborn as sns\n",
    "import numpy as np\n",
    "from sklearn.preprocessing import OrdinalEncoder\n",
    "import warnings\n",
    "warnings.filterwarnings('ignore')"
   ]
  },
  {
   "cell_type": "code",
   "execution_count": null,
   "id": "5e7d8a26",
   "metadata": {
    "scrolled": true
   },
   "outputs": [],
   "source": [
    "#importing csv file\n",
    "wh=pd.read_csv('world_happiness.csv')\n",
    "wh.head(4)"
   ]
  },
  {
   "cell_type": "markdown",
   "id": "8ea8800d",
   "metadata": {},
   "source": [
    "Here we can observe  that the model is regression model."
   ]
  },
  {
   "cell_type": "markdown",
   "id": "afd99938",
   "metadata": {},
   "source": [
    "# Describing the data"
   ]
  },
  {
   "cell_type": "code",
   "execution_count": null,
   "id": "bfa40500",
   "metadata": {
    "scrolled": true
   },
   "outputs": [],
   "source": [
    "wh.describe()"
   ]
  },
  {
   "cell_type": "code",
   "execution_count": null,
   "id": "4e30bec6",
   "metadata": {},
   "outputs": [],
   "source": [
    "wh.shape"
   ]
  },
  {
   "cell_type": "markdown",
   "id": "f434c8d3",
   "metadata": {},
   "source": [
    "We have 158 rows and 12 columns"
   ]
  },
  {
   "cell_type": "code",
   "execution_count": null,
   "id": "b42eea4c",
   "metadata": {},
   "outputs": [],
   "source": [
    "wh.dtypes"
   ]
  },
  {
   "cell_type": "markdown",
   "id": "ce420f8a",
   "metadata": {},
   "source": [
    "We have int float and object datatypes"
   ]
  },
  {
   "cell_type": "code",
   "execution_count": null,
   "id": "7ec80e78",
   "metadata": {},
   "outputs": [],
   "source": [
    "wh.isnull().sum()"
   ]
  },
  {
   "cell_type": "markdown",
   "id": "a3d8b697",
   "metadata": {},
   "source": [
    "we can see that there is no missing values"
   ]
  },
  {
   "cell_type": "markdown",
   "id": "6f663bad",
   "metadata": {},
   "source": [
    "Seperating inependent and target varaibles"
   ]
  },
  {
   "cell_type": "code",
   "execution_count": null,
   "id": "eb580ca8",
   "metadata": {},
   "outputs": [],
   "source": [
    "x=wh.drop(['Happiness Score'],axis=1)\n",
    "y=wh[['Happiness Score']]"
   ]
  },
  {
   "cell_type": "code",
   "execution_count": null,
   "id": "1c3c0cc8",
   "metadata": {},
   "outputs": [],
   "source": [
    "x.head(3)"
   ]
  },
  {
   "cell_type": "markdown",
   "id": "4963cb06",
   "metadata": {},
   "source": [
    "First three columns of independent variables"
   ]
  },
  {
   "cell_type": "code",
   "execution_count": null,
   "id": "d2dedb96",
   "metadata": {},
   "outputs": [],
   "source": [
    "y.head(3)"
   ]
  },
  {
   "cell_type": "markdown",
   "id": "82e9301b",
   "metadata": {},
   "source": [
    "First 3 columns of target variable"
   ]
  },
  {
   "cell_type": "markdown",
   "id": "3575e11c",
   "metadata": {},
   "source": [
    "# EDA"
   ]
  },
  {
   "cell_type": "markdown",
   "id": "cfe09d3f",
   "metadata": {},
   "source": [
    "# Univariate Analysis"
   ]
  },
  {
   "cell_type": "code",
   "execution_count": null,
   "id": "c4690796",
   "metadata": {},
   "outputs": [],
   "source": [
    "x.plot(kind='box',subplots=True,layout=(2,6),figsize=(8,8))\n",
    "plt.show()"
   ]
  },
  {
   "cell_type": "markdown",
   "id": "2dc7a0e9",
   "metadata": {},
   "source": [
    "we can observe that outliers are present in five columns"
   ]
  },
  {
   "cell_type": "code",
   "execution_count": null,
   "id": "212c0291",
   "metadata": {},
   "outputs": [],
   "source": [
    "sns.distplot(wh['Standard Error'])"
   ]
  },
  {
   "cell_type": "markdown",
   "id": "c24cb072",
   "metadata": {},
   "source": [
    "Normally distributed data in Standard error"
   ]
  },
  {
   "cell_type": "markdown",
   "id": "d890e399",
   "metadata": {},
   "source": [
    "# Bivariate Analysis"
   ]
  },
  {
   "cell_type": "code",
   "execution_count": null,
   "id": "19d70468",
   "metadata": {},
   "outputs": [],
   "source": [
    "plt.figure(figsize=[8,6])\n",
    "plt.title('Scatter Plot')\n",
    "sns.scatterplot(wh['Standard Error'],wh['Freedom'],hue=wh[\"Happiness Score\"])\n",
    "plt.show()"
   ]
  },
  {
   "cell_type": "markdown",
   "id": "39a056b3",
   "metadata": {},
   "source": [
    "We can observe that points are scattered randomly"
   ]
  },
  {
   "cell_type": "code",
   "execution_count": null,
   "id": "5102cf14",
   "metadata": {},
   "outputs": [],
   "source": [
    "plt.figure(figsize=[9,7])\n",
    "plt.title('Scatter Plot')\n",
    "sns.scatterplot(wh['Standard Error'],wh['Dystopia Residual'],hue=wh['Happiness Score'])\n",
    "plt.show()"
   ]
  },
  {
   "cell_type": "markdown",
   "id": "295a429c",
   "metadata": {},
   "source": [
    "Here also points are scattered randomly"
   ]
  },
  {
   "cell_type": "markdown",
   "id": "ba14eb67",
   "metadata": {},
   "source": [
    "# Multivariate Analysis"
   ]
  },
  {
   "cell_type": "code",
   "execution_count": null,
   "id": "c36c3ef2",
   "metadata": {},
   "outputs": [],
   "source": [
    "sns.pairplot(wh,\"Happiness Score\")"
   ]
  },
  {
   "cell_type": "markdown",
   "id": "ae99f3e4",
   "metadata": {},
   "source": [
    "we can observe that points are scattered randomly and some are not normally distributed"
   ]
  },
  {
   "cell_type": "markdown",
   "id": "cd7d5edc",
   "metadata": {},
   "source": [
    "# Encoding"
   ]
  },
  {
   "cell_type": "code",
   "execution_count": null,
   "id": "c6e87684",
   "metadata": {},
   "outputs": [],
   "source": [
    "wh['Region']=pd.get_dummies(wh.Region).values.tolist()"
   ]
  },
  {
   "cell_type": "markdown",
   "id": "54b95b2c",
   "metadata": {},
   "source": [
    "Dummy values using pandas get_dummies()"
   ]
  },
  {
   "cell_type": "code",
   "execution_count": null,
   "id": "007b51d9",
   "metadata": {},
   "outputs": [],
   "source": [
    "wh.columns"
   ]
  },
  {
   "cell_type": "markdown",
   "id": "9fe55239",
   "metadata": {},
   "source": [
    "Column names of our model"
   ]
  },
  {
   "cell_type": "code",
   "execution_count": null,
   "id": "d39d7441",
   "metadata": {},
   "outputs": [],
   "source": [
    "#correlation\n",
    "corr=wh.corr()"
   ]
  },
  {
   "cell_type": "markdown",
   "id": "94a961a0",
   "metadata": {},
   "source": [
    "Finding correlation using corr() function"
   ]
  },
  {
   "cell_type": "code",
   "execution_count": null,
   "id": "70e2b4ef",
   "metadata": {},
   "outputs": [],
   "source": [
    "corr"
   ]
  },
  {
   "cell_type": "markdown",
   "id": "54882a5a",
   "metadata": {},
   "source": [
    "we can observe that theer are some correation between columns"
   ]
  },
  {
   "cell_type": "code",
   "execution_count": null,
   "id": "0decce81",
   "metadata": {},
   "outputs": [],
   "source": [
    "sns.heatmap(corr,annot=True,linewidth=5,linecolor='b')"
   ]
  },
  {
   "cell_type": "markdown",
   "id": "ba9c43e6",
   "metadata": {},
   "source": [
    "We can observe the heatmap and some columns have best correlation"
   ]
  },
  {
   "cell_type": "markdown",
   "id": "4b1a572a",
   "metadata": {},
   "source": [
    "# Removing outliers"
   ]
  },
  {
   "cell_type": "code",
   "execution_count": null,
   "id": "3ee4a85c",
   "metadata": {},
   "outputs": [],
   "source": [
    "#importing module\n",
    "from scipy.stats import zscore\n",
    "\n",
    "z=np.abs(zscore(wh1))\n",
    "\n",
    "new_=wh1[(z<3)].all(axis=1)"
   ]
  },
  {
   "cell_type": "markdown",
   "id": "986fe4bb",
   "metadata": {},
   "source": [
    "# Outliers removed"
   ]
  },
  {
   "cell_type": "code",
   "execution_count": null,
   "id": "409abf5c",
   "metadata": {},
   "outputs": [],
   "source": [
    "#importing the modules for models \n",
    "from sklearn.tree import DecisionTreeRegressor\n",
    "from sklearn.neighbors import KNeighborsRegressor\n",
    "from sklearn.svm import SVR\n",
    "from sklearn.linear_model import LinearRegression\n",
    "from sklearn.metrics import r2_score\n",
    "from sklearn.model_selection import train_test_split"
   ]
  },
  {
   "cell_type": "code",
   "execution_count": null,
   "id": "0926294b",
   "metadata": {},
   "outputs": [],
   "source": [
    "x_train,x_test,y_train,y_test=train_test_split(x,y,test_size=0.28,random_state=46)"
   ]
  },
  {
   "cell_type": "code",
   "execution_count": null,
   "id": "85e67107",
   "metadata": {},
   "outputs": [],
   "source": [
    "x_train.shape"
   ]
  },
  {
   "cell_type": "code",
   "execution_count": null,
   "id": "06b2c856",
   "metadata": {},
   "outputs": [],
   "source": [
    "y_train.shape"
   ]
  },
  {
   "cell_type": "code",
   "execution_count": null,
   "id": "90103075",
   "metadata": {},
   "outputs": [],
   "source": [
    "#decisiontreeregressor\n",
    "DTR=DecisionTreeRegressor()\n",
    "DTR.fit(x_train,y_train)\n",
    "preddtr=DTR.predict(x_test)\n",
    "score=r2_score(y_test,preddtc)\n",
    "print(score)"
   ]
  },
  {
   "cell_type": "code",
   "execution_count": null,
   "id": "d6fb3604",
   "metadata": {},
   "outputs": [],
   "source": [
    "#Knn\n",
    "knn=KNearestRegressor()\n",
    "knn.fit(x_train,y_train)\n",
    "predknn=knn.predict(x_test)\n",
    "score=r2_score(y_test,predrfc)\n",
    "print(score)"
   ]
  },
  {
   "cell_type": "code",
   "execution_count": null,
   "id": "fbff6e53",
   "metadata": {},
   "outputs": [],
   "source": [
    "#Support vector machine\n",
    "kernellist=['linear','rbf','poly']\n",
    "for i in kernellist:\n",
    "    svr=SVR(kernel=i)\n",
    "    svr.fit(x_train,y_train)\n",
    "    predsvc=svc.predict(x_test)\n",
    "    score=classification_report(y_test,prdsvc)\n",
    "    print(score)"
   ]
  },
  {
   "cell_type": "code",
   "execution_count": null,
   "id": "7ad9e18f",
   "metadata": {},
   "outputs": [],
   "source": [
    "#linearregression\n",
    "LR=LinearRegression()\n",
    "LR.fit(x_train_y_train)\n",
    "predlr=LR.predict(x_test)\n",
    "score=r2_score(y_test,predlr)\n",
    "print(score)"
   ]
  },
  {
   "cell_type": "markdown",
   "id": "96f0bd54",
   "metadata": {},
   "source": [
    "# Cross validation score"
   ]
  },
  {
   "cell_type": "code",
   "execution_count": null,
   "id": "8b87be6a",
   "metadata": {},
   "outputs": [],
   "source": [
    "#importing modules\n",
    "from sklearn.model_selection import cross_val_score\n",
    "#checking mean of cross validation score of decision tree\n",
    "print(cross_val_score(DTR,x,y,cv=6).mean())\n",
    "\n",
    "#checking mean cross validation score of knn\n",
    "print(cross_val_score(knn,x,y,cv=6).mean())\n",
    "\n",
    "#checking mean cross validation score of support vector machine\n",
    "print(cross_val_score(svr,c,y,cv=6).mean())\n",
    "\n",
    "#checking mean cross validation score of linear regression\n",
    "print(cross_val_score(LR,x,y,cv=6).mean())"
   ]
  },
  {
   "cell_type": "markdown",
   "id": "071c456e",
   "metadata": {},
   "source": [
    "# Hyper Parameter Tuning"
   ]
  },
  {
   "cell_type": "code",
   "execution_count": null,
   "id": "60d6e63d",
   "metadata": {},
   "outputs": [],
   "source": [
    "#importing module for hyper parameter\n",
    "from sklearn.model_selection import GridSearchCV"
   ]
  },
  {
   "cell_type": "code",
   "execution_count": null,
   "id": "a1a1bda0",
   "metadata": {},
   "outputs": [],
   "source": [
    "parameter={}"
   ]
  },
  {
   "cell_type": "code",
   "execution_count": null,
   "id": "52903745",
   "metadata": {},
   "outputs": [],
   "source": [
    "GV=GridSearchCV(DTC,parameter,cv=7)\n",
    "gv.fit(x_train,y_train)"
   ]
  },
  {
   "cell_type": "code",
   "execution_count": null,
   "id": "5597be2d",
   "metadata": {},
   "outputs": [],
   "source": [
    "GV.best_params_"
   ]
  },
  {
   "cell_type": "code",
   "execution_count": null,
   "id": "418c67fe",
   "metadata": {},
   "outputs": [],
   "source": [
    "Ater performing hyperparameter select the best parameters and perform \n",
    "individually"
   ]
  },
  {
   "cell_type": "code",
   "execution_count": null,
   "id": "a41a377a",
   "metadata": {},
   "outputs": [],
   "source": [
    "result=DecisiontreeClassifier(criterion= 'gini')\n",
    "result.predict(x_train,y_train)\n",
    "predresult=result.predict(x_test)\n",
    "score=r2_score(y_test,predresult)\n",
    "print(score)"
   ]
  },
  {
   "cell_type": "markdown",
   "id": "a72edd14",
   "metadata": {},
   "source": [
    "# Saving the model"
   ]
  },
  {
   "cell_type": "code",
   "execution_count": null,
   "id": "11025359",
   "metadata": {},
   "outputs": [],
   "source": [
    "import joblib as jb\n",
    "jb.dump(result,'Best Regression model.pkl')"
   ]
  }
 ],
 "metadata": {
  "kernelspec": {
   "display_name": "Python 3",
   "language": "python",
   "name": "python3"
  },
  "language_info": {
   "codemirror_mode": {
    "name": "ipython",
    "version": 3
   },
   "file_extension": ".py",
   "mimetype": "text/x-python",
   "name": "python",
   "nbconvert_exporter": "python",
   "pygments_lexer": "ipython3",
   "version": "3.8.8"
  }
 },
 "nbformat": 4,
 "nbformat_minor": 5
}
